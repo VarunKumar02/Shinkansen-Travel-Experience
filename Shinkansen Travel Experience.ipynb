{
 "cells": [
  {
   "cell_type": "code",
   "execution_count": 72,
   "id": "1c7e890e",
   "metadata": {
    "ExecuteTime": {
     "end_time": "2022-04-23T09:05:47.941229Z",
     "start_time": "2022-04-23T09:05:47.918232Z"
    }
   },
   "outputs": [],
   "source": [
    "import numpy as np\n",
    "import pandas as pd\n",
    "import matplotlib.pyplot as plt\n",
    "%matplotlib inline\n",
    "import seaborn as sns\n",
    "plt.style.use('seaborn-darkgrid')\n",
    "from imblearn.over_sampling import SMOTE\n",
    "from sklearn.model_selection import train_test_split,GridSearchCV\n",
    "from sklearn.tree import DecisionTreeClassifier\n",
    "from sklearn.ensemble import BaggingClassifier,RandomForestClassifier,GradientBoostingClassifier,VotingClassifier,AdaBoostClassifier\n",
    "from sklearn.metrics import accuracy_score,confusion_matrix,classification_report,f1_score,roc_auc_score,roc_curve,plot_confusion_matrix\n",
    "from sklearn.naive_bayes import GaussianNB\n",
    "from sklearn.linear_model import LogisticRegression\n",
    "from sklearn.svm import SVC\n",
    "from sklearn.discriminant_analysis import LinearDiscriminantAnalysis\n",
    "from sklearn.neighbors import KNeighborsClassifier\n",
    "from warnings import filterwarnings \n",
    "filterwarnings(\"ignore\")"
   ]
  },
  {
   "cell_type": "code",
   "execution_count": 73,
   "id": "6030b77d",
   "metadata": {
    "ExecuteTime": {
     "end_time": "2022-04-23T09:05:51.481965Z",
     "start_time": "2022-04-23T09:05:47.974403Z"
    }
   },
   "outputs": [
    {
     "data": {
      "text/html": [
       "<div>\n",
       "<style scoped>\n",
       "    .dataframe tbody tr th:only-of-type {\n",
       "        vertical-align: middle;\n",
       "    }\n",
       "\n",
       "    .dataframe tbody tr th {\n",
       "        vertical-align: top;\n",
       "    }\n",
       "\n",
       "    .dataframe thead th {\n",
       "        text-align: right;\n",
       "    }\n",
       "</style>\n",
       "<table border=\"1\" class=\"dataframe\">\n",
       "  <thead>\n",
       "    <tr style=\"text-align: right;\">\n",
       "      <th></th>\n",
       "      <th>ID</th>\n",
       "      <th>Overall_Experience</th>\n",
       "      <th>Seat_comfort</th>\n",
       "      <th>Seat_Class</th>\n",
       "      <th>Arrival_time_convenient</th>\n",
       "      <th>Catering</th>\n",
       "      <th>Platform_location</th>\n",
       "      <th>Onboardwifi_service</th>\n",
       "      <th>Onboard_entertainment</th>\n",
       "      <th>Online_support</th>\n",
       "      <th>Onlinebooking_Ease</th>\n",
       "      <th>Onboard_service</th>\n",
       "      <th>Leg_room</th>\n",
       "      <th>Baggage_handling</th>\n",
       "      <th>Checkin_service</th>\n",
       "      <th>Cleanliness</th>\n",
       "      <th>Online_boarding</th>\n",
       "    </tr>\n",
       "  </thead>\n",
       "  <tbody>\n",
       "    <tr>\n",
       "      <th>0</th>\n",
       "      <td>98800001</td>\n",
       "      <td>0</td>\n",
       "      <td>need improvement</td>\n",
       "      <td>Green Car</td>\n",
       "      <td>excellent</td>\n",
       "      <td>excellent</td>\n",
       "      <td>very convinient</td>\n",
       "      <td>good</td>\n",
       "      <td>need improvement</td>\n",
       "      <td>acceptable</td>\n",
       "      <td>need improvement</td>\n",
       "      <td>need improvement</td>\n",
       "      <td>acceptable</td>\n",
       "      <td>need improvement</td>\n",
       "      <td>good</td>\n",
       "      <td>need improvement</td>\n",
       "      <td>poor</td>\n",
       "    </tr>\n",
       "    <tr>\n",
       "      <th>1</th>\n",
       "      <td>98800002</td>\n",
       "      <td>0</td>\n",
       "      <td>poor</td>\n",
       "      <td>Ordinary</td>\n",
       "      <td>excellent</td>\n",
       "      <td>poor</td>\n",
       "      <td>need improvement</td>\n",
       "      <td>good</td>\n",
       "      <td>poor</td>\n",
       "      <td>good</td>\n",
       "      <td>good</td>\n",
       "      <td>excellent</td>\n",
       "      <td>need improvement</td>\n",
       "      <td>poor</td>\n",
       "      <td>need improvement</td>\n",
       "      <td>good</td>\n",
       "      <td>good</td>\n",
       "    </tr>\n",
       "    <tr>\n",
       "      <th>2</th>\n",
       "      <td>98800003</td>\n",
       "      <td>1</td>\n",
       "      <td>need improvement</td>\n",
       "      <td>Green Car</td>\n",
       "      <td>need improvement</td>\n",
       "      <td>need improvement</td>\n",
       "      <td>need improvement</td>\n",
       "      <td>need improvement</td>\n",
       "      <td>good</td>\n",
       "      <td>excellent</td>\n",
       "      <td>excellent</td>\n",
       "      <td>excellent</td>\n",
       "      <td>excellent</td>\n",
       "      <td>excellent</td>\n",
       "      <td>good</td>\n",
       "      <td>excellent</td>\n",
       "      <td>excellent</td>\n",
       "    </tr>\n",
       "    <tr>\n",
       "      <th>3</th>\n",
       "      <td>98800004</td>\n",
       "      <td>0</td>\n",
       "      <td>acceptable</td>\n",
       "      <td>Ordinary</td>\n",
       "      <td>need improvement</td>\n",
       "      <td>NaN</td>\n",
       "      <td>need improvement</td>\n",
       "      <td>acceptable</td>\n",
       "      <td>need improvement</td>\n",
       "      <td>acceptable</td>\n",
       "      <td>acceptable</td>\n",
       "      <td>acceptable</td>\n",
       "      <td>acceptable</td>\n",
       "      <td>acceptable</td>\n",
       "      <td>good</td>\n",
       "      <td>acceptable</td>\n",
       "      <td>acceptable</td>\n",
       "    </tr>\n",
       "    <tr>\n",
       "      <th>4</th>\n",
       "      <td>98800005</td>\n",
       "      <td>1</td>\n",
       "      <td>acceptable</td>\n",
       "      <td>Ordinary</td>\n",
       "      <td>acceptable</td>\n",
       "      <td>acceptable</td>\n",
       "      <td>manageable</td>\n",
       "      <td>need improvement</td>\n",
       "      <td>good</td>\n",
       "      <td>excellent</td>\n",
       "      <td>good</td>\n",
       "      <td>good</td>\n",
       "      <td>good</td>\n",
       "      <td>good</td>\n",
       "      <td>good</td>\n",
       "      <td>good</td>\n",
       "      <td>good</td>\n",
       "    </tr>\n",
       "  </tbody>\n",
       "</table>\n",
       "</div>"
      ],
      "text/plain": [
       "         ID  Overall_Experience      Seat_comfort Seat_Class  \\\n",
       "0  98800001                   0  need improvement  Green Car   \n",
       "1  98800002                   0              poor   Ordinary   \n",
       "2  98800003                   1  need improvement  Green Car   \n",
       "3  98800004                   0        acceptable   Ordinary   \n",
       "4  98800005                   1        acceptable   Ordinary   \n",
       "\n",
       "  Arrival_time_convenient          Catering Platform_location  \\\n",
       "0               excellent         excellent   very convinient   \n",
       "1               excellent              poor  need improvement   \n",
       "2        need improvement  need improvement  need improvement   \n",
       "3        need improvement               NaN  need improvement   \n",
       "4              acceptable        acceptable        manageable   \n",
       "\n",
       "  Onboardwifi_service Onboard_entertainment Online_support Onlinebooking_Ease  \\\n",
       "0                good      need improvement     acceptable   need improvement   \n",
       "1                good                  poor           good               good   \n",
       "2    need improvement                  good      excellent          excellent   \n",
       "3          acceptable      need improvement     acceptable         acceptable   \n",
       "4    need improvement                  good      excellent               good   \n",
       "\n",
       "    Onboard_service          Leg_room  Baggage_handling   Checkin_service  \\\n",
       "0  need improvement        acceptable  need improvement              good   \n",
       "1         excellent  need improvement              poor  need improvement   \n",
       "2         excellent         excellent         excellent              good   \n",
       "3        acceptable        acceptable        acceptable              good   \n",
       "4              good              good              good              good   \n",
       "\n",
       "        Cleanliness Online_boarding  \n",
       "0  need improvement            poor  \n",
       "1              good            good  \n",
       "2         excellent       excellent  \n",
       "3        acceptable      acceptable  \n",
       "4              good            good  "
      ]
     },
     "metadata": {},
     "output_type": "display_data"
    },
    {
     "data": {
      "text/html": [
       "<div>\n",
       "<style scoped>\n",
       "    .dataframe tbody tr th:only-of-type {\n",
       "        vertical-align: middle;\n",
       "    }\n",
       "\n",
       "    .dataframe tbody tr th {\n",
       "        vertical-align: top;\n",
       "    }\n",
       "\n",
       "    .dataframe thead th {\n",
       "        text-align: right;\n",
       "    }\n",
       "</style>\n",
       "<table border=\"1\" class=\"dataframe\">\n",
       "  <thead>\n",
       "    <tr style=\"text-align: right;\">\n",
       "      <th></th>\n",
       "      <th>ID</th>\n",
       "      <th>Seat_comfort</th>\n",
       "      <th>Seat_Class</th>\n",
       "      <th>Arrival_time_convenient</th>\n",
       "      <th>Catering</th>\n",
       "      <th>Platform_location</th>\n",
       "      <th>Onboardwifi_service</th>\n",
       "      <th>Onboard_entertainment</th>\n",
       "      <th>Online_support</th>\n",
       "      <th>Onlinebooking_Ease</th>\n",
       "      <th>Onboard_service</th>\n",
       "      <th>Leg_room</th>\n",
       "      <th>Baggage_handling</th>\n",
       "      <th>Checkin_service</th>\n",
       "      <th>Cleanliness</th>\n",
       "      <th>Online_boarding</th>\n",
       "    </tr>\n",
       "  </thead>\n",
       "  <tbody>\n",
       "    <tr>\n",
       "      <th>0</th>\n",
       "      <td>99900001</td>\n",
       "      <td>acceptable</td>\n",
       "      <td>Green Car</td>\n",
       "      <td>acceptable</td>\n",
       "      <td>acceptable</td>\n",
       "      <td>manageable</td>\n",
       "      <td>need improvement</td>\n",
       "      <td>excellent</td>\n",
       "      <td>good</td>\n",
       "      <td>excellent</td>\n",
       "      <td>excellent</td>\n",
       "      <td>excellent</td>\n",
       "      <td>excellent</td>\n",
       "      <td>good</td>\n",
       "      <td>excellent</td>\n",
       "      <td>poor</td>\n",
       "    </tr>\n",
       "    <tr>\n",
       "      <th>1</th>\n",
       "      <td>99900002</td>\n",
       "      <td>extremely poor</td>\n",
       "      <td>Ordinary</td>\n",
       "      <td>good</td>\n",
       "      <td>poor</td>\n",
       "      <td>manageable</td>\n",
       "      <td>acceptable</td>\n",
       "      <td>poor</td>\n",
       "      <td>acceptable</td>\n",
       "      <td>acceptable</td>\n",
       "      <td>excellent</td>\n",
       "      <td>acceptable</td>\n",
       "      <td>good</td>\n",
       "      <td>acceptable</td>\n",
       "      <td>excellent</td>\n",
       "      <td>acceptable</td>\n",
       "    </tr>\n",
       "    <tr>\n",
       "      <th>2</th>\n",
       "      <td>99900003</td>\n",
       "      <td>excellent</td>\n",
       "      <td>Ordinary</td>\n",
       "      <td>excellent</td>\n",
       "      <td>excellent</td>\n",
       "      <td>very convinient</td>\n",
       "      <td>excellent</td>\n",
       "      <td>excellent</td>\n",
       "      <td>excellent</td>\n",
       "      <td>need improvement</td>\n",
       "      <td>need improvement</td>\n",
       "      <td>need improvement</td>\n",
       "      <td>need improvement</td>\n",
       "      <td>good</td>\n",
       "      <td>need improvement</td>\n",
       "      <td>excellent</td>\n",
       "    </tr>\n",
       "    <tr>\n",
       "      <th>3</th>\n",
       "      <td>99900004</td>\n",
       "      <td>acceptable</td>\n",
       "      <td>Green Car</td>\n",
       "      <td>excellent</td>\n",
       "      <td>acceptable</td>\n",
       "      <td>very convinient</td>\n",
       "      <td>poor</td>\n",
       "      <td>acceptable</td>\n",
       "      <td>excellent</td>\n",
       "      <td>poor</td>\n",
       "      <td>acceptable</td>\n",
       "      <td>need improvement</td>\n",
       "      <td>excellent</td>\n",
       "      <td>excellent</td>\n",
       "      <td>excellent</td>\n",
       "      <td>poor</td>\n",
       "    </tr>\n",
       "    <tr>\n",
       "      <th>4</th>\n",
       "      <td>99900005</td>\n",
       "      <td>excellent</td>\n",
       "      <td>Ordinary</td>\n",
       "      <td>extremely poor</td>\n",
       "      <td>excellent</td>\n",
       "      <td>need improvement</td>\n",
       "      <td>excellent</td>\n",
       "      <td>excellent</td>\n",
       "      <td>excellent</td>\n",
       "      <td>excellent</td>\n",
       "      <td>NaN</td>\n",
       "      <td>acceptable</td>\n",
       "      <td>excellent</td>\n",
       "      <td>excellent</td>\n",
       "      <td>excellent</td>\n",
       "      <td>excellent</td>\n",
       "    </tr>\n",
       "  </tbody>\n",
       "</table>\n",
       "</div>"
      ],
      "text/plain": [
       "         ID    Seat_comfort Seat_Class Arrival_time_convenient    Catering  \\\n",
       "0  99900001      acceptable  Green Car              acceptable  acceptable   \n",
       "1  99900002  extremely poor   Ordinary                    good        poor   \n",
       "2  99900003       excellent   Ordinary               excellent   excellent   \n",
       "3  99900004      acceptable  Green Car               excellent  acceptable   \n",
       "4  99900005       excellent   Ordinary          extremely poor   excellent   \n",
       "\n",
       "  Platform_location Onboardwifi_service Onboard_entertainment Online_support  \\\n",
       "0        manageable    need improvement             excellent           good   \n",
       "1        manageable          acceptable                  poor     acceptable   \n",
       "2   very convinient           excellent             excellent      excellent   \n",
       "3   very convinient                poor            acceptable      excellent   \n",
       "4  need improvement           excellent             excellent      excellent   \n",
       "\n",
       "  Onlinebooking_Ease   Onboard_service          Leg_room  Baggage_handling  \\\n",
       "0          excellent         excellent         excellent         excellent   \n",
       "1         acceptable         excellent        acceptable              good   \n",
       "2   need improvement  need improvement  need improvement  need improvement   \n",
       "3               poor        acceptable  need improvement         excellent   \n",
       "4          excellent               NaN        acceptable         excellent   \n",
       "\n",
       "  Checkin_service       Cleanliness Online_boarding  \n",
       "0            good         excellent            poor  \n",
       "1      acceptable         excellent      acceptable  \n",
       "2            good  need improvement       excellent  \n",
       "3       excellent         excellent            poor  \n",
       "4       excellent         excellent       excellent  "
      ]
     },
     "metadata": {},
     "output_type": "display_data"
    }
   ],
   "source": [
    "survey_df_train=pd.read_csv('Surveydata_train.csv')\n",
    "survey_df_test=pd.read_csv('Surveydata_test.csv')\n",
    "display(survey_df_train.head())\n",
    "display(survey_df_test.head())"
   ]
  },
  {
   "cell_type": "code",
   "execution_count": 74,
   "id": "3a5483fa",
   "metadata": {
    "ExecuteTime": {
     "end_time": "2022-04-23T09:05:51.784643Z",
     "start_time": "2022-04-23T09:05:51.498595Z"
    }
   },
   "outputs": [
    {
     "name": "stdout",
     "output_type": "stream",
     "text": [
      "<class 'pandas.core.frame.DataFrame'>\n",
      "RangeIndex: 94379 entries, 0 to 94378\n",
      "Data columns (total 17 columns):\n",
      " #   Column                   Non-Null Count  Dtype \n",
      "---  ------                   --------------  ----- \n",
      " 0   ID                       94379 non-null  int64 \n",
      " 1   Overall_Experience       94379 non-null  int64 \n",
      " 2   Seat_comfort             94318 non-null  object\n",
      " 3   Seat_Class               94379 non-null  object\n",
      " 4   Arrival_time_convenient  85449 non-null  object\n",
      " 5   Catering                 85638 non-null  object\n",
      " 6   Platform_location        94349 non-null  object\n",
      " 7   Onboardwifi_service      94349 non-null  object\n",
      " 8   Onboard_entertainment    94361 non-null  object\n",
      " 9   Online_support           94288 non-null  object\n",
      " 10  Onlinebooking_Ease       94306 non-null  object\n",
      " 11  Onboard_service          86778 non-null  object\n",
      " 12  Leg_room                 94289 non-null  object\n",
      " 13  Baggage_handling         94237 non-null  object\n",
      " 14  Checkin_service          94302 non-null  object\n",
      " 15  Cleanliness              94373 non-null  object\n",
      " 16  Online_boarding          94373 non-null  object\n",
      "dtypes: int64(2), object(15)\n",
      "memory usage: 12.2+ MB\n"
     ]
    },
    {
     "data": {
      "text/plain": [
       "None"
      ]
     },
     "metadata": {},
     "output_type": "display_data"
    },
    {
     "name": "stdout",
     "output_type": "stream",
     "text": [
      "<class 'pandas.core.frame.DataFrame'>\n",
      "RangeIndex: 35602 entries, 0 to 35601\n",
      "Data columns (total 16 columns):\n",
      " #   Column                   Non-Null Count  Dtype \n",
      "---  ------                   --------------  ----- \n",
      " 0   ID                       35602 non-null  int64 \n",
      " 1   Seat_comfort             35580 non-null  object\n",
      " 2   Seat_Class               35602 non-null  object\n",
      " 3   Arrival_time_convenient  32277 non-null  object\n",
      " 4   Catering                 32245 non-null  object\n",
      " 5   Platform_location        35590 non-null  object\n",
      " 6   Onboardwifi_service      35590 non-null  object\n",
      " 7   Onboard_entertainment    35594 non-null  object\n",
      " 8   Online_support           35576 non-null  object\n",
      " 9   Onlinebooking_Ease       35584 non-null  object\n",
      " 10  Onboard_service          32730 non-null  object\n",
      " 11  Leg_room                 35577 non-null  object\n",
      " 12  Baggage_handling         35562 non-null  object\n",
      " 13  Checkin_service          35580 non-null  object\n",
      " 14  Cleanliness              35600 non-null  object\n",
      " 15  Online_boarding          35600 non-null  object\n",
      "dtypes: int64(1), object(15)\n",
      "memory usage: 4.3+ MB\n"
     ]
    },
    {
     "data": {
      "text/plain": [
       "None"
      ]
     },
     "metadata": {},
     "output_type": "display_data"
    }
   ],
   "source": [
    "display(survey_df_train.info())\n",
    "display(survey_df_test.info())"
   ]
  },
  {
   "cell_type": "code",
   "execution_count": 75,
   "id": "6c1c2156",
   "metadata": {
    "ExecuteTime": {
     "end_time": "2022-04-23T09:05:51.859444Z",
     "start_time": "2022-04-23T09:05:51.819685Z"
    }
   },
   "outputs": [
    {
     "data": {
      "text/plain": [
       "(94379, 17)"
      ]
     },
     "metadata": {},
     "output_type": "display_data"
    },
    {
     "data": {
      "text/plain": [
       "(35602, 16)"
      ]
     },
     "metadata": {},
     "output_type": "display_data"
    }
   ],
   "source": [
    "display(survey_df_train.shape)\n",
    "display(survey_df_test.shape)"
   ]
  },
  {
   "cell_type": "code",
   "execution_count": 76,
   "id": "669fd046",
   "metadata": {
    "ExecuteTime": {
     "end_time": "2022-04-23T09:05:52.525034Z",
     "start_time": "2022-04-23T09:05:51.903435Z"
    }
   },
   "outputs": [
    {
     "data": {
      "text/html": [
       "<div>\n",
       "<style scoped>\n",
       "    .dataframe tbody tr th:only-of-type {\n",
       "        vertical-align: middle;\n",
       "    }\n",
       "\n",
       "    .dataframe tbody tr th {\n",
       "        vertical-align: top;\n",
       "    }\n",
       "\n",
       "    .dataframe thead th {\n",
       "        text-align: right;\n",
       "    }\n",
       "</style>\n",
       "<table border=\"1\" class=\"dataframe\">\n",
       "  <thead>\n",
       "    <tr style=\"text-align: right;\">\n",
       "      <th></th>\n",
       "      <th>Seat_comfort</th>\n",
       "      <th>Seat_Class</th>\n",
       "      <th>Arrival_time_convenient</th>\n",
       "      <th>Catering</th>\n",
       "      <th>Platform_location</th>\n",
       "      <th>Onboardwifi_service</th>\n",
       "      <th>Onboard_entertainment</th>\n",
       "      <th>Online_support</th>\n",
       "      <th>Onlinebooking_Ease</th>\n",
       "      <th>Onboard_service</th>\n",
       "      <th>Leg_room</th>\n",
       "      <th>Baggage_handling</th>\n",
       "      <th>Checkin_service</th>\n",
       "      <th>Cleanliness</th>\n",
       "      <th>Online_boarding</th>\n",
       "    </tr>\n",
       "  </thead>\n",
       "  <tbody>\n",
       "    <tr>\n",
       "      <th>count</th>\n",
       "      <td>94318</td>\n",
       "      <td>94379</td>\n",
       "      <td>85449</td>\n",
       "      <td>85638</td>\n",
       "      <td>94349</td>\n",
       "      <td>94349</td>\n",
       "      <td>94361</td>\n",
       "      <td>94288</td>\n",
       "      <td>94306</td>\n",
       "      <td>86778</td>\n",
       "      <td>94289</td>\n",
       "      <td>94237</td>\n",
       "      <td>94302</td>\n",
       "      <td>94373</td>\n",
       "      <td>94373</td>\n",
       "    </tr>\n",
       "    <tr>\n",
       "      <th>unique</th>\n",
       "      <td>6</td>\n",
       "      <td>2</td>\n",
       "      <td>6</td>\n",
       "      <td>6</td>\n",
       "      <td>6</td>\n",
       "      <td>6</td>\n",
       "      <td>6</td>\n",
       "      <td>6</td>\n",
       "      <td>6</td>\n",
       "      <td>6</td>\n",
       "      <td>6</td>\n",
       "      <td>5</td>\n",
       "      <td>6</td>\n",
       "      <td>6</td>\n",
       "      <td>6</td>\n",
       "    </tr>\n",
       "    <tr>\n",
       "      <th>top</th>\n",
       "      <td>acceptable</td>\n",
       "      <td>Green Car</td>\n",
       "      <td>good</td>\n",
       "      <td>acceptable</td>\n",
       "      <td>manageable</td>\n",
       "      <td>good</td>\n",
       "      <td>good</td>\n",
       "      <td>good</td>\n",
       "      <td>good</td>\n",
       "      <td>good</td>\n",
       "      <td>good</td>\n",
       "      <td>good</td>\n",
       "      <td>good</td>\n",
       "      <td>good</td>\n",
       "      <td>good</td>\n",
       "    </tr>\n",
       "    <tr>\n",
       "      <th>freq</th>\n",
       "      <td>21158</td>\n",
       "      <td>47435</td>\n",
       "      <td>19574</td>\n",
       "      <td>18468</td>\n",
       "      <td>24173</td>\n",
       "      <td>22835</td>\n",
       "      <td>30446</td>\n",
       "      <td>30016</td>\n",
       "      <td>28909</td>\n",
       "      <td>27265</td>\n",
       "      <td>28870</td>\n",
       "      <td>34944</td>\n",
       "      <td>26502</td>\n",
       "      <td>35427</td>\n",
       "      <td>25533</td>\n",
       "    </tr>\n",
       "  </tbody>\n",
       "</table>\n",
       "</div>"
      ],
      "text/plain": [
       "       Seat_comfort Seat_Class Arrival_time_convenient    Catering  \\\n",
       "count         94318      94379                   85449       85638   \n",
       "unique            6          2                       6           6   \n",
       "top      acceptable  Green Car                    good  acceptable   \n",
       "freq          21158      47435                   19574       18468   \n",
       "\n",
       "       Platform_location Onboardwifi_service Onboard_entertainment  \\\n",
       "count              94349               94349                 94361   \n",
       "unique                 6                   6                     6   \n",
       "top           manageable                good                  good   \n",
       "freq               24173               22835                 30446   \n",
       "\n",
       "       Online_support Onlinebooking_Ease Onboard_service Leg_room  \\\n",
       "count           94288              94306           86778    94289   \n",
       "unique              6                  6               6        6   \n",
       "top              good               good            good     good   \n",
       "freq            30016              28909           27265    28870   \n",
       "\n",
       "       Baggage_handling Checkin_service Cleanliness Online_boarding  \n",
       "count             94237           94302       94373           94373  \n",
       "unique                5               6           6               6  \n",
       "top                good            good        good            good  \n",
       "freq              34944           26502       35427           25533  "
      ]
     },
     "metadata": {},
     "output_type": "display_data"
    },
    {
     "data": {
      "text/html": [
       "<div>\n",
       "<style scoped>\n",
       "    .dataframe tbody tr th:only-of-type {\n",
       "        vertical-align: middle;\n",
       "    }\n",
       "\n",
       "    .dataframe tbody tr th {\n",
       "        vertical-align: top;\n",
       "    }\n",
       "\n",
       "    .dataframe thead th {\n",
       "        text-align: right;\n",
       "    }\n",
       "</style>\n",
       "<table border=\"1\" class=\"dataframe\">\n",
       "  <thead>\n",
       "    <tr style=\"text-align: right;\">\n",
       "      <th></th>\n",
       "      <th>Seat_comfort</th>\n",
       "      <th>Seat_Class</th>\n",
       "      <th>Arrival_time_convenient</th>\n",
       "      <th>Catering</th>\n",
       "      <th>Platform_location</th>\n",
       "      <th>Onboardwifi_service</th>\n",
       "      <th>Onboard_entertainment</th>\n",
       "      <th>Online_support</th>\n",
       "      <th>Onlinebooking_Ease</th>\n",
       "      <th>Onboard_service</th>\n",
       "      <th>Leg_room</th>\n",
       "      <th>Baggage_handling</th>\n",
       "      <th>Checkin_service</th>\n",
       "      <th>Cleanliness</th>\n",
       "      <th>Online_boarding</th>\n",
       "    </tr>\n",
       "  </thead>\n",
       "  <tbody>\n",
       "    <tr>\n",
       "      <th>count</th>\n",
       "      <td>35580</td>\n",
       "      <td>35602</td>\n",
       "      <td>32277</td>\n",
       "      <td>32245</td>\n",
       "      <td>35590</td>\n",
       "      <td>35590</td>\n",
       "      <td>35594</td>\n",
       "      <td>35576</td>\n",
       "      <td>35584</td>\n",
       "      <td>32730</td>\n",
       "      <td>35577</td>\n",
       "      <td>35562</td>\n",
       "      <td>35580</td>\n",
       "      <td>35600</td>\n",
       "      <td>35600</td>\n",
       "    </tr>\n",
       "    <tr>\n",
       "      <th>unique</th>\n",
       "      <td>6</td>\n",
       "      <td>2</td>\n",
       "      <td>6</td>\n",
       "      <td>6</td>\n",
       "      <td>5</td>\n",
       "      <td>6</td>\n",
       "      <td>6</td>\n",
       "      <td>5</td>\n",
       "      <td>6</td>\n",
       "      <td>5</td>\n",
       "      <td>6</td>\n",
       "      <td>5</td>\n",
       "      <td>5</td>\n",
       "      <td>5</td>\n",
       "      <td>6</td>\n",
       "    </tr>\n",
       "    <tr>\n",
       "      <th>top</th>\n",
       "      <td>acceptable</td>\n",
       "      <td>Ordinary</td>\n",
       "      <td>good</td>\n",
       "      <td>acceptable</td>\n",
       "      <td>manageable</td>\n",
       "      <td>good</td>\n",
       "      <td>good</td>\n",
       "      <td>good</td>\n",
       "      <td>good</td>\n",
       "      <td>good</td>\n",
       "      <td>good</td>\n",
       "      <td>good</td>\n",
       "      <td>good</td>\n",
       "      <td>good</td>\n",
       "      <td>good</td>\n",
       "    </tr>\n",
       "    <tr>\n",
       "      <th>freq</th>\n",
       "      <td>8003</td>\n",
       "      <td>17860</td>\n",
       "      <td>7361</td>\n",
       "      <td>7133</td>\n",
       "      <td>9364</td>\n",
       "      <td>8743</td>\n",
       "      <td>11436</td>\n",
       "      <td>11487</td>\n",
       "      <td>11025</td>\n",
       "      <td>10222</td>\n",
       "      <td>10842</td>\n",
       "      <td>13291</td>\n",
       "      <td>9982</td>\n",
       "      <td>13421</td>\n",
       "      <td>9680</td>\n",
       "    </tr>\n",
       "  </tbody>\n",
       "</table>\n",
       "</div>"
      ],
      "text/plain": [
       "       Seat_comfort Seat_Class Arrival_time_convenient    Catering  \\\n",
       "count         35580      35602                   32277       32245   \n",
       "unique            6          2                       6           6   \n",
       "top      acceptable   Ordinary                    good  acceptable   \n",
       "freq           8003      17860                    7361        7133   \n",
       "\n",
       "       Platform_location Onboardwifi_service Onboard_entertainment  \\\n",
       "count              35590               35590                 35594   \n",
       "unique                 5                   6                     6   \n",
       "top           manageable                good                  good   \n",
       "freq                9364                8743                 11436   \n",
       "\n",
       "       Online_support Onlinebooking_Ease Onboard_service Leg_room  \\\n",
       "count           35576              35584           32730    35577   \n",
       "unique              5                  6               5        6   \n",
       "top              good               good            good     good   \n",
       "freq            11487              11025           10222    10842   \n",
       "\n",
       "       Baggage_handling Checkin_service Cleanliness Online_boarding  \n",
       "count             35562           35580       35600           35600  \n",
       "unique                5               5           5               6  \n",
       "top                good            good        good            good  \n",
       "freq              13291            9982       13421            9680  "
      ]
     },
     "metadata": {},
     "output_type": "display_data"
    }
   ],
   "source": [
    "display(survey_df_train.iloc[:,2:17].describe(include = 'all'))\n",
    "display(survey_df_test.iloc[:,1:16].describe(include = 'all'))"
   ]
  },
  {
   "cell_type": "code",
   "execution_count": 77,
   "id": "ad19d0e6",
   "metadata": {
    "ExecuteTime": {
     "end_time": "2022-04-23T09:05:52.831715Z",
     "start_time": "2022-04-23T09:05:52.538571Z"
    }
   },
   "outputs": [
    {
     "data": {
      "text/plain": [
       "ID                            0\n",
       "Overall_Experience            0\n",
       "Seat_comfort                 61\n",
       "Seat_Class                    0\n",
       "Arrival_time_convenient    8930\n",
       "Catering                   8741\n",
       "Platform_location            30\n",
       "Onboardwifi_service          30\n",
       "Onboard_entertainment        18\n",
       "Online_support               91\n",
       "Onlinebooking_Ease           73\n",
       "Onboard_service            7601\n",
       "Leg_room                     90\n",
       "Baggage_handling            142\n",
       "Checkin_service              77\n",
       "Cleanliness                   6\n",
       "Online_boarding               6\n",
       "dtype: int64"
      ]
     },
     "metadata": {},
     "output_type": "display_data"
    },
    {
     "data": {
      "text/plain": [
       "ID                            0\n",
       "Seat_comfort                 22\n",
       "Seat_Class                    0\n",
       "Arrival_time_convenient    3325\n",
       "Catering                   3357\n",
       "Platform_location            12\n",
       "Onboardwifi_service          12\n",
       "Onboard_entertainment         8\n",
       "Online_support               26\n",
       "Onlinebooking_Ease           18\n",
       "Onboard_service            2872\n",
       "Leg_room                     25\n",
       "Baggage_handling             40\n",
       "Checkin_service              22\n",
       "Cleanliness                   2\n",
       "Online_boarding               2\n",
       "dtype: int64"
      ]
     },
     "metadata": {},
     "output_type": "display_data"
    }
   ],
   "source": [
    "display(survey_df_train.isna().sum())\n",
    "display(survey_df_test.isna().sum())"
   ]
  },
  {
   "cell_type": "code",
   "execution_count": 78,
   "id": "332c77b6",
   "metadata": {
    "ExecuteTime": {
     "end_time": "2022-04-23T09:05:54.497211Z",
     "start_time": "2022-04-23T09:05:52.848718Z"
    }
   },
   "outputs": [
    {
     "data": {
      "text/html": [
       "<div>\n",
       "<style scoped>\n",
       "    .dataframe tbody tr th:only-of-type {\n",
       "        vertical-align: middle;\n",
       "    }\n",
       "\n",
       "    .dataframe tbody tr th {\n",
       "        vertical-align: top;\n",
       "    }\n",
       "\n",
       "    .dataframe thead th {\n",
       "        text-align: right;\n",
       "    }\n",
       "</style>\n",
       "<table border=\"1\" class=\"dataframe\">\n",
       "  <thead>\n",
       "    <tr style=\"text-align: right;\">\n",
       "      <th></th>\n",
       "      <th>ID</th>\n",
       "      <th>Gender</th>\n",
       "      <th>CustomerType</th>\n",
       "      <th>Age</th>\n",
       "      <th>TypeTravel</th>\n",
       "      <th>Travel_Class</th>\n",
       "      <th>Travel_Distance</th>\n",
       "      <th>DepartureDelay_in_Mins</th>\n",
       "      <th>ArrivalDelay_in_Mins</th>\n",
       "    </tr>\n",
       "  </thead>\n",
       "  <tbody>\n",
       "    <tr>\n",
       "      <th>0</th>\n",
       "      <td>98800001</td>\n",
       "      <td>Female</td>\n",
       "      <td>Loyal Customer</td>\n",
       "      <td>52.0</td>\n",
       "      <td>NaN</td>\n",
       "      <td>Business</td>\n",
       "      <td>272</td>\n",
       "      <td>0.0</td>\n",
       "      <td>5.0</td>\n",
       "    </tr>\n",
       "    <tr>\n",
       "      <th>1</th>\n",
       "      <td>98800002</td>\n",
       "      <td>Male</td>\n",
       "      <td>Loyal Customer</td>\n",
       "      <td>48.0</td>\n",
       "      <td>Personal Travel</td>\n",
       "      <td>Eco</td>\n",
       "      <td>2200</td>\n",
       "      <td>9.0</td>\n",
       "      <td>0.0</td>\n",
       "    </tr>\n",
       "    <tr>\n",
       "      <th>2</th>\n",
       "      <td>98800003</td>\n",
       "      <td>Female</td>\n",
       "      <td>Loyal Customer</td>\n",
       "      <td>43.0</td>\n",
       "      <td>Business travel</td>\n",
       "      <td>Business</td>\n",
       "      <td>1061</td>\n",
       "      <td>77.0</td>\n",
       "      <td>119.0</td>\n",
       "    </tr>\n",
       "    <tr>\n",
       "      <th>3</th>\n",
       "      <td>98800004</td>\n",
       "      <td>Female</td>\n",
       "      <td>Loyal Customer</td>\n",
       "      <td>44.0</td>\n",
       "      <td>Business travel</td>\n",
       "      <td>Business</td>\n",
       "      <td>780</td>\n",
       "      <td>13.0</td>\n",
       "      <td>18.0</td>\n",
       "    </tr>\n",
       "    <tr>\n",
       "      <th>4</th>\n",
       "      <td>98800005</td>\n",
       "      <td>Female</td>\n",
       "      <td>Loyal Customer</td>\n",
       "      <td>50.0</td>\n",
       "      <td>Business travel</td>\n",
       "      <td>Business</td>\n",
       "      <td>1981</td>\n",
       "      <td>0.0</td>\n",
       "      <td>0.0</td>\n",
       "    </tr>\n",
       "  </tbody>\n",
       "</table>\n",
       "</div>"
      ],
      "text/plain": [
       "         ID  Gender    CustomerType   Age       TypeTravel Travel_Class  \\\n",
       "0  98800001  Female  Loyal Customer  52.0              NaN     Business   \n",
       "1  98800002    Male  Loyal Customer  48.0  Personal Travel          Eco   \n",
       "2  98800003  Female  Loyal Customer  43.0  Business travel     Business   \n",
       "3  98800004  Female  Loyal Customer  44.0  Business travel     Business   \n",
       "4  98800005  Female  Loyal Customer  50.0  Business travel     Business   \n",
       "\n",
       "   Travel_Distance  DepartureDelay_in_Mins  ArrivalDelay_in_Mins  \n",
       "0              272                     0.0                   5.0  \n",
       "1             2200                     9.0                   0.0  \n",
       "2             1061                    77.0                 119.0  \n",
       "3              780                    13.0                  18.0  \n",
       "4             1981                     0.0                   0.0  "
      ]
     },
     "metadata": {},
     "output_type": "display_data"
    },
    {
     "data": {
      "text/html": [
       "<div>\n",
       "<style scoped>\n",
       "    .dataframe tbody tr th:only-of-type {\n",
       "        vertical-align: middle;\n",
       "    }\n",
       "\n",
       "    .dataframe tbody tr th {\n",
       "        vertical-align: top;\n",
       "    }\n",
       "\n",
       "    .dataframe thead th {\n",
       "        text-align: right;\n",
       "    }\n",
       "</style>\n",
       "<table border=\"1\" class=\"dataframe\">\n",
       "  <thead>\n",
       "    <tr style=\"text-align: right;\">\n",
       "      <th></th>\n",
       "      <th>ID</th>\n",
       "      <th>Gender</th>\n",
       "      <th>CustomerType</th>\n",
       "      <th>Age</th>\n",
       "      <th>TypeTravel</th>\n",
       "      <th>Travel_Class</th>\n",
       "      <th>Travel_Distance</th>\n",
       "      <th>DepartureDelay_in_Mins</th>\n",
       "      <th>ArrivalDelay_in_Mins</th>\n",
       "    </tr>\n",
       "  </thead>\n",
       "  <tbody>\n",
       "    <tr>\n",
       "      <th>0</th>\n",
       "      <td>99900001</td>\n",
       "      <td>Female</td>\n",
       "      <td>NaN</td>\n",
       "      <td>36.0</td>\n",
       "      <td>Business travel</td>\n",
       "      <td>Business</td>\n",
       "      <td>532</td>\n",
       "      <td>0.0</td>\n",
       "      <td>0.0</td>\n",
       "    </tr>\n",
       "    <tr>\n",
       "      <th>1</th>\n",
       "      <td>99900002</td>\n",
       "      <td>Female</td>\n",
       "      <td>disloyal Customer</td>\n",
       "      <td>21.0</td>\n",
       "      <td>Business travel</td>\n",
       "      <td>Business</td>\n",
       "      <td>1425</td>\n",
       "      <td>9.0</td>\n",
       "      <td>28.0</td>\n",
       "    </tr>\n",
       "    <tr>\n",
       "      <th>2</th>\n",
       "      <td>99900003</td>\n",
       "      <td>Male</td>\n",
       "      <td>Loyal Customer</td>\n",
       "      <td>60.0</td>\n",
       "      <td>Business travel</td>\n",
       "      <td>Business</td>\n",
       "      <td>2832</td>\n",
       "      <td>0.0</td>\n",
       "      <td>0.0</td>\n",
       "    </tr>\n",
       "    <tr>\n",
       "      <th>3</th>\n",
       "      <td>99900004</td>\n",
       "      <td>Female</td>\n",
       "      <td>Loyal Customer</td>\n",
       "      <td>29.0</td>\n",
       "      <td>Personal Travel</td>\n",
       "      <td>Eco</td>\n",
       "      <td>1352</td>\n",
       "      <td>0.0</td>\n",
       "      <td>0.0</td>\n",
       "    </tr>\n",
       "    <tr>\n",
       "      <th>4</th>\n",
       "      <td>99900005</td>\n",
       "      <td>Male</td>\n",
       "      <td>disloyal Customer</td>\n",
       "      <td>18.0</td>\n",
       "      <td>Business travel</td>\n",
       "      <td>Business</td>\n",
       "      <td>1610</td>\n",
       "      <td>17.0</td>\n",
       "      <td>0.0</td>\n",
       "    </tr>\n",
       "  </tbody>\n",
       "</table>\n",
       "</div>"
      ],
      "text/plain": [
       "         ID  Gender       CustomerType   Age       TypeTravel Travel_Class  \\\n",
       "0  99900001  Female                NaN  36.0  Business travel     Business   \n",
       "1  99900002  Female  disloyal Customer  21.0  Business travel     Business   \n",
       "2  99900003    Male     Loyal Customer  60.0  Business travel     Business   \n",
       "3  99900004  Female     Loyal Customer  29.0  Personal Travel          Eco   \n",
       "4  99900005    Male  disloyal Customer  18.0  Business travel     Business   \n",
       "\n",
       "   Travel_Distance  DepartureDelay_in_Mins  ArrivalDelay_in_Mins  \n",
       "0              532                     0.0                   0.0  \n",
       "1             1425                     9.0                  28.0  \n",
       "2             2832                     0.0                   0.0  \n",
       "3             1352                     0.0                   0.0  \n",
       "4             1610                    17.0                   0.0  "
      ]
     },
     "metadata": {},
     "output_type": "display_data"
    }
   ],
   "source": [
    "travel_df_train = pd.read_csv(\"Traveldata_train.csv\")\n",
    "display(travel_df_train.head())\n",
    "travel_df_test = pd.read_csv(\"Traveldata_test.csv\")\n",
    "display(travel_df_test.head())"
   ]
  },
  {
   "cell_type": "code",
   "execution_count": 79,
   "id": "c454d088",
   "metadata": {
    "ExecuteTime": {
     "end_time": "2022-04-23T09:05:54.751143Z",
     "start_time": "2022-04-23T09:05:54.505208Z"
    }
   },
   "outputs": [
    {
     "name": "stdout",
     "output_type": "stream",
     "text": [
      "<class 'pandas.core.frame.DataFrame'>\n",
      "RangeIndex: 94379 entries, 0 to 94378\n",
      "Data columns (total 9 columns):\n",
      " #   Column                  Non-Null Count  Dtype  \n",
      "---  ------                  --------------  -----  \n",
      " 0   ID                      94379 non-null  int64  \n",
      " 1   Gender                  94302 non-null  object \n",
      " 2   CustomerType            85428 non-null  object \n",
      " 3   Age                     94346 non-null  float64\n",
      " 4   TypeTravel              85153 non-null  object \n",
      " 5   Travel_Class            94379 non-null  object \n",
      " 6   Travel_Distance         94379 non-null  int64  \n",
      " 7   DepartureDelay_in_Mins  94322 non-null  float64\n",
      " 8   ArrivalDelay_in_Mins    94022 non-null  float64\n",
      "dtypes: float64(3), int64(2), object(4)\n",
      "memory usage: 6.5+ MB\n"
     ]
    },
    {
     "data": {
      "text/plain": [
       "None"
      ]
     },
     "metadata": {},
     "output_type": "display_data"
    },
    {
     "name": "stdout",
     "output_type": "stream",
     "text": [
      "<class 'pandas.core.frame.DataFrame'>\n",
      "RangeIndex: 35602 entries, 0 to 35601\n",
      "Data columns (total 9 columns):\n",
      " #   Column                  Non-Null Count  Dtype  \n",
      "---  ------                  --------------  -----  \n",
      " 0   ID                      35602 non-null  int64  \n",
      " 1   Gender                  35572 non-null  object \n",
      " 2   CustomerType            32219 non-null  object \n",
      " 3   Age                     35591 non-null  float64\n",
      " 4   TypeTravel              32154 non-null  object \n",
      " 5   Travel_Class            35602 non-null  object \n",
      " 6   Travel_Distance         35602 non-null  int64  \n",
      " 7   DepartureDelay_in_Mins  35573 non-null  float64\n",
      " 8   ArrivalDelay_in_Mins    35479 non-null  float64\n",
      "dtypes: float64(3), int64(2), object(4)\n",
      "memory usage: 2.4+ MB\n"
     ]
    },
    {
     "data": {
      "text/plain": [
       "None"
      ]
     },
     "metadata": {},
     "output_type": "display_data"
    }
   ],
   "source": [
    "display(travel_df_train.info())\n",
    "display(travel_df_test.info())"
   ]
  },
  {
   "cell_type": "code",
   "execution_count": 80,
   "id": "c44d6e6d",
   "metadata": {
    "ExecuteTime": {
     "end_time": "2022-04-23T09:05:54.812896Z",
     "start_time": "2022-04-23T09:05:54.766721Z"
    }
   },
   "outputs": [
    {
     "data": {
      "text/plain": [
       "(94379, 9)"
      ]
     },
     "metadata": {},
     "output_type": "display_data"
    },
    {
     "data": {
      "text/plain": [
       "(35602, 9)"
      ]
     },
     "metadata": {},
     "output_type": "display_data"
    }
   ],
   "source": [
    "display(travel_df_train.shape)\n",
    "display(travel_df_test.shape)"
   ]
  },
  {
   "cell_type": "code",
   "execution_count": 81,
   "id": "3f554629",
   "metadata": {
    "ExecuteTime": {
     "end_time": "2022-04-23T09:05:55.260026Z",
     "start_time": "2022-04-23T09:05:54.823895Z"
    }
   },
   "outputs": [
    {
     "data": {
      "text/html": [
       "<div>\n",
       "<style scoped>\n",
       "    .dataframe tbody tr th:only-of-type {\n",
       "        vertical-align: middle;\n",
       "    }\n",
       "\n",
       "    .dataframe tbody tr th {\n",
       "        vertical-align: top;\n",
       "    }\n",
       "\n",
       "    .dataframe thead th {\n",
       "        text-align: right;\n",
       "    }\n",
       "</style>\n",
       "<table border=\"1\" class=\"dataframe\">\n",
       "  <thead>\n",
       "    <tr style=\"text-align: right;\">\n",
       "      <th></th>\n",
       "      <th>Gender</th>\n",
       "      <th>CustomerType</th>\n",
       "      <th>Age</th>\n",
       "      <th>TypeTravel</th>\n",
       "      <th>Travel_Class</th>\n",
       "      <th>Travel_Distance</th>\n",
       "      <th>DepartureDelay_in_Mins</th>\n",
       "      <th>ArrivalDelay_in_Mins</th>\n",
       "    </tr>\n",
       "  </thead>\n",
       "  <tbody>\n",
       "    <tr>\n",
       "      <th>count</th>\n",
       "      <td>94302</td>\n",
       "      <td>85428</td>\n",
       "      <td>94346.000000</td>\n",
       "      <td>85153</td>\n",
       "      <td>94379</td>\n",
       "      <td>94379.000000</td>\n",
       "      <td>94322.000000</td>\n",
       "      <td>94022.000000</td>\n",
       "    </tr>\n",
       "    <tr>\n",
       "      <th>unique</th>\n",
       "      <td>2</td>\n",
       "      <td>2</td>\n",
       "      <td>NaN</td>\n",
       "      <td>2</td>\n",
       "      <td>2</td>\n",
       "      <td>NaN</td>\n",
       "      <td>NaN</td>\n",
       "      <td>NaN</td>\n",
       "    </tr>\n",
       "    <tr>\n",
       "      <th>top</th>\n",
       "      <td>Female</td>\n",
       "      <td>Loyal Customer</td>\n",
       "      <td>NaN</td>\n",
       "      <td>Business travel</td>\n",
       "      <td>Eco</td>\n",
       "      <td>NaN</td>\n",
       "      <td>NaN</td>\n",
       "      <td>NaN</td>\n",
       "    </tr>\n",
       "    <tr>\n",
       "      <th>freq</th>\n",
       "      <td>47815</td>\n",
       "      <td>69823</td>\n",
       "      <td>NaN</td>\n",
       "      <td>58617</td>\n",
       "      <td>49342</td>\n",
       "      <td>NaN</td>\n",
       "      <td>NaN</td>\n",
       "      <td>NaN</td>\n",
       "    </tr>\n",
       "    <tr>\n",
       "      <th>mean</th>\n",
       "      <td>NaN</td>\n",
       "      <td>NaN</td>\n",
       "      <td>39.419647</td>\n",
       "      <td>NaN</td>\n",
       "      <td>NaN</td>\n",
       "      <td>1978.888185</td>\n",
       "      <td>14.647092</td>\n",
       "      <td>15.005222</td>\n",
       "    </tr>\n",
       "    <tr>\n",
       "      <th>std</th>\n",
       "      <td>NaN</td>\n",
       "      <td>NaN</td>\n",
       "      <td>15.116632</td>\n",
       "      <td>NaN</td>\n",
       "      <td>NaN</td>\n",
       "      <td>1027.961019</td>\n",
       "      <td>38.138781</td>\n",
       "      <td>38.439409</td>\n",
       "    </tr>\n",
       "    <tr>\n",
       "      <th>min</th>\n",
       "      <td>NaN</td>\n",
       "      <td>NaN</td>\n",
       "      <td>7.000000</td>\n",
       "      <td>NaN</td>\n",
       "      <td>NaN</td>\n",
       "      <td>50.000000</td>\n",
       "      <td>0.000000</td>\n",
       "      <td>0.000000</td>\n",
       "    </tr>\n",
       "    <tr>\n",
       "      <th>25%</th>\n",
       "      <td>NaN</td>\n",
       "      <td>NaN</td>\n",
       "      <td>27.000000</td>\n",
       "      <td>NaN</td>\n",
       "      <td>NaN</td>\n",
       "      <td>1359.000000</td>\n",
       "      <td>0.000000</td>\n",
       "      <td>0.000000</td>\n",
       "    </tr>\n",
       "    <tr>\n",
       "      <th>50%</th>\n",
       "      <td>NaN</td>\n",
       "      <td>NaN</td>\n",
       "      <td>40.000000</td>\n",
       "      <td>NaN</td>\n",
       "      <td>NaN</td>\n",
       "      <td>1923.000000</td>\n",
       "      <td>0.000000</td>\n",
       "      <td>0.000000</td>\n",
       "    </tr>\n",
       "    <tr>\n",
       "      <th>75%</th>\n",
       "      <td>NaN</td>\n",
       "      <td>NaN</td>\n",
       "      <td>51.000000</td>\n",
       "      <td>NaN</td>\n",
       "      <td>NaN</td>\n",
       "      <td>2538.000000</td>\n",
       "      <td>12.000000</td>\n",
       "      <td>13.000000</td>\n",
       "    </tr>\n",
       "    <tr>\n",
       "      <th>max</th>\n",
       "      <td>NaN</td>\n",
       "      <td>NaN</td>\n",
       "      <td>85.000000</td>\n",
       "      <td>NaN</td>\n",
       "      <td>NaN</td>\n",
       "      <td>6951.000000</td>\n",
       "      <td>1592.000000</td>\n",
       "      <td>1584.000000</td>\n",
       "    </tr>\n",
       "  </tbody>\n",
       "</table>\n",
       "</div>"
      ],
      "text/plain": [
       "        Gender    CustomerType           Age       TypeTravel Travel_Class  \\\n",
       "count    94302           85428  94346.000000            85153        94379   \n",
       "unique       2               2           NaN                2            2   \n",
       "top     Female  Loyal Customer           NaN  Business travel          Eco   \n",
       "freq     47815           69823           NaN            58617        49342   \n",
       "mean       NaN             NaN     39.419647              NaN          NaN   \n",
       "std        NaN             NaN     15.116632              NaN          NaN   \n",
       "min        NaN             NaN      7.000000              NaN          NaN   \n",
       "25%        NaN             NaN     27.000000              NaN          NaN   \n",
       "50%        NaN             NaN     40.000000              NaN          NaN   \n",
       "75%        NaN             NaN     51.000000              NaN          NaN   \n",
       "max        NaN             NaN     85.000000              NaN          NaN   \n",
       "\n",
       "        Travel_Distance  DepartureDelay_in_Mins  ArrivalDelay_in_Mins  \n",
       "count      94379.000000            94322.000000          94022.000000  \n",
       "unique              NaN                     NaN                   NaN  \n",
       "top                 NaN                     NaN                   NaN  \n",
       "freq                NaN                     NaN                   NaN  \n",
       "mean        1978.888185               14.647092             15.005222  \n",
       "std         1027.961019               38.138781             38.439409  \n",
       "min           50.000000                0.000000              0.000000  \n",
       "25%         1359.000000                0.000000              0.000000  \n",
       "50%         1923.000000                0.000000              0.000000  \n",
       "75%         2538.000000               12.000000             13.000000  \n",
       "max         6951.000000             1592.000000           1584.000000  "
      ]
     },
     "metadata": {},
     "output_type": "display_data"
    },
    {
     "data": {
      "text/html": [
       "<div>\n",
       "<style scoped>\n",
       "    .dataframe tbody tr th:only-of-type {\n",
       "        vertical-align: middle;\n",
       "    }\n",
       "\n",
       "    .dataframe tbody tr th {\n",
       "        vertical-align: top;\n",
       "    }\n",
       "\n",
       "    .dataframe thead th {\n",
       "        text-align: right;\n",
       "    }\n",
       "</style>\n",
       "<table border=\"1\" class=\"dataframe\">\n",
       "  <thead>\n",
       "    <tr style=\"text-align: right;\">\n",
       "      <th></th>\n",
       "      <th>Gender</th>\n",
       "      <th>CustomerType</th>\n",
       "      <th>Age</th>\n",
       "      <th>TypeTravel</th>\n",
       "      <th>Travel_Class</th>\n",
       "      <th>Travel_Distance</th>\n",
       "      <th>DepartureDelay_in_Mins</th>\n",
       "      <th>ArrivalDelay_in_Mins</th>\n",
       "    </tr>\n",
       "  </thead>\n",
       "  <tbody>\n",
       "    <tr>\n",
       "      <th>count</th>\n",
       "      <td>35572</td>\n",
       "      <td>32219</td>\n",
       "      <td>35591.000000</td>\n",
       "      <td>32154</td>\n",
       "      <td>35602</td>\n",
       "      <td>35602.000000</td>\n",
       "      <td>35573.000000</td>\n",
       "      <td>35479.000000</td>\n",
       "    </tr>\n",
       "    <tr>\n",
       "      <th>unique</th>\n",
       "      <td>2</td>\n",
       "      <td>2</td>\n",
       "      <td>NaN</td>\n",
       "      <td>2</td>\n",
       "      <td>2</td>\n",
       "      <td>NaN</td>\n",
       "      <td>NaN</td>\n",
       "      <td>NaN</td>\n",
       "    </tr>\n",
       "    <tr>\n",
       "      <th>top</th>\n",
       "      <td>Female</td>\n",
       "      <td>Loyal Customer</td>\n",
       "      <td>NaN</td>\n",
       "      <td>Business travel</td>\n",
       "      <td>Eco</td>\n",
       "      <td>NaN</td>\n",
       "      <td>NaN</td>\n",
       "      <td>NaN</td>\n",
       "    </tr>\n",
       "    <tr>\n",
       "      <th>freq</th>\n",
       "      <td>18069</td>\n",
       "      <td>26349</td>\n",
       "      <td>NaN</td>\n",
       "      <td>22313</td>\n",
       "      <td>18473</td>\n",
       "      <td>NaN</td>\n",
       "      <td>NaN</td>\n",
       "      <td>NaN</td>\n",
       "    </tr>\n",
       "    <tr>\n",
       "      <th>mean</th>\n",
       "      <td>NaN</td>\n",
       "      <td>NaN</td>\n",
       "      <td>39.446995</td>\n",
       "      <td>NaN</td>\n",
       "      <td>NaN</td>\n",
       "      <td>1987.151761</td>\n",
       "      <td>14.880696</td>\n",
       "      <td>15.308802</td>\n",
       "    </tr>\n",
       "    <tr>\n",
       "      <th>std</th>\n",
       "      <td>NaN</td>\n",
       "      <td>NaN</td>\n",
       "      <td>15.137554</td>\n",
       "      <td>NaN</td>\n",
       "      <td>NaN</td>\n",
       "      <td>1024.308863</td>\n",
       "      <td>37.895453</td>\n",
       "      <td>38.531293</td>\n",
       "    </tr>\n",
       "    <tr>\n",
       "      <th>min</th>\n",
       "      <td>NaN</td>\n",
       "      <td>NaN</td>\n",
       "      <td>7.000000</td>\n",
       "      <td>NaN</td>\n",
       "      <td>NaN</td>\n",
       "      <td>50.000000</td>\n",
       "      <td>0.000000</td>\n",
       "      <td>0.000000</td>\n",
       "    </tr>\n",
       "    <tr>\n",
       "      <th>25%</th>\n",
       "      <td>NaN</td>\n",
       "      <td>NaN</td>\n",
       "      <td>27.000000</td>\n",
       "      <td>NaN</td>\n",
       "      <td>NaN</td>\n",
       "      <td>1360.000000</td>\n",
       "      <td>0.000000</td>\n",
       "      <td>0.000000</td>\n",
       "    </tr>\n",
       "    <tr>\n",
       "      <th>50%</th>\n",
       "      <td>NaN</td>\n",
       "      <td>NaN</td>\n",
       "      <td>40.000000</td>\n",
       "      <td>NaN</td>\n",
       "      <td>NaN</td>\n",
       "      <td>1929.000000</td>\n",
       "      <td>0.000000</td>\n",
       "      <td>0.000000</td>\n",
       "    </tr>\n",
       "    <tr>\n",
       "      <th>75%</th>\n",
       "      <td>NaN</td>\n",
       "      <td>NaN</td>\n",
       "      <td>51.000000</td>\n",
       "      <td>NaN</td>\n",
       "      <td>NaN</td>\n",
       "      <td>2559.000000</td>\n",
       "      <td>13.000000</td>\n",
       "      <td>13.000000</td>\n",
       "    </tr>\n",
       "    <tr>\n",
       "      <th>max</th>\n",
       "      <td>NaN</td>\n",
       "      <td>NaN</td>\n",
       "      <td>85.000000</td>\n",
       "      <td>NaN</td>\n",
       "      <td>NaN</td>\n",
       "      <td>6868.000000</td>\n",
       "      <td>978.000000</td>\n",
       "      <td>970.000000</td>\n",
       "    </tr>\n",
       "  </tbody>\n",
       "</table>\n",
       "</div>"
      ],
      "text/plain": [
       "        Gender    CustomerType           Age       TypeTravel Travel_Class  \\\n",
       "count    35572           32219  35591.000000            32154        35602   \n",
       "unique       2               2           NaN                2            2   \n",
       "top     Female  Loyal Customer           NaN  Business travel          Eco   \n",
       "freq     18069           26349           NaN            22313        18473   \n",
       "mean       NaN             NaN     39.446995              NaN          NaN   \n",
       "std        NaN             NaN     15.137554              NaN          NaN   \n",
       "min        NaN             NaN      7.000000              NaN          NaN   \n",
       "25%        NaN             NaN     27.000000              NaN          NaN   \n",
       "50%        NaN             NaN     40.000000              NaN          NaN   \n",
       "75%        NaN             NaN     51.000000              NaN          NaN   \n",
       "max        NaN             NaN     85.000000              NaN          NaN   \n",
       "\n",
       "        Travel_Distance  DepartureDelay_in_Mins  ArrivalDelay_in_Mins  \n",
       "count      35602.000000            35573.000000          35479.000000  \n",
       "unique              NaN                     NaN                   NaN  \n",
       "top                 NaN                     NaN                   NaN  \n",
       "freq                NaN                     NaN                   NaN  \n",
       "mean        1987.151761               14.880696             15.308802  \n",
       "std         1024.308863               37.895453             38.531293  \n",
       "min           50.000000                0.000000              0.000000  \n",
       "25%         1360.000000                0.000000              0.000000  \n",
       "50%         1929.000000                0.000000              0.000000  \n",
       "75%         2559.000000               13.000000             13.000000  \n",
       "max         6868.000000              978.000000            970.000000  "
      ]
     },
     "metadata": {},
     "output_type": "display_data"
    }
   ],
   "source": [
    "display(travel_df_train.iloc[:,1:9].describe(include ='all'))\n",
    "display(travel_df_test.iloc[:,1:9].describe(include ='all'))"
   ]
  },
  {
   "cell_type": "code",
   "execution_count": 82,
   "id": "8dd9efd2",
   "metadata": {
    "ExecuteTime": {
     "end_time": "2022-04-23T09:05:55.429840Z",
     "start_time": "2022-04-23T09:05:55.269981Z"
    }
   },
   "outputs": [
    {
     "data": {
      "text/plain": [
       "ID                           0\n",
       "Gender                      77\n",
       "CustomerType              8951\n",
       "Age                         33\n",
       "TypeTravel                9226\n",
       "Travel_Class                 0\n",
       "Travel_Distance              0\n",
       "DepartureDelay_in_Mins      57\n",
       "ArrivalDelay_in_Mins       357\n",
       "dtype: int64"
      ]
     },
     "metadata": {},
     "output_type": "display_data"
    },
    {
     "data": {
      "text/plain": [
       "ID                           0\n",
       "Gender                      30\n",
       "CustomerType              3383\n",
       "Age                         11\n",
       "TypeTravel                3448\n",
       "Travel_Class                 0\n",
       "Travel_Distance              0\n",
       "DepartureDelay_in_Mins      29\n",
       "ArrivalDelay_in_Mins       123\n",
       "dtype: int64"
      ]
     },
     "metadata": {},
     "output_type": "display_data"
    }
   ],
   "source": [
    "display(travel_df_train.isna().sum())\n",
    "display(travel_df_test.isna().sum())"
   ]
  },
  {
   "cell_type": "code",
   "execution_count": 83,
   "id": "d3f5ce07",
   "metadata": {
    "ExecuteTime": {
     "end_time": "2022-04-23T09:05:57.188163Z",
     "start_time": "2022-04-23T09:05:55.444812Z"
    }
   },
   "outputs": [
    {
     "data": {
      "text/plain": [
       "0"
      ]
     },
     "metadata": {},
     "output_type": "display_data"
    },
    {
     "data": {
      "text/plain": [
       "0"
      ]
     },
     "metadata": {},
     "output_type": "display_data"
    },
    {
     "data": {
      "text/plain": [
       "0"
      ]
     },
     "metadata": {},
     "output_type": "display_data"
    },
    {
     "data": {
      "text/plain": [
       "0"
      ]
     },
     "metadata": {},
     "output_type": "display_data"
    }
   ],
   "source": [
    "display(survey_df_train.duplicated().sum())\n",
    "display(survey_df_test.duplicated().sum())\n",
    "display(travel_df_train.duplicated().sum())\n",
    "display(travel_df_test.duplicated().sum())"
   ]
  },
  {
   "cell_type": "code",
   "execution_count": 84,
   "id": "68f086e1",
   "metadata": {
    "ExecuteTime": {
     "end_time": "2022-04-23T09:06:38.414454Z",
     "start_time": "2022-04-23T09:05:57.197954Z"
    }
   },
   "outputs": [
    {
     "data": {
      "image/png": "[encoded data removed]",
      "text/plain": [
       "<Figure size 836.125x720 with 14 Axes>"
      ]
     },
     "metadata": {},
     "output_type": "display_data"
    }
   ],
   "source": [
    "sns.pairplot(travel_df_train.iloc[:,1:9],corner=True,hue='CustomerType');"
   ]
  },
  {
   "cell_type": "code",
   "execution_count": 85,
   "id": "ae426414",
   "metadata": {
    "ExecuteTime": {
     "end_time": "2022-04-23T09:06:49.305828Z",
     "start_time": "2022-04-23T09:06:38.421548Z"
    }
   },
   "outputs": [
    {
     "data": {
      "image/png": "[encoded data removed]",
      "text/plain": [
       "<Figure size 836.125x720 with 14 Axes>"
      ]
     },
     "metadata": {},
     "output_type": "display_data"
    }
   ],
   "source": [
    "sns.pairplot(travel_df_test.iloc[:,1:9],corner=True,hue='CustomerType');"
   ]
  },
  {
   "cell_type": "code",
   "execution_count": 86,
   "id": "d00860cb",
   "metadata": {
    "ExecuteTime": {
     "end_time": "2022-04-23T09:06:52.881070Z",
     "start_time": "2022-04-23T09:06:49.309827Z"
    }
   },
   "outputs": [
    {
     "data": {
      "image/png": "[encoded data removed]",
      "text/plain": [
       "<Figure size 432x288 with 1 Axes>"
      ]
     },
     "metadata": {},
     "output_type": "display_data"
    }
   ],
   "source": [
    "sns.barplot(x='Gender',y='Age',data=travel_df_train);"
   ]
  },
  {
   "cell_type": "code",
   "execution_count": 87,
   "id": "7697e2bb",
   "metadata": {
    "ExecuteTime": {
     "end_time": "2022-04-23T09:06:53.101883Z",
     "start_time": "2022-04-23T09:06:52.885969Z"
    }
   },
   "outputs": [
    {
     "data": {
      "image/png": "[encoded data removed]",
      "text/plain": [
       "<Figure size 432x288 with 1 Axes>"
      ]
     },
     "metadata": {},
     "output_type": "display_data"
    }
   ],
   "source": [
    "travel_df_train.boxplot('Travel_Distance');"
   ]
  },
  {
   "cell_type": "code",
   "execution_count": 88,
   "id": "41b3cdec",
   "metadata": {
    "ExecuteTime": {
     "end_time": "2022-04-23T09:06:53.275112Z",
     "start_time": "2022-04-23T09:06:53.108115Z"
    }
   },
   "outputs": [
    {
     "data": {
      "text/html": [
       "<div>\n",
       "<style scoped>\n",
       "    .dataframe tbody tr th:only-of-type {\n",
       "        vertical-align: middle;\n",
       "    }\n",
       "\n",
       "    .dataframe tbody tr th {\n",
       "        vertical-align: top;\n",
       "    }\n",
       "\n",
       "    .dataframe thead th {\n",
       "        text-align: right;\n",
       "    }\n",
       "</style>\n",
       "<table border=\"1\" class=\"dataframe\">\n",
       "  <thead>\n",
       "    <tr style=\"text-align: right;\">\n",
       "      <th></th>\n",
       "      <th>ID</th>\n",
       "      <th>Overall_Experience</th>\n",
       "      <th>Seat_comfort</th>\n",
       "      <th>Seat_Class</th>\n",
       "      <th>Arrival_time_convenient</th>\n",
       "      <th>Catering</th>\n",
       "      <th>Platform_location</th>\n",
       "      <th>Onboardwifi_service</th>\n",
       "      <th>Onboard_entertainment</th>\n",
       "      <th>Online_support</th>\n",
       "      <th>...</th>\n",
       "      <th>Cleanliness</th>\n",
       "      <th>Online_boarding</th>\n",
       "      <th>Gender</th>\n",
       "      <th>CustomerType</th>\n",
       "      <th>Age</th>\n",
       "      <th>TypeTravel</th>\n",
       "      <th>Travel_Class</th>\n",
       "      <th>Travel_Distance</th>\n",
       "      <th>DepartureDelay_in_Mins</th>\n",
       "      <th>ArrivalDelay_in_Mins</th>\n",
       "    </tr>\n",
       "  </thead>\n",
       "  <tbody>\n",
       "    <tr>\n",
       "      <th>0</th>\n",
       "      <td>98800001</td>\n",
       "      <td>0</td>\n",
       "      <td>need improvement</td>\n",
       "      <td>Green Car</td>\n",
       "      <td>excellent</td>\n",
       "      <td>excellent</td>\n",
       "      <td>very convinient</td>\n",
       "      <td>good</td>\n",
       "      <td>need improvement</td>\n",
       "      <td>acceptable</td>\n",
       "      <td>...</td>\n",
       "      <td>need improvement</td>\n",
       "      <td>poor</td>\n",
       "      <td>Female</td>\n",
       "      <td>Loyal Customer</td>\n",
       "      <td>52.0</td>\n",
       "      <td>NaN</td>\n",
       "      <td>Business</td>\n",
       "      <td>272</td>\n",
       "      <td>0.0</td>\n",
       "      <td>5.0</td>\n",
       "    </tr>\n",
       "    <tr>\n",
       "      <th>1</th>\n",
       "      <td>98800002</td>\n",
       "      <td>0</td>\n",
       "      <td>poor</td>\n",
       "      <td>Ordinary</td>\n",
       "      <td>excellent</td>\n",
       "      <td>poor</td>\n",
       "      <td>need improvement</td>\n",
       "      <td>good</td>\n",
       "      <td>poor</td>\n",
       "      <td>good</td>\n",
       "      <td>...</td>\n",
       "      <td>good</td>\n",
       "      <td>good</td>\n",
       "      <td>Male</td>\n",
       "      <td>Loyal Customer</td>\n",
       "      <td>48.0</td>\n",
       "      <td>Personal Travel</td>\n",
       "      <td>Eco</td>\n",
       "      <td>2200</td>\n",
       "      <td>9.0</td>\n",
       "      <td>0.0</td>\n",
       "    </tr>\n",
       "    <tr>\n",
       "      <th>2</th>\n",
       "      <td>98800003</td>\n",
       "      <td>1</td>\n",
       "      <td>need improvement</td>\n",
       "      <td>Green Car</td>\n",
       "      <td>need improvement</td>\n",
       "      <td>need improvement</td>\n",
       "      <td>need improvement</td>\n",
       "      <td>need improvement</td>\n",
       "      <td>good</td>\n",
       "      <td>excellent</td>\n",
       "      <td>...</td>\n",
       "      <td>excellent</td>\n",
       "      <td>excellent</td>\n",
       "      <td>Female</td>\n",
       "      <td>Loyal Customer</td>\n",
       "      <td>43.0</td>\n",
       "      <td>Business travel</td>\n",
       "      <td>Business</td>\n",
       "      <td>1061</td>\n",
       "      <td>77.0</td>\n",
       "      <td>119.0</td>\n",
       "    </tr>\n",
       "    <tr>\n",
       "      <th>3</th>\n",
       "      <td>98800004</td>\n",
       "      <td>0</td>\n",
       "      <td>acceptable</td>\n",
       "      <td>Ordinary</td>\n",
       "      <td>need improvement</td>\n",
       "      <td>NaN</td>\n",
       "      <td>need improvement</td>\n",
       "      <td>acceptable</td>\n",
       "      <td>need improvement</td>\n",
       "      <td>acceptable</td>\n",
       "      <td>...</td>\n",
       "      <td>acceptable</td>\n",
       "      <td>acceptable</td>\n",
       "      <td>Female</td>\n",
       "      <td>Loyal Customer</td>\n",
       "      <td>44.0</td>\n",
       "      <td>Business travel</td>\n",
       "      <td>Business</td>\n",
       "      <td>780</td>\n",
       "      <td>13.0</td>\n",
       "      <td>18.0</td>\n",
       "    </tr>\n",
       "    <tr>\n",
       "      <th>4</th>\n",
       "      <td>98800005</td>\n",
       "      <td>1</td>\n",
       "      <td>acceptable</td>\n",
       "      <td>Ordinary</td>\n",
       "      <td>acceptable</td>\n",
       "      <td>acceptable</td>\n",
       "      <td>manageable</td>\n",
       "      <td>need improvement</td>\n",
       "      <td>good</td>\n",
       "      <td>excellent</td>\n",
       "      <td>...</td>\n",
       "      <td>good</td>\n",
       "      <td>good</td>\n",
       "      <td>Female</td>\n",
       "      <td>Loyal Customer</td>\n",
       "      <td>50.0</td>\n",
       "      <td>Business travel</td>\n",
       "      <td>Business</td>\n",
       "      <td>1981</td>\n",
       "      <td>0.0</td>\n",
       "      <td>0.0</td>\n",
       "    </tr>\n",
       "  </tbody>\n",
       "</table>\n",
       "<p>5 rows × 25 columns</p>\n",
       "</div>"
      ],
      "text/plain": [
       "         ID  Overall_Experience      Seat_comfort Seat_Class  \\\n",
       "0  98800001                   0  need improvement  Green Car   \n",
       "1  98800002                   0              poor   Ordinary   \n",
       "2  98800003                   1  need improvement  Green Car   \n",
       "3  98800004                   0        acceptable   Ordinary   \n",
       "4  98800005                   1        acceptable   Ordinary   \n",
       "\n",
       "  Arrival_time_convenient          Catering Platform_location  \\\n",
       "0               excellent         excellent   very convinient   \n",
       "1               excellent              poor  need improvement   \n",
       "2        need improvement  need improvement  need improvement   \n",
       "3        need improvement               NaN  need improvement   \n",
       "4              acceptable        acceptable        manageable   \n",
       "\n",
       "  Onboardwifi_service Onboard_entertainment Online_support  ...  \\\n",
       "0                good      need improvement     acceptable  ...   \n",
       "1                good                  poor           good  ...   \n",
       "2    need improvement                  good      excellent  ...   \n",
       "3          acceptable      need improvement     acceptable  ...   \n",
       "4    need improvement                  good      excellent  ...   \n",
       "\n",
       "        Cleanliness Online_boarding  Gender    CustomerType   Age  \\\n",
       "0  need improvement            poor  Female  Loyal Customer  52.0   \n",
       "1              good            good    Male  Loyal Customer  48.0   \n",
       "2         excellent       excellent  Female  Loyal Customer  43.0   \n",
       "3        acceptable      acceptable  Female  Loyal Customer  44.0   \n",
       "4              good            good  Female  Loyal Customer  50.0   \n",
       "\n",
       "        TypeTravel Travel_Class Travel_Distance DepartureDelay_in_Mins  \\\n",
       "0              NaN     Business             272                    0.0   \n",
       "1  Personal Travel          Eco            2200                    9.0   \n",
       "2  Business travel     Business            1061                   77.0   \n",
       "3  Business travel     Business             780                   13.0   \n",
       "4  Business travel     Business            1981                    0.0   \n",
       "\n",
       "   ArrivalDelay_in_Mins  \n",
       "0                   5.0  \n",
       "1                   0.0  \n",
       "2                 119.0  \n",
       "3                  18.0  \n",
       "4                   0.0  \n",
       "\n",
       "[5 rows x 25 columns]"
      ]
     },
     "metadata": {},
     "output_type": "display_data"
    },
    {
     "data": {
      "text/html": [
       "<div>\n",
       "<style scoped>\n",
       "    .dataframe tbody tr th:only-of-type {\n",
       "        vertical-align: middle;\n",
       "    }\n",
       "\n",
       "    .dataframe tbody tr th {\n",
       "        vertical-align: top;\n",
       "    }\n",
       "\n",
       "    .dataframe thead th {\n",
       "        text-align: right;\n",
       "    }\n",
       "</style>\n",
       "<table border=\"1\" class=\"dataframe\">\n",
       "  <thead>\n",
       "    <tr style=\"text-align: right;\">\n",
       "      <th></th>\n",
       "      <th>ID</th>\n",
       "      <th>Seat_comfort</th>\n",
       "      <th>Seat_Class</th>\n",
       "      <th>Arrival_time_convenient</th>\n",
       "      <th>Catering</th>\n",
       "      <th>Platform_location</th>\n",
       "      <th>Onboardwifi_service</th>\n",
       "      <th>Onboard_entertainment</th>\n",
       "      <th>Online_support</th>\n",
       "      <th>Onlinebooking_Ease</th>\n",
       "      <th>...</th>\n",
       "      <th>Cleanliness</th>\n",
       "      <th>Online_boarding</th>\n",
       "      <th>Gender</th>\n",
       "      <th>CustomerType</th>\n",
       "      <th>Age</th>\n",
       "      <th>TypeTravel</th>\n",
       "      <th>Travel_Class</th>\n",
       "      <th>Travel_Distance</th>\n",
       "      <th>DepartureDelay_in_Mins</th>\n",
       "      <th>ArrivalDelay_in_Mins</th>\n",
       "    </tr>\n",
       "  </thead>\n",
       "  <tbody>\n",
       "    <tr>\n",
       "      <th>0</th>\n",
       "      <td>99900001</td>\n",
       "      <td>acceptable</td>\n",
       "      <td>Green Car</td>\n",
       "      <td>acceptable</td>\n",
       "      <td>acceptable</td>\n",
       "      <td>manageable</td>\n",
       "      <td>need improvement</td>\n",
       "      <td>excellent</td>\n",
       "      <td>good</td>\n",
       "      <td>excellent</td>\n",
       "      <td>...</td>\n",
       "      <td>excellent</td>\n",
       "      <td>poor</td>\n",
       "      <td>Female</td>\n",
       "      <td>NaN</td>\n",
       "      <td>36.0</td>\n",
       "      <td>Business travel</td>\n",
       "      <td>Business</td>\n",
       "      <td>532</td>\n",
       "      <td>0.0</td>\n",
       "      <td>0.0</td>\n",
       "    </tr>\n",
       "    <tr>\n",
       "      <th>1</th>\n",
       "      <td>99900002</td>\n",
       "      <td>extremely poor</td>\n",
       "      <td>Ordinary</td>\n",
       "      <td>good</td>\n",
       "      <td>poor</td>\n",
       "      <td>manageable</td>\n",
       "      <td>acceptable</td>\n",
       "      <td>poor</td>\n",
       "      <td>acceptable</td>\n",
       "      <td>acceptable</td>\n",
       "      <td>...</td>\n",
       "      <td>excellent</td>\n",
       "      <td>acceptable</td>\n",
       "      <td>Female</td>\n",
       "      <td>disloyal Customer</td>\n",
       "      <td>21.0</td>\n",
       "      <td>Business travel</td>\n",
       "      <td>Business</td>\n",
       "      <td>1425</td>\n",
       "      <td>9.0</td>\n",
       "      <td>28.0</td>\n",
       "    </tr>\n",
       "    <tr>\n",
       "      <th>2</th>\n",
       "      <td>99900003</td>\n",
       "      <td>excellent</td>\n",
       "      <td>Ordinary</td>\n",
       "      <td>excellent</td>\n",
       "      <td>excellent</td>\n",
       "      <td>very convinient</td>\n",
       "      <td>excellent</td>\n",
       "      <td>excellent</td>\n",
       "      <td>excellent</td>\n",
       "      <td>need improvement</td>\n",
       "      <td>...</td>\n",
       "      <td>need improvement</td>\n",
       "      <td>excellent</td>\n",
       "      <td>Male</td>\n",
       "      <td>Loyal Customer</td>\n",
       "      <td>60.0</td>\n",
       "      <td>Business travel</td>\n",
       "      <td>Business</td>\n",
       "      <td>2832</td>\n",
       "      <td>0.0</td>\n",
       "      <td>0.0</td>\n",
       "    </tr>\n",
       "    <tr>\n",
       "      <th>3</th>\n",
       "      <td>99900004</td>\n",
       "      <td>acceptable</td>\n",
       "      <td>Green Car</td>\n",
       "      <td>excellent</td>\n",
       "      <td>acceptable</td>\n",
       "      <td>very convinient</td>\n",
       "      <td>poor</td>\n",
       "      <td>acceptable</td>\n",
       "      <td>excellent</td>\n",
       "      <td>poor</td>\n",
       "      <td>...</td>\n",
       "      <td>excellent</td>\n",
       "      <td>poor</td>\n",
       "      <td>Female</td>\n",
       "      <td>Loyal Customer</td>\n",
       "      <td>29.0</td>\n",
       "      <td>Personal Travel</td>\n",
       "      <td>Eco</td>\n",
       "      <td>1352</td>\n",
       "      <td>0.0</td>\n",
       "      <td>0.0</td>\n",
       "    </tr>\n",
       "    <tr>\n",
       "      <th>4</th>\n",
       "      <td>99900005</td>\n",
       "      <td>excellent</td>\n",
       "      <td>Ordinary</td>\n",
       "      <td>extremely poor</td>\n",
       "      <td>excellent</td>\n",
       "      <td>need improvement</td>\n",
       "      <td>excellent</td>\n",
       "      <td>excellent</td>\n",
       "      <td>excellent</td>\n",
       "      <td>excellent</td>\n",
       "      <td>...</td>\n",
       "      <td>excellent</td>\n",
       "      <td>excellent</td>\n",
       "      <td>Male</td>\n",
       "      <td>disloyal Customer</td>\n",
       "      <td>18.0</td>\n",
       "      <td>Business travel</td>\n",
       "      <td>Business</td>\n",
       "      <td>1610</td>\n",
       "      <td>17.0</td>\n",
       "      <td>0.0</td>\n",
       "    </tr>\n",
       "  </tbody>\n",
       "</table>\n",
       "<p>5 rows × 24 columns</p>\n",
       "</div>"
      ],
      "text/plain": [
       "         ID    Seat_comfort Seat_Class Arrival_time_convenient    Catering  \\\n",
       "0  99900001      acceptable  Green Car              acceptable  acceptable   \n",
       "1  99900002  extremely poor   Ordinary                    good        poor   \n",
       "2  99900003       excellent   Ordinary               excellent   excellent   \n",
       "3  99900004      acceptable  Green Car               excellent  acceptable   \n",
       "4  99900005       excellent   Ordinary          extremely poor   excellent   \n",
       "\n",
       "  Platform_location Onboardwifi_service Onboard_entertainment Online_support  \\\n",
       "0        manageable    need improvement             excellent           good   \n",
       "1        manageable          acceptable                  poor     acceptable   \n",
       "2   very convinient           excellent             excellent      excellent   \n",
       "3   very convinient                poor            acceptable      excellent   \n",
       "4  need improvement           excellent             excellent      excellent   \n",
       "\n",
       "  Onlinebooking_Ease  ...       Cleanliness Online_boarding  Gender  \\\n",
       "0          excellent  ...         excellent            poor  Female   \n",
       "1         acceptable  ...         excellent      acceptable  Female   \n",
       "2   need improvement  ...  need improvement       excellent    Male   \n",
       "3               poor  ...         excellent            poor  Female   \n",
       "4          excellent  ...         excellent       excellent    Male   \n",
       "\n",
       "        CustomerType   Age       TypeTravel Travel_Class Travel_Distance  \\\n",
       "0                NaN  36.0  Business travel     Business             532   \n",
       "1  disloyal Customer  21.0  Business travel     Business            1425   \n",
       "2     Loyal Customer  60.0  Business travel     Business            2832   \n",
       "3     Loyal Customer  29.0  Personal Travel          Eco            1352   \n",
       "4  disloyal Customer  18.0  Business travel     Business            1610   \n",
       "\n",
       "   DepartureDelay_in_Mins ArrivalDelay_in_Mins  \n",
       "0                     0.0                  0.0  \n",
       "1                     9.0                 28.0  \n",
       "2                     0.0                  0.0  \n",
       "3                     0.0                  0.0  \n",
       "4                    17.0                  0.0  \n",
       "\n",
       "[5 rows x 24 columns]"
      ]
     },
     "metadata": {},
     "output_type": "display_data"
    }
   ],
   "source": [
    "df_train=pd.merge(survey_df_train,travel_df_train,on='ID')\n",
    "df_test=pd.merge(survey_df_test,travel_df_test,on='ID')\n",
    "display(df_train.head())\n",
    "display(df_test.head())"
   ]
  },
  {
   "cell_type": "code",
   "execution_count": 89,
   "id": "ed963a86",
   "metadata": {
    "ExecuteTime": {
     "end_time": "2022-04-23T09:06:53.592719Z",
     "start_time": "2022-04-23T09:06:53.280101Z"
    }
   },
   "outputs": [
    {
     "name": "stdout",
     "output_type": "stream",
     "text": [
      "<class 'pandas.core.frame.DataFrame'>\n",
      "Int64Index: 94379 entries, 0 to 94378\n",
      "Data columns (total 25 columns):\n",
      " #   Column                   Non-Null Count  Dtype  \n",
      "---  ------                   --------------  -----  \n",
      " 0   ID                       94379 non-null  int64  \n",
      " 1   Overall_Experience       94379 non-null  int64  \n",
      " 2   Seat_comfort             94318 non-null  object \n",
      " 3   Seat_Class               94379 non-null  object \n",
      " 4   Arrival_time_convenient  85449 non-null  object \n",
      " 5   Catering                 85638 non-null  object \n",
      " 6   Platform_location        94349 non-null  object \n",
      " 7   Onboardwifi_service      94349 non-null  object \n",
      " 8   Onboard_entertainment    94361 non-null  object \n",
      " 9   Online_support           94288 non-null  object \n",
      " 10  Onlinebooking_Ease       94306 non-null  object \n",
      " 11  Onboard_service          86778 non-null  object \n",
      " 12  Leg_room                 94289 non-null  object \n",
      " 13  Baggage_handling         94237 non-null  object \n",
      " 14  Checkin_service          94302 non-null  object \n",
      " 15  Cleanliness              94373 non-null  object \n",
      " 16  Online_boarding          94373 non-null  object \n",
      " 17  Gender                   94302 non-null  object \n",
      " 18  CustomerType             85428 non-null  object \n",
      " 19  Age                      94346 non-null  float64\n",
      " 20  TypeTravel               85153 non-null  object \n",
      " 21  Travel_Class             94379 non-null  object \n",
      " 22  Travel_Distance          94379 non-null  int64  \n",
      " 23  DepartureDelay_in_Mins   94322 non-null  float64\n",
      " 24  ArrivalDelay_in_Mins     94022 non-null  float64\n",
      "dtypes: float64(3), int64(3), object(19)\n",
      "memory usage: 18.7+ MB\n"
     ]
    },
    {
     "data": {
      "text/plain": [
       "None"
      ]
     },
     "metadata": {},
     "output_type": "display_data"
    },
    {
     "name": "stdout",
     "output_type": "stream",
     "text": [
      "<class 'pandas.core.frame.DataFrame'>\n",
      "Int64Index: 35602 entries, 0 to 35601\n",
      "Data columns (total 24 columns):\n",
      " #   Column                   Non-Null Count  Dtype  \n",
      "---  ------                   --------------  -----  \n",
      " 0   ID                       35602 non-null  int64  \n",
      " 1   Seat_comfort             35580 non-null  object \n",
      " 2   Seat_Class               35602 non-null  object \n",
      " 3   Arrival_time_convenient  32277 non-null  object \n",
      " 4   Catering                 32245 non-null  object \n",
      " 5   Platform_location        35590 non-null  object \n",
      " 6   Onboardwifi_service      35590 non-null  object \n",
      " 7   Onboard_entertainment    35594 non-null  object \n",
      " 8   Online_support           35576 non-null  object \n",
      " 9   Onlinebooking_Ease       35584 non-null  object \n",
      " 10  Onboard_service          32730 non-null  object \n",
      " 11  Leg_room                 35577 non-null  object \n",
      " 12  Baggage_handling         35562 non-null  object \n",
      " 13  Checkin_service          35580 non-null  object \n",
      " 14  Cleanliness              35600 non-null  object \n",
      " 15  Online_boarding          35600 non-null  object \n",
      " 16  Gender                   35572 non-null  object \n",
      " 17  CustomerType             32219 non-null  object \n",
      " 18  Age                      35591 non-null  float64\n",
      " 19  TypeTravel               32154 non-null  object \n",
      " 20  Travel_Class             35602 non-null  object \n",
      " 21  Travel_Distance          35602 non-null  int64  \n",
      " 22  DepartureDelay_in_Mins   35573 non-null  float64\n",
      " 23  ArrivalDelay_in_Mins     35479 non-null  float64\n",
      "dtypes: float64(3), int64(2), object(19)\n",
      "memory usage: 6.8+ MB\n"
     ]
    },
    {
     "data": {
      "text/plain": [
       "None"
      ]
     },
     "metadata": {},
     "output_type": "display_data"
    }
   ],
   "source": [
    "display(df_train.info())\n",
    "display(df_test.info())"
   ]
  },
  {
   "cell_type": "code",
   "execution_count": 90,
   "id": "3e13a013",
   "metadata": {
    "ExecuteTime": {
     "end_time": "2022-04-23T09:06:53.612907Z",
     "start_time": "2022-04-23T09:06:53.596744Z"
    }
   },
   "outputs": [
    {
     "data": {
      "text/plain": [
       "(94379, 25)"
      ]
     },
     "metadata": {},
     "output_type": "display_data"
    },
    {
     "data": {
      "text/plain": [
       "(35602, 24)"
      ]
     },
     "metadata": {},
     "output_type": "display_data"
    }
   ],
   "source": [
    "display(df_train.shape)\n",
    "display(df_test.shape)"
   ]
  },
  {
   "cell_type": "code",
   "execution_count": 91,
   "id": "18772941",
   "metadata": {
    "ExecuteTime": {
     "end_time": "2022-04-23T09:06:54.065889Z",
     "start_time": "2022-04-23T09:06:53.616831Z"
    }
   },
   "outputs": [
    {
     "data": {
      "text/plain": [
       "0"
      ]
     },
     "metadata": {},
     "output_type": "display_data"
    },
    {
     "data": {
      "text/plain": [
       "0"
      ]
     },
     "metadata": {},
     "output_type": "display_data"
    }
   ],
   "source": [
    "display(df_train.duplicated().sum())\n",
    "display(df_test.duplicated().sum())"
   ]
  },
  {
   "cell_type": "code",
   "execution_count": 92,
   "id": "6e778124",
   "metadata": {
    "ExecuteTime": {
     "end_time": "2022-04-23T09:06:54.481011Z",
     "start_time": "2022-04-23T09:06:54.068767Z"
    }
   },
   "outputs": [
    {
     "data": {
      "text/html": [
       "<div>\n",
       "<style scoped>\n",
       "    .dataframe tbody tr th:only-of-type {\n",
       "        vertical-align: middle;\n",
       "    }\n",
       "\n",
       "    .dataframe tbody tr th {\n",
       "        vertical-align: top;\n",
       "    }\n",
       "\n",
       "    .dataframe thead th {\n",
       "        text-align: right;\n",
       "    }\n",
       "</style>\n",
       "<table border=\"1\" class=\"dataframe\">\n",
       "  <thead>\n",
       "    <tr style=\"text-align: right;\">\n",
       "      <th></th>\n",
       "      <th>ID</th>\n",
       "      <th>Overall_Experience</th>\n",
       "      <th>Seat_comfort</th>\n",
       "      <th>Seat_Class</th>\n",
       "      <th>Arrival_time_convenient</th>\n",
       "      <th>Catering</th>\n",
       "      <th>Platform_location</th>\n",
       "      <th>Onboardwifi_service</th>\n",
       "      <th>Onboard_entertainment</th>\n",
       "      <th>Online_support</th>\n",
       "      <th>...</th>\n",
       "      <th>Cleanliness</th>\n",
       "      <th>Online_boarding</th>\n",
       "      <th>Gender</th>\n",
       "      <th>CustomerType</th>\n",
       "      <th>Age</th>\n",
       "      <th>TypeTravel</th>\n",
       "      <th>Travel_Class</th>\n",
       "      <th>Travel_Distance</th>\n",
       "      <th>DepartureDelay_in_Mins</th>\n",
       "      <th>ArrivalDelay_in_Mins</th>\n",
       "    </tr>\n",
       "  </thead>\n",
       "  <tbody>\n",
       "    <tr>\n",
       "      <th>560</th>\n",
       "      <td>98800561</td>\n",
       "      <td>0</td>\n",
       "      <td>NaN</td>\n",
       "      <td>Green Car</td>\n",
       "      <td>NaN</td>\n",
       "      <td>good</td>\n",
       "      <td>need improvement</td>\n",
       "      <td>good</td>\n",
       "      <td>good</td>\n",
       "      <td>good</td>\n",
       "      <td>...</td>\n",
       "      <td>acceptable</td>\n",
       "      <td>good</td>\n",
       "      <td>Male</td>\n",
       "      <td>Loyal Customer</td>\n",
       "      <td>30.0</td>\n",
       "      <td>Business travel</td>\n",
       "      <td>Eco</td>\n",
       "      <td>1495</td>\n",
       "      <td>0.0</td>\n",
       "      <td>0.0</td>\n",
       "    </tr>\n",
       "    <tr>\n",
       "      <th>2214</th>\n",
       "      <td>98802215</td>\n",
       "      <td>1</td>\n",
       "      <td>NaN</td>\n",
       "      <td>Green Car</td>\n",
       "      <td>NaN</td>\n",
       "      <td>poor</td>\n",
       "      <td>manageable</td>\n",
       "      <td>good</td>\n",
       "      <td>good</td>\n",
       "      <td>good</td>\n",
       "      <td>...</td>\n",
       "      <td>excellent</td>\n",
       "      <td>good</td>\n",
       "      <td>Male</td>\n",
       "      <td>Loyal Customer</td>\n",
       "      <td>30.0</td>\n",
       "      <td>NaN</td>\n",
       "      <td>Business</td>\n",
       "      <td>4725</td>\n",
       "      <td>86.0</td>\n",
       "      <td>77.0</td>\n",
       "    </tr>\n",
       "    <tr>\n",
       "      <th>4754</th>\n",
       "      <td>98804755</td>\n",
       "      <td>0</td>\n",
       "      <td>NaN</td>\n",
       "      <td>Ordinary</td>\n",
       "      <td>NaN</td>\n",
       "      <td>need improvement</td>\n",
       "      <td>manageable</td>\n",
       "      <td>excellent</td>\n",
       "      <td>need improvement</td>\n",
       "      <td>poor</td>\n",
       "      <td>...</td>\n",
       "      <td>good</td>\n",
       "      <td>excellent</td>\n",
       "      <td>Male</td>\n",
       "      <td>Loyal Customer</td>\n",
       "      <td>63.0</td>\n",
       "      <td>Personal Travel</td>\n",
       "      <td>Eco</td>\n",
       "      <td>1380</td>\n",
       "      <td>0.0</td>\n",
       "      <td>0.0</td>\n",
       "    </tr>\n",
       "    <tr>\n",
       "      <th>5191</th>\n",
       "      <td>98805192</td>\n",
       "      <td>1</td>\n",
       "      <td>NaN</td>\n",
       "      <td>Green Car</td>\n",
       "      <td>NaN</td>\n",
       "      <td>acceptable</td>\n",
       "      <td>manageable</td>\n",
       "      <td>good</td>\n",
       "      <td>good</td>\n",
       "      <td>good</td>\n",
       "      <td>...</td>\n",
       "      <td>acceptable</td>\n",
       "      <td>good</td>\n",
       "      <td>Male</td>\n",
       "      <td>NaN</td>\n",
       "      <td>33.0</td>\n",
       "      <td>Business travel</td>\n",
       "      <td>Business</td>\n",
       "      <td>1436</td>\n",
       "      <td>6.0</td>\n",
       "      <td>25.0</td>\n",
       "    </tr>\n",
       "    <tr>\n",
       "      <th>8809</th>\n",
       "      <td>98808810</td>\n",
       "      <td>1</td>\n",
       "      <td>NaN</td>\n",
       "      <td>Green Car</td>\n",
       "      <td>NaN</td>\n",
       "      <td>acceptable</td>\n",
       "      <td>manageable</td>\n",
       "      <td>good</td>\n",
       "      <td>good</td>\n",
       "      <td>good</td>\n",
       "      <td>...</td>\n",
       "      <td>need improvement</td>\n",
       "      <td>good</td>\n",
       "      <td>Female</td>\n",
       "      <td>Loyal Customer</td>\n",
       "      <td>12.0</td>\n",
       "      <td>Personal Travel</td>\n",
       "      <td>Eco</td>\n",
       "      <td>3114</td>\n",
       "      <td>41.0</td>\n",
       "      <td>44.0</td>\n",
       "    </tr>\n",
       "    <tr>\n",
       "      <th>...</th>\n",
       "      <td>...</td>\n",
       "      <td>...</td>\n",
       "      <td>...</td>\n",
       "      <td>...</td>\n",
       "      <td>...</td>\n",
       "      <td>...</td>\n",
       "      <td>...</td>\n",
       "      <td>...</td>\n",
       "      <td>...</td>\n",
       "      <td>...</td>\n",
       "      <td>...</td>\n",
       "      <td>...</td>\n",
       "      <td>...</td>\n",
       "      <td>...</td>\n",
       "      <td>...</td>\n",
       "      <td>...</td>\n",
       "      <td>...</td>\n",
       "      <td>...</td>\n",
       "      <td>...</td>\n",
       "      <td>...</td>\n",
       "      <td>...</td>\n",
       "    </tr>\n",
       "    <tr>\n",
       "      <th>86883</th>\n",
       "      <td>98886884</td>\n",
       "      <td>0</td>\n",
       "      <td>NaN</td>\n",
       "      <td>Green Car</td>\n",
       "      <td>NaN</td>\n",
       "      <td>acceptable</td>\n",
       "      <td>manageable</td>\n",
       "      <td>need improvement</td>\n",
       "      <td>acceptable</td>\n",
       "      <td>need improvement</td>\n",
       "      <td>...</td>\n",
       "      <td>good</td>\n",
       "      <td>need improvement</td>\n",
       "      <td>Male</td>\n",
       "      <td>Loyal Customer</td>\n",
       "      <td>13.0</td>\n",
       "      <td>Personal Travel</td>\n",
       "      <td>Eco</td>\n",
       "      <td>2188</td>\n",
       "      <td>4.0</td>\n",
       "      <td>0.0</td>\n",
       "    </tr>\n",
       "    <tr>\n",
       "      <th>87693</th>\n",
       "      <td>98887694</td>\n",
       "      <td>0</td>\n",
       "      <td>NaN</td>\n",
       "      <td>Green Car</td>\n",
       "      <td>NaN</td>\n",
       "      <td>excellent</td>\n",
       "      <td>very convinient</td>\n",
       "      <td>need improvement</td>\n",
       "      <td>need improvement</td>\n",
       "      <td>need improvement</td>\n",
       "      <td>...</td>\n",
       "      <td>acceptable</td>\n",
       "      <td>need improvement</td>\n",
       "      <td>Female</td>\n",
       "      <td>Loyal Customer</td>\n",
       "      <td>40.0</td>\n",
       "      <td>Business travel</td>\n",
       "      <td>Eco</td>\n",
       "      <td>2361</td>\n",
       "      <td>0.0</td>\n",
       "      <td>0.0</td>\n",
       "    </tr>\n",
       "    <tr>\n",
       "      <th>88765</th>\n",
       "      <td>98888766</td>\n",
       "      <td>0</td>\n",
       "      <td>NaN</td>\n",
       "      <td>Green Car</td>\n",
       "      <td>NaN</td>\n",
       "      <td>acceptable</td>\n",
       "      <td>Convinient</td>\n",
       "      <td>need improvement</td>\n",
       "      <td>acceptable</td>\n",
       "      <td>poor</td>\n",
       "      <td>...</td>\n",
       "      <td>acceptable</td>\n",
       "      <td>need improvement</td>\n",
       "      <td>Female</td>\n",
       "      <td>disloyal Customer</td>\n",
       "      <td>49.0</td>\n",
       "      <td>Business travel</td>\n",
       "      <td>Eco</td>\n",
       "      <td>1788</td>\n",
       "      <td>22.0</td>\n",
       "      <td>18.0</td>\n",
       "    </tr>\n",
       "    <tr>\n",
       "      <th>90800</th>\n",
       "      <td>98890801</td>\n",
       "      <td>0</td>\n",
       "      <td>NaN</td>\n",
       "      <td>Ordinary</td>\n",
       "      <td>NaN</td>\n",
       "      <td>excellent</td>\n",
       "      <td>need improvement</td>\n",
       "      <td>acceptable</td>\n",
       "      <td>acceptable</td>\n",
       "      <td>acceptable</td>\n",
       "      <td>...</td>\n",
       "      <td>good</td>\n",
       "      <td>acceptable</td>\n",
       "      <td>Male</td>\n",
       "      <td>Loyal Customer</td>\n",
       "      <td>37.0</td>\n",
       "      <td>Business travel</td>\n",
       "      <td>Eco</td>\n",
       "      <td>1528</td>\n",
       "      <td>76.0</td>\n",
       "      <td>56.0</td>\n",
       "    </tr>\n",
       "    <tr>\n",
       "      <th>93674</th>\n",
       "      <td>98893675</td>\n",
       "      <td>1</td>\n",
       "      <td>NaN</td>\n",
       "      <td>Green Car</td>\n",
       "      <td>NaN</td>\n",
       "      <td>acceptable</td>\n",
       "      <td>manageable</td>\n",
       "      <td>good</td>\n",
       "      <td>good</td>\n",
       "      <td>good</td>\n",
       "      <td>...</td>\n",
       "      <td>need improvement</td>\n",
       "      <td>good</td>\n",
       "      <td>Male</td>\n",
       "      <td>Loyal Customer</td>\n",
       "      <td>48.0</td>\n",
       "      <td>Business travel</td>\n",
       "      <td>Eco</td>\n",
       "      <td>1315</td>\n",
       "      <td>0.0</td>\n",
       "      <td>0.0</td>\n",
       "    </tr>\n",
       "  </tbody>\n",
       "</table>\n",
       "<p>61 rows × 25 columns</p>\n",
       "</div>"
      ],
      "text/plain": [
       "             ID  Overall_Experience Seat_comfort Seat_Class  \\\n",
       "560    98800561                   0          NaN  Green Car   \n",
       "2214   98802215                   1          NaN  Green Car   \n",
       "4754   98804755                   0          NaN   Ordinary   \n",
       "5191   98805192                   1          NaN  Green Car   \n",
       "8809   98808810                   1          NaN  Green Car   \n",
       "...         ...                 ...          ...        ...   \n",
       "86883  98886884                   0          NaN  Green Car   \n",
       "87693  98887694                   0          NaN  Green Car   \n",
       "88765  98888766                   0          NaN  Green Car   \n",
       "90800  98890801                   0          NaN   Ordinary   \n",
       "93674  98893675                   1          NaN  Green Car   \n",
       "\n",
       "      Arrival_time_convenient          Catering Platform_location  \\\n",
       "560                       NaN              good  need improvement   \n",
       "2214                      NaN              poor        manageable   \n",
       "4754                      NaN  need improvement        manageable   \n",
       "5191                      NaN        acceptable        manageable   \n",
       "8809                      NaN        acceptable        manageable   \n",
       "...                       ...               ...               ...   \n",
       "86883                     NaN        acceptable        manageable   \n",
       "87693                     NaN         excellent   very convinient   \n",
       "88765                     NaN        acceptable        Convinient   \n",
       "90800                     NaN         excellent  need improvement   \n",
       "93674                     NaN        acceptable        manageable   \n",
       "\n",
       "      Onboardwifi_service Onboard_entertainment    Online_support  ...  \\\n",
       "560                  good                  good              good  ...   \n",
       "2214                 good                  good              good  ...   \n",
       "4754            excellent      need improvement              poor  ...   \n",
       "5191                 good                  good              good  ...   \n",
       "8809                 good                  good              good  ...   \n",
       "...                   ...                   ...               ...  ...   \n",
       "86883    need improvement            acceptable  need improvement  ...   \n",
       "87693    need improvement      need improvement  need improvement  ...   \n",
       "88765    need improvement            acceptable              poor  ...   \n",
       "90800          acceptable            acceptable        acceptable  ...   \n",
       "93674                good                  good              good  ...   \n",
       "\n",
       "            Cleanliness   Online_boarding  Gender       CustomerType   Age  \\\n",
       "560          acceptable              good    Male     Loyal Customer  30.0   \n",
       "2214          excellent              good    Male     Loyal Customer  30.0   \n",
       "4754               good         excellent    Male     Loyal Customer  63.0   \n",
       "5191         acceptable              good    Male                NaN  33.0   \n",
       "8809   need improvement              good  Female     Loyal Customer  12.0   \n",
       "...                 ...               ...     ...                ...   ...   \n",
       "86883              good  need improvement    Male     Loyal Customer  13.0   \n",
       "87693        acceptable  need improvement  Female     Loyal Customer  40.0   \n",
       "88765        acceptable  need improvement  Female  disloyal Customer  49.0   \n",
       "90800              good        acceptable    Male     Loyal Customer  37.0   \n",
       "93674  need improvement              good    Male     Loyal Customer  48.0   \n",
       "\n",
       "            TypeTravel Travel_Class Travel_Distance DepartureDelay_in_Mins  \\\n",
       "560    Business travel          Eco            1495                    0.0   \n",
       "2214               NaN     Business            4725                   86.0   \n",
       "4754   Personal Travel          Eco            1380                    0.0   \n",
       "5191   Business travel     Business            1436                    6.0   \n",
       "8809   Personal Travel          Eco            3114                   41.0   \n",
       "...                ...          ...             ...                    ...   \n",
       "86883  Personal Travel          Eco            2188                    4.0   \n",
       "87693  Business travel          Eco            2361                    0.0   \n",
       "88765  Business travel          Eco            1788                   22.0   \n",
       "90800  Business travel          Eco            1528                   76.0   \n",
       "93674  Business travel          Eco            1315                    0.0   \n",
       "\n",
       "       ArrivalDelay_in_Mins  \n",
       "560                     0.0  \n",
       "2214                   77.0  \n",
       "4754                    0.0  \n",
       "5191                   25.0  \n",
       "8809                   44.0  \n",
       "...                     ...  \n",
       "86883                   0.0  \n",
       "87693                   0.0  \n",
       "88765                  18.0  \n",
       "90800                  56.0  \n",
       "93674                   0.0  \n",
       "\n",
       "[61 rows x 25 columns]"
      ]
     },
     "metadata": {},
     "output_type": "display_data"
    },
    {
     "data": {
      "text/plain": [
       "Seat_Class  Seat_comfort    \n",
       "Green Car   acceptable          10604\n",
       "            excellent            6597\n",
       "            extremely poor       1733\n",
       "            good                10395\n",
       "            need improvement    10513\n",
       "            poor                 7563\n",
       "Ordinary    acceptable          10554\n",
       "            excellent            6374\n",
       "            extremely poor       1730\n",
       "            good                10200\n",
       "            need improvement    10433\n",
       "            poor                 7622\n",
       "Name: ID, dtype: int64"
      ]
     },
     "metadata": {},
     "output_type": "display_data"
    },
    {
     "data": {
      "text/plain": [
       "Seat_Class  Seat_comfort    \n",
       "Green Car   acceptable          3957\n",
       "            excellent           2367\n",
       "            extremely poor       648\n",
       "            good                3920\n",
       "            need improvement    3942\n",
       "            poor                2896\n",
       "Ordinary    acceptable          4046\n",
       "            excellent           2487\n",
       "            extremely poor       681\n",
       "            good                3888\n",
       "            need improvement    3889\n",
       "            poor                2859\n",
       "Name: ID, dtype: int64"
      ]
     },
     "metadata": {},
     "output_type": "display_data"
    }
   ],
   "source": [
    "display(df_train[df_train['Seat_comfort'].isna()])\n",
    "display(df_train.groupby(['Seat_Class','Seat_comfort']).count()['ID'])\n",
    "display(df_test.groupby(['Seat_Class','Seat_comfort']).count()['ID'])\n"
   ]
  },
  {
   "cell_type": "markdown",
   "id": "bf3924e8",
   "metadata": {},
   "source": [
    "Seat_comfort is a related field to Seat_Class, both types in Seat_Class has higest frequency for 'acceptable' so we are imputing acceptable for Nan"
   ]
  },
  {
   "cell_type": "code",
   "execution_count": 93,
   "id": "db4c2829",
   "metadata": {
    "ExecuteTime": {
     "end_time": "2022-04-23T09:06:54.520082Z",
     "start_time": "2022-04-23T09:06:54.486010Z"
    }
   },
   "outputs": [
    {
     "data": {
      "text/plain": [
       "0"
      ]
     },
     "execution_count": 93,
     "metadata": {},
     "output_type": "execute_result"
    }
   ],
   "source": [
    "df_train['Seat_comfort'].fillna('acceptable',inplace=True)\n",
    "df_train['Seat_comfort'].isna().sum()"
   ]
  },
  {
   "cell_type": "code",
   "execution_count": 94,
   "id": "b736bdf8",
   "metadata": {
    "ExecuteTime": {
     "end_time": "2022-04-23T09:06:54.554034Z",
     "start_time": "2022-04-23T09:06:54.526927Z"
    }
   },
   "outputs": [
    {
     "data": {
      "text/plain": [
       "0"
      ]
     },
     "execution_count": 94,
     "metadata": {},
     "output_type": "execute_result"
    }
   ],
   "source": [
    "df_test['Seat_comfort'].fillna('acceptable',inplace=True)\n",
    "df_test['Seat_comfort'].isna().sum()"
   ]
  },
  {
   "cell_type": "code",
   "execution_count": 95,
   "id": "763cb54a",
   "metadata": {
    "ExecuteTime": {
     "end_time": "2022-04-23T09:06:54.656561Z",
     "start_time": "2022-04-23T09:06:54.560031Z"
    }
   },
   "outputs": [
    {
     "data": {
      "text/plain": [
       "Arrival_time_convenient\n",
       "acceptable          15.283059\n",
       "excellent           14.551372\n",
       "extremely poor      12.960593\n",
       "good                15.046130\n",
       "need improvement    15.595622\n",
       "poor                15.340761\n",
       "Name: ArrivalDelay_in_Mins, dtype: float64"
      ]
     },
     "metadata": {},
     "output_type": "display_data"
    },
    {
     "data": {
      "text/plain": [
       "7         3.0\n",
       "12        0.0\n",
       "16        1.0\n",
       "29        0.0\n",
       "33       30.0\n",
       "         ... \n",
       "94318    23.0\n",
       "94322    58.0\n",
       "94329     8.0\n",
       "94345     0.0\n",
       "94377     0.0\n",
       "Name: ArrivalDelay_in_Mins, Length: 8930, dtype: float64"
      ]
     },
     "metadata": {},
     "output_type": "display_data"
    },
    {
     "data": {
      "text/plain": [
       "good                19574\n",
       "excellent           17684\n",
       "acceptable          15177\n",
       "need improvement    14990\n",
       "poor                13692\n",
       "extremely poor       4332\n",
       "Name: Arrival_time_convenient, dtype: int64"
      ]
     },
     "metadata": {},
     "output_type": "display_data"
    }
   ],
   "source": [
    "display(df_train.groupby('Arrival_time_convenient').mean()['ArrivalDelay_in_Mins'])\n",
    "display(df_train[df_train.Arrival_time_convenient.isna()]['ArrivalDelay_in_Mins'])\n",
    "display(df_train['Arrival_time_convenient'].value_counts())"
   ]
  },
  {
   "cell_type": "code",
   "execution_count": 96,
   "id": "4d73f78c",
   "metadata": {
    "ExecuteTime": {
     "end_time": "2022-04-23T09:06:54.718974Z",
     "start_time": "2022-04-23T09:06:54.661888Z"
    }
   },
   "outputs": [
    {
     "data": {
      "text/plain": [
       "Arrival_time_convenient\n",
       "acceptable          15.711809\n",
       "excellent           15.702209\n",
       "extremely poor      12.568510\n",
       "good                15.440278\n",
       "need improvement    15.620385\n",
       "poor                14.699961\n",
       "Name: ArrivalDelay_in_Mins, dtype: float64"
      ]
     },
     "metadata": {},
     "output_type": "display_data"
    },
    {
     "data": {
      "text/plain": [
       "5        72.0\n",
       "11        0.0\n",
       "13        0.0\n",
       "28        0.0\n",
       "35        1.0\n",
       "         ... \n",
       "35564    19.0\n",
       "35566     0.0\n",
       "35579     0.0\n",
       "35588     0.0\n",
       "35593     9.0\n",
       "Name: ArrivalDelay_in_Mins, Length: 3325, dtype: float64"
      ]
     },
     "metadata": {},
     "output_type": "display_data"
    },
    {
     "data": {
      "text/plain": [
       "good                7361\n",
       "excellent           6589\n",
       "acceptable          5844\n",
       "need improvement    5684\n",
       "poor                5131\n",
       "extremely poor      1668\n",
       "Name: Arrival_time_convenient, dtype: int64"
      ]
     },
     "metadata": {},
     "output_type": "display_data"
    }
   ],
   "source": [
    "display(df_test.groupby('Arrival_time_convenient').mean()['ArrivalDelay_in_Mins'])\n",
    "display(df_test[df_test['Arrival_time_convenient'].isna()]['ArrivalDelay_in_Mins'])\n",
    "\n",
    "display(df_test['Arrival_time_convenient'].value_counts())"
   ]
  },
  {
   "cell_type": "markdown",
   "id": "be3f0dd2",
   "metadata": {},
   "source": [
    "Comparing Arrival_time_convinient variable with ArivalDelay_in_Min. The mean of ArivalDelay_in_Min remains same in most categories accept for 'extremely poor', cannot get much information out of it, So we impute most frequent class i.e good for Nan in Arrival_time_convinient"
   ]
  },
  {
   "cell_type": "code",
   "execution_count": 97,
   "id": "477fabc8",
   "metadata": {
    "ExecuteTime": {
     "end_time": "2022-04-23T09:06:54.775306Z",
     "start_time": "2022-04-23T09:06:54.725000Z"
    }
   },
   "outputs": [
    {
     "data": {
      "text/plain": [
       "0"
      ]
     },
     "metadata": {},
     "output_type": "display_data"
    },
    {
     "data": {
      "text/plain": [
       "0"
      ]
     },
     "metadata": {},
     "output_type": "display_data"
    }
   ],
   "source": [
    "df_train['Arrival_time_convenient'].fillna('good', inplace = True)\n",
    "display(df_train['Arrival_time_convenient'].isna().sum()) #imputing 'good' value for 'NaN'\n",
    "\n",
    "df_test['Arrival_time_convenient'].fillna('good', inplace = True)\n",
    "display(df_test['Arrival_time_convenient'].isna().sum())"
   ]
  },
  {
   "cell_type": "code",
   "execution_count": 98,
   "id": "6dc9b09a",
   "metadata": {
    "ExecuteTime": {
     "end_time": "2022-04-23T09:06:55.069040Z",
     "start_time": "2022-04-23T09:06:54.779288Z"
    }
   },
   "outputs": [],
   "source": [
    "for i in range(5,19):\n",
    "    df_train.iloc[:,i].fillna(df_train.iloc[:,i].value_counts().index[0],inplace=True)"
   ]
  },
  {
   "cell_type": "code",
   "execution_count": 99,
   "id": "415050d7",
   "metadata": {
    "ExecuteTime": {
     "end_time": "2022-04-23T09:06:55.280209Z",
     "start_time": "2022-04-23T09:06:55.074083Z"
    }
   },
   "outputs": [],
   "source": [
    "for i in range(4,18):\n",
    "    df_test.iloc[:,i].fillna(df_train.iloc[:,i].value_counts().index[0],inplace=True)"
   ]
  },
  {
   "cell_type": "code",
   "execution_count": 100,
   "id": "00a61a25",
   "metadata": {
    "ExecuteTime": {
     "end_time": "2022-04-23T09:06:55.502065Z",
     "start_time": "2022-04-23T09:06:55.283166Z"
    }
   },
   "outputs": [
    {
     "data": {
      "text/plain": [
       "ID                            0\n",
       "Overall_Experience            0\n",
       "Seat_comfort                  0\n",
       "Seat_Class                    0\n",
       "Arrival_time_convenient       0\n",
       "Catering                      0\n",
       "Platform_location             0\n",
       "Onboardwifi_service           0\n",
       "Onboard_entertainment         0\n",
       "Online_support                0\n",
       "Onlinebooking_Ease            0\n",
       "Onboard_service               0\n",
       "Leg_room                      0\n",
       "Baggage_handling              0\n",
       "Checkin_service               0\n",
       "Cleanliness                   0\n",
       "Online_boarding               0\n",
       "Gender                        0\n",
       "CustomerType                  0\n",
       "Age                          33\n",
       "TypeTravel                 9226\n",
       "Travel_Class                  0\n",
       "Travel_Distance               0\n",
       "DepartureDelay_in_Mins       57\n",
       "ArrivalDelay_in_Mins        357\n",
       "dtype: int64"
      ]
     },
     "execution_count": 100,
     "metadata": {},
     "output_type": "execute_result"
    }
   ],
   "source": [
    "df_train.isna().sum()"
   ]
  },
  {
   "cell_type": "code",
   "execution_count": 101,
   "id": "ff00addc",
   "metadata": {
    "ExecuteTime": {
     "end_time": "2022-04-23T09:06:55.615013Z",
     "start_time": "2022-04-23T09:06:55.508086Z"
    }
   },
   "outputs": [
    {
     "data": {
      "text/plain": [
       "ID                            0\n",
       "Seat_comfort                  0\n",
       "Seat_Class                    0\n",
       "Arrival_time_convenient       0\n",
       "Catering                      0\n",
       "Platform_location             0\n",
       "Onboardwifi_service           0\n",
       "Onboard_entertainment         0\n",
       "Online_support                0\n",
       "Onlinebooking_Ease            0\n",
       "Onboard_service               0\n",
       "Leg_room                      0\n",
       "Baggage_handling              0\n",
       "Checkin_service               0\n",
       "Cleanliness                   0\n",
       "Online_boarding               0\n",
       "Gender                        0\n",
       "CustomerType                  0\n",
       "Age                          11\n",
       "TypeTravel                 3448\n",
       "Travel_Class                  0\n",
       "Travel_Distance               0\n",
       "DepartureDelay_in_Mins       29\n",
       "ArrivalDelay_in_Mins        123\n",
       "dtype: int64"
      ]
     },
     "execution_count": 101,
     "metadata": {},
     "output_type": "execute_result"
    }
   ],
   "source": [
    "df_test.isna().sum()"
   ]
  },
  {
   "cell_type": "code",
   "execution_count": 102,
   "id": "bfc6ce0b",
   "metadata": {
    "ExecuteTime": {
     "end_time": "2022-04-23T09:06:55.676820Z",
     "start_time": "2022-04-23T09:06:55.618031Z"
    }
   },
   "outputs": [
    {
     "data": {
      "text/plain": [
       "'Age'"
      ]
     },
     "metadata": {},
     "output_type": "display_data"
    },
    {
     "data": {
      "text/plain": [
       "['45', '60', '25', '35', '80', NaN]\n",
       "Categories (5, object): ['25' < '35' < '45' < '60' < '80']"
      ]
     },
     "metadata": {},
     "output_type": "display_data"
    },
    {
     "data": {
      "text/plain": [
       "'Age'"
      ]
     },
     "metadata": {},
     "output_type": "display_data"
    },
    {
     "data": {
      "text/plain": [
       "['35', '25', '60', '45', '80', NaN]\n",
       "Categories (5, object): ['25' < '35' < '45' < '60' < '80']"
      ]
     },
     "metadata": {},
     "output_type": "display_data"
    }
   ],
   "source": [
    "df_train.Age=pd.cut(df_train.Age,5,labels=['25','35','45','60','80'])\n",
    "df_test.Age=pd.cut(df_test.Age,5,labels=['25','35','45','60','80'])\n",
    "display('Age',df_train.Age.unique())\n",
    "display('Age',df_test.Age.unique())"
   ]
  },
  {
   "cell_type": "code",
   "execution_count": 103,
   "id": "c57d0b2e",
   "metadata": {
    "ExecuteTime": {
     "end_time": "2022-04-23T09:06:55.737225Z",
     "start_time": "2022-04-23T09:06:55.680738Z"
    }
   },
   "outputs": [
    {
     "data": {
      "text/plain": [
       "array([None, '25', None, ..., '25', None, None], dtype=object)"
      ]
     },
     "execution_count": 103,
     "metadata": {},
     "output_type": "execute_result"
    }
   ],
   "source": [
    "np.where(df_train['CustomerType'] == 'Loyal Customer',df_train['Age'],df_train['Age'].fillna('60', inplace = True))\n",
    "np.where(df_train['CustomerType'] == 'disloyal Customer',df_train['Age'],df_train['Age'].fillna('25', inplace = True))\n",
    "np.where(df_test['CustomerType'] == 'Loyal Customer',df_test['Age'],df_test['Age'].fillna('60', inplace = True))\n",
    "np.where(df_test['CustomerType'] == 'disloyal Customer',df_test['Age'],df_test['Age'].fillna('25', inplace = True))"
   ]
  },
  {
   "cell_type": "code",
   "execution_count": 104,
   "id": "896a6d09",
   "metadata": {
    "ExecuteTime": {
     "end_time": "2022-04-23T09:06:55.970880Z",
     "start_time": "2022-04-23T09:06:55.744162Z"
    }
   },
   "outputs": [
    {
     "data": {
      "text/plain": [
       "ID                            0\n",
       "Overall_Experience            0\n",
       "Seat_comfort                  0\n",
       "Seat_Class                    0\n",
       "Arrival_time_convenient       0\n",
       "Catering                      0\n",
       "Platform_location             0\n",
       "Onboardwifi_service           0\n",
       "Onboard_entertainment         0\n",
       "Online_support                0\n",
       "Onlinebooking_Ease            0\n",
       "Onboard_service               0\n",
       "Leg_room                      0\n",
       "Baggage_handling              0\n",
       "Checkin_service               0\n",
       "Cleanliness                   0\n",
       "Online_boarding               0\n",
       "Gender                        0\n",
       "CustomerType                  0\n",
       "Age                           0\n",
       "TypeTravel                 9226\n",
       "Travel_Class                  0\n",
       "Travel_Distance               0\n",
       "DepartureDelay_in_Mins       57\n",
       "ArrivalDelay_in_Mins        357\n",
       "dtype: int64"
      ]
     },
     "execution_count": 104,
     "metadata": {},
     "output_type": "execute_result"
    }
   ],
   "source": [
    "df_train.isna().sum()"
   ]
  },
  {
   "cell_type": "code",
   "execution_count": 105,
   "id": "5ecfe898",
   "metadata": {
    "ExecuteTime": {
     "end_time": "2022-04-23T09:06:56.075537Z",
     "start_time": "2022-04-23T09:06:55.977877Z"
    }
   },
   "outputs": [
    {
     "data": {
      "text/plain": [
       "ID                            0\n",
       "Seat_comfort                  0\n",
       "Seat_Class                    0\n",
       "Arrival_time_convenient       0\n",
       "Catering                      0\n",
       "Platform_location             0\n",
       "Onboardwifi_service           0\n",
       "Onboard_entertainment         0\n",
       "Online_support                0\n",
       "Onlinebooking_Ease            0\n",
       "Onboard_service               0\n",
       "Leg_room                      0\n",
       "Baggage_handling              0\n",
       "Checkin_service               0\n",
       "Cleanliness                   0\n",
       "Online_boarding               0\n",
       "Gender                        0\n",
       "CustomerType                  0\n",
       "Age                           0\n",
       "TypeTravel                 3448\n",
       "Travel_Class                  0\n",
       "Travel_Distance               0\n",
       "DepartureDelay_in_Mins       29\n",
       "ArrivalDelay_in_Mins        123\n",
       "dtype: int64"
      ]
     },
     "execution_count": 105,
     "metadata": {},
     "output_type": "execute_result"
    }
   ],
   "source": [
    "df_test.isna().sum()"
   ]
  },
  {
   "cell_type": "code",
   "execution_count": 106,
   "id": "88dbaa1e",
   "metadata": {
    "ExecuteTime": {
     "end_time": "2022-04-23T09:06:56.334400Z",
     "start_time": "2022-04-23T09:06:56.080598Z"
    }
   },
   "outputs": [
    {
     "data": {
      "text/plain": [
       "Travel_Class  TypeTravel     \n",
       "Business      Business travel    38849\n",
       "              Personal Travel     1791\n",
       "Eco           Business travel    19768\n",
       "              Personal Travel    24745\n",
       "Name: ID, dtype: int64"
      ]
     },
     "execution_count": 106,
     "metadata": {},
     "output_type": "execute_result"
    }
   ],
   "source": [
    "df_train.groupby(['Travel_Class','TypeTravel']).count()['ID']"
   ]
  },
  {
   "cell_type": "code",
   "execution_count": 107,
   "id": "d355a709",
   "metadata": {
    "ExecuteTime": {
     "end_time": "2022-04-23T09:06:56.411288Z",
     "start_time": "2022-04-23T09:06:56.341303Z"
    }
   },
   "outputs": [
    {
     "data": {
      "text/plain": [
       "0        Business\n",
       "12       Business\n",
       "15       Business\n",
       "30            Eco\n",
       "39            Eco\n",
       "           ...   \n",
       "94273         Eco\n",
       "94288         Eco\n",
       "94307    Business\n",
       "94328         Eco\n",
       "94378         Eco\n",
       "Name: Travel_Class, Length: 9226, dtype: object"
      ]
     },
     "execution_count": 107,
     "metadata": {},
     "output_type": "execute_result"
    }
   ],
   "source": [
    "df_train[df_train.TypeTravel.isna()]['Travel_Class']"
   ]
  },
  {
   "cell_type": "code",
   "execution_count": 108,
   "id": "aef42f73",
   "metadata": {
    "ExecuteTime": {
     "end_time": "2022-04-23T09:06:56.483203Z",
     "start_time": "2022-04-23T09:06:56.414245Z"
    }
   },
   "outputs": [
    {
     "data": {
      "text/plain": [
       "array([None, None, None, ..., 'Business travel', 'Personal Travel',\n",
       "       'Personal Travel'], dtype=object)"
      ]
     },
     "execution_count": 108,
     "metadata": {},
     "output_type": "execute_result"
    }
   ],
   "source": [
    "np.where(df_train['Travel_Class'] == 'Business', df_train['TypeTravel'],df_train['TypeTravel'].fillna('Business travel', inplace = True))\n",
    "np.where(df_train['Travel_Class'] == 'Eco',df_train['TypeTravel'],df_train['TypeTravel'].fillna('Personal Travel', inplace = True))\n",
    "\n",
    "np.where(df_test['Travel_Class'] == 'Business',df_test['TypeTravel'],df_test['TypeTravel'].fillna('Business travel', inplace = True))\n",
    "np.where(df_test['Travel_Class'] == 'Eco',df_test['TypeTravel'],df_test['TypeTravel'].fillna('Personal Travel', inplace = True))"
   ]
  },
  {
   "cell_type": "code",
   "execution_count": 109,
   "id": "88029d6b",
   "metadata": {
    "ExecuteTime": {
     "end_time": "2022-04-23T09:06:56.531979Z",
     "start_time": "2022-04-23T09:06:56.486198Z"
    }
   },
   "outputs": [],
   "source": [
    "df_train['DepartureDelay_in_Mins'].fillna(df_train['DepartureDelay_in_Mins'].mean(), inplace = True)\n",
    "df_train['ArrivalDelay_in_Mins'].fillna(df_train['ArrivalDelay_in_Mins'].mean(), inplace = True)\n",
    "\n",
    "\n",
    "df_test['DepartureDelay_in_Mins'].fillna(df_test['DepartureDelay_in_Mins'].mean(), inplace = True)\n",
    "df_test['ArrivalDelay_in_Mins'].fillna(df_test['ArrivalDelay_in_Mins'].mean(), inplace = True)"
   ]
  },
  {
   "cell_type": "code",
   "execution_count": 110,
   "id": "34acca6f",
   "metadata": {
    "ExecuteTime": {
     "end_time": "2022-04-23T09:06:56.910791Z",
     "start_time": "2022-04-23T09:06:56.535933Z"
    }
   },
   "outputs": [
    {
     "data": {
      "text/plain": [
       "ID                         0\n",
       "Overall_Experience         0\n",
       "Seat_comfort               0\n",
       "Seat_Class                 0\n",
       "Arrival_time_convenient    0\n",
       "Catering                   0\n",
       "Platform_location          0\n",
       "Onboardwifi_service        0\n",
       "Onboard_entertainment      0\n",
       "Online_support             0\n",
       "Onlinebooking_Ease         0\n",
       "Onboard_service            0\n",
       "Leg_room                   0\n",
       "Baggage_handling           0\n",
       "Checkin_service            0\n",
       "Cleanliness                0\n",
       "Online_boarding            0\n",
       "Gender                     0\n",
       "CustomerType               0\n",
       "Age                        0\n",
       "TypeTravel                 0\n",
       "Travel_Class               0\n",
       "Travel_Distance            0\n",
       "DepartureDelay_in_Mins     0\n",
       "ArrivalDelay_in_Mins       0\n",
       "dtype: int64"
      ]
     },
     "metadata": {},
     "output_type": "display_data"
    },
    {
     "data": {
      "text/plain": [
       "ID                         0\n",
       "Seat_comfort               0\n",
       "Seat_Class                 0\n",
       "Arrival_time_convenient    0\n",
       "Catering                   0\n",
       "Platform_location          0\n",
       "Onboardwifi_service        0\n",
       "Onboard_entertainment      0\n",
       "Online_support             0\n",
       "Onlinebooking_Ease         0\n",
       "Onboard_service            0\n",
       "Leg_room                   0\n",
       "Baggage_handling           0\n",
       "Checkin_service            0\n",
       "Cleanliness                0\n",
       "Online_boarding            0\n",
       "Gender                     0\n",
       "CustomerType               0\n",
       "Age                        0\n",
       "TypeTravel                 0\n",
       "Travel_Class               0\n",
       "Travel_Distance            0\n",
       "DepartureDelay_in_Mins     0\n",
       "ArrivalDelay_in_Mins       0\n",
       "dtype: int64"
      ]
     },
     "metadata": {},
     "output_type": "display_data"
    }
   ],
   "source": [
    "display(df_train.isna().sum())\n",
    "display(df_test.isna().sum())"
   ]
  },
  {
   "cell_type": "code",
   "execution_count": 111,
   "id": "55d1d87b",
   "metadata": {
    "ExecuteTime": {
     "end_time": "2022-04-23T09:06:57.883976Z",
     "start_time": "2022-04-23T09:06:56.913742Z"
    }
   },
   "outputs": [],
   "source": [
    "df_train['Seat_comfort'].replace(['excellent', 'good', 'acceptable', 'need improvement', 'poor', 'extremely poor'], [5, 4, 3, 2, 1, 0], inplace = True)\n",
    "df_train['Arrival_time_convenient'].replace(['excellent', 'good', 'acceptable', 'need improvement', 'poor', 'extremely poor'], [5, 4, 3, 2, 1, 0], inplace = True)\n",
    "df_train['Catering'].replace(['excellent', 'good', 'acceptable', 'need improvement', 'poor', 'extremely poor'], [5, 4, 3, 2, 1, 0], inplace = True)\n",
    "df_train['Onboardwifi_service'].replace(['excellent', 'good', 'acceptable', 'need improvement', 'poor', 'extremely poor'], [5, 4, 3, 2, 1, 0], inplace = True)\n",
    "df_train['Onboard_entertainment'].replace(['excellent', 'good', 'acceptable', 'need improvement', 'poor', 'extremely poor'], [5, 4, 3, 2, 1, 0], inplace = True)\n",
    "df_train['Online_support'].replace(['excellent', 'good', 'acceptable', 'need improvement', 'poor', 'extremely poor'], [5, 4, 3, 2, 1, 0], inplace = True)\n",
    "df_train['Onlinebooking_Ease'].replace(['excellent', 'good', 'acceptable', 'need improvement', 'poor', 'extremely poor'], [5, 4, 3, 2, 1, 0], inplace = True)\n",
    "df_train['Onboard_service'].replace(['excellent', 'good', 'acceptable', 'need improvement', 'poor', 'extremely poor'], [5, 4, 3, 2, 1, 0], inplace = True)\n",
    "df_train['Leg_room'].replace(['excellent', 'good', 'acceptable', 'need improvement', 'poor', 'extremely poor'], [5, 4, 3, 2, 1, 0], inplace = True)\n",
    "df_train['Checkin_service'].replace(['excellent', 'good', 'acceptable', 'need improvement', 'poor', 'extremely poor'], [5, 4, 3, 2, 1, 0], inplace = True)\n",
    "df_train['Cleanliness'].replace(['excellent', 'good', 'acceptable', 'need improvement', 'poor', 'extremely poor'], [5, 4, 3, 2, 1, 0], inplace = True)\n",
    "df_train['Online_boarding'].replace(['excellent', 'good', 'acceptable', 'need improvement', 'poor', 'extremely poor' ], [5, 4, 3, 2, 1, 0], inplace = True)"
   ]
  },
  {
   "cell_type": "code",
   "execution_count": 112,
   "id": "42e97fd2",
   "metadata": {
    "ExecuteTime": {
     "end_time": "2022-04-23T09:06:57.910944Z",
     "start_time": "2022-04-23T09:06:57.892895Z"
    }
   },
   "outputs": [
    {
     "data": {
      "text/plain": [
       "array(['need improvement', 'acceptable', 'excellent', 'poor', 'good',\n",
       "       'extremely poor', 'manageable'], dtype=object)"
      ]
     },
     "execution_count": 112,
     "metadata": {},
     "output_type": "execute_result"
    }
   ],
   "source": [
    "df_test.Onboardwifi_service.unique()"
   ]
  },
  {
   "cell_type": "code",
   "execution_count": 113,
   "id": "ef278d8c",
   "metadata": {
    "ExecuteTime": {
     "end_time": "2022-04-23T09:06:57.952895Z",
     "start_time": "2022-04-23T09:06:57.913862Z"
    }
   },
   "outputs": [],
   "source": [
    "df_test['Onboardwifi_service'].replace(['manageable' ], ['acceptable'], inplace = True)"
   ]
  },
  {
   "cell_type": "code",
   "execution_count": 114,
   "id": "d1437dbe",
   "metadata": {
    "ExecuteTime": {
     "end_time": "2022-04-23T09:06:58.414523Z",
     "start_time": "2022-04-23T09:06:57.958867Z"
    }
   },
   "outputs": [],
   "source": [
    "df_test['Seat_comfort'].replace(['excellent', 'good', 'acceptable', 'need improvement', 'poor', 'extremely poor' ], [5, 4, 3, 2, 1, 0], inplace = True)\n",
    "df_test['Arrival_time_convenient'].replace(['excellent', 'good', 'acceptable', 'need improvement', 'poor', 'extremely poor' ], [5, 4, 3, 2, 1, 0], inplace = True)\n",
    "df_test['Catering'].replace(['excellent', 'good', 'acceptable', 'need improvement', 'poor', 'extremely poor' ], [5, 4, 3, 2, 1, 0], inplace = True)\n",
    "df_test['Onboardwifi_service'].replace(['excellent', 'good', 'acceptable', 'need improvement', 'poor', 'extremely poor' ], [5, 4, 3, 2, 1, 0], inplace = True)\n",
    "df_test['Onboard_entertainment'].replace(['excellent', 'good', 'acceptable', 'need improvement', 'poor', 'extremely poor' ], [5, 4, 3, 2, 1, 0], inplace = True)\n",
    "df_test['Online_support'].replace(['excellent', 'good', 'acceptable', 'need improvement', 'poor', 'extremely poor' ], [5, 4, 3, 2, 1, 0], inplace = True)\n",
    "df_test['Onlinebooking_Ease'].replace(['excellent', 'good', 'acceptable', 'need improvement', 'poor', 'extremely poor' ], [5, 4, 3, 2, 1, 0], inplace = True)\n",
    "df_test['Onboard_service'].replace(['excellent', 'good', 'acceptable', 'need improvement', 'poor', 'extremely poor' ], [5, 4, 3, 2, 1, 0], inplace = True)\n",
    "df_test['Leg_room'].replace(['excellent', 'good', 'acceptable', 'need improvement', 'poor', 'extremely poor' ], [5, 4, 3, 2, 1, 0], inplace = True)\n",
    "df_test['Checkin_service'].replace(['excellent', 'good', 'acceptable', 'need improvement', 'poor', 'extremely poor' ], [5, 4, 3, 2, 1, 0], inplace = True)\n",
    "df_test['Cleanliness'].replace(['excellent', 'good', 'acceptable', 'need improvement', 'poor', 'extremely poor' ], [5, 4, 3, 2, 1, 0], inplace = True)\n",
    "df_test['Online_boarding'].replace(['excellent', 'good', 'acceptable', 'need improvement', 'poor', 'extremely poor' ], [5, 4, 3, 2, 1, 0], inplace = True)"
   ]
  },
  {
   "cell_type": "code",
   "execution_count": 115,
   "id": "13becfa7",
   "metadata": {
    "ExecuteTime": {
     "end_time": "2022-04-23T09:06:58.571839Z",
     "start_time": "2022-04-23T09:06:58.418351Z"
    }
   },
   "outputs": [
    {
     "name": "stdout",
     "output_type": "stream",
     "text": [
      "<class 'pandas.core.frame.DataFrame'>\n",
      "Int64Index: 94379 entries, 0 to 94378\n",
      "Data columns (total 25 columns):\n",
      " #   Column                   Non-Null Count  Dtype   \n",
      "---  ------                   --------------  -----   \n",
      " 0   ID                       94379 non-null  int64   \n",
      " 1   Overall_Experience       94379 non-null  int64   \n",
      " 2   Seat_comfort             94379 non-null  int64   \n",
      " 3   Seat_Class               94379 non-null  object  \n",
      " 4   Arrival_time_convenient  94379 non-null  int64   \n",
      " 5   Catering                 94379 non-null  int64   \n",
      " 6   Platform_location        94379 non-null  object  \n",
      " 7   Onboardwifi_service      94379 non-null  int64   \n",
      " 8   Onboard_entertainment    94379 non-null  int64   \n",
      " 9   Online_support           94379 non-null  int64   \n",
      " 10  Onlinebooking_Ease       94379 non-null  int64   \n",
      " 11  Onboard_service          94379 non-null  int64   \n",
      " 12  Leg_room                 94379 non-null  int64   \n",
      " 13  Baggage_handling         94379 non-null  object  \n",
      " 14  Checkin_service          94379 non-null  int64   \n",
      " 15  Cleanliness              94379 non-null  int64   \n",
      " 16  Online_boarding          94379 non-null  int64   \n",
      " 17  Gender                   94379 non-null  object  \n",
      " 18  CustomerType             94379 non-null  object  \n",
      " 19  Age                      94379 non-null  category\n",
      " 20  TypeTravel               94379 non-null  object  \n",
      " 21  Travel_Class             94379 non-null  object  \n",
      " 22  Travel_Distance          94379 non-null  int64   \n",
      " 23  DepartureDelay_in_Mins   94379 non-null  float64 \n",
      " 24  ArrivalDelay_in_Mins     94379 non-null  float64 \n",
      "dtypes: category(1), float64(2), int64(15), object(7)\n",
      "memory usage: 18.1+ MB\n"
     ]
    },
    {
     "data": {
      "text/plain": [
       "None"
      ]
     },
     "metadata": {},
     "output_type": "display_data"
    },
    {
     "name": "stdout",
     "output_type": "stream",
     "text": [
      "<class 'pandas.core.frame.DataFrame'>\n",
      "Int64Index: 35602 entries, 0 to 35601\n",
      "Data columns (total 24 columns):\n",
      " #   Column                   Non-Null Count  Dtype   \n",
      "---  ------                   --------------  -----   \n",
      " 0   ID                       35602 non-null  int64   \n",
      " 1   Seat_comfort             35602 non-null  int64   \n",
      " 2   Seat_Class               35602 non-null  object  \n",
      " 3   Arrival_time_convenient  35602 non-null  int64   \n",
      " 4   Catering                 35602 non-null  int64   \n",
      " 5   Platform_location        35602 non-null  object  \n",
      " 6   Onboardwifi_service      35602 non-null  int64   \n",
      " 7   Onboard_entertainment    35602 non-null  int64   \n",
      " 8   Online_support           35602 non-null  int64   \n",
      " 9   Onlinebooking_Ease       35602 non-null  int64   \n",
      " 10  Onboard_service          35602 non-null  int64   \n",
      " 11  Leg_room                 35602 non-null  int64   \n",
      " 12  Baggage_handling         35602 non-null  object  \n",
      " 13  Checkin_service          35602 non-null  int64   \n",
      " 14  Cleanliness              35602 non-null  int64   \n",
      " 15  Online_boarding          35602 non-null  int64   \n",
      " 16  Gender                   35602 non-null  object  \n",
      " 17  CustomerType             35602 non-null  object  \n",
      " 18  Age                      35602 non-null  category\n",
      " 19  TypeTravel               35602 non-null  object  \n",
      " 20  Travel_Class             35602 non-null  object  \n",
      " 21  Travel_Distance          35602 non-null  int64   \n",
      " 22  DepartureDelay_in_Mins   35602 non-null  float64 \n",
      " 23  ArrivalDelay_in_Mins     35602 non-null  float64 \n",
      "dtypes: category(1), float64(2), int64(14), object(7)\n",
      "memory usage: 6.6+ MB\n"
     ]
    },
    {
     "data": {
      "text/plain": [
       "None"
      ]
     },
     "metadata": {},
     "output_type": "display_data"
    }
   ],
   "source": [
    "display(df_train.info())\n",
    "display(df_test.info())"
   ]
  },
  {
   "cell_type": "code",
   "execution_count": 116,
   "id": "bb0a053c",
   "metadata": {
    "ExecuteTime": {
     "end_time": "2022-04-23T09:06:58.595941Z",
     "start_time": "2022-04-23T09:06:58.577825Z"
    }
   },
   "outputs": [
    {
     "data": {
      "text/plain": [
       "array(['manageable', 'very convinient', 'need improvement',\n",
       "       'Inconvinient', 'Convinient', 'acceptable'], dtype=object)"
      ]
     },
     "execution_count": 116,
     "metadata": {},
     "output_type": "execute_result"
    }
   ],
   "source": [
    "df_test.Platform_location.unique()"
   ]
  },
  {
   "cell_type": "code",
   "execution_count": 117,
   "id": "14950df9",
   "metadata": {
    "ExecuteTime": {
     "end_time": "2022-04-23T09:06:58.619992Z",
     "start_time": "2022-04-23T09:06:58.598945Z"
    }
   },
   "outputs": [],
   "source": [
    "df_test['Platform_location'].replace(['acceptable'], ['very inconvinient'], inplace = True)"
   ]
  },
  {
   "cell_type": "code",
   "execution_count": 118,
   "id": "b818796f",
   "metadata": {
    "ExecuteTime": {
     "end_time": "2022-04-23T09:06:58.665891Z",
     "start_time": "2022-04-23T09:06:58.627990Z"
    }
   },
   "outputs": [
    {
     "data": {
      "text/plain": [
       "array(['Female', 'Male', 'good'], dtype=object)"
      ]
     },
     "execution_count": 118,
     "metadata": {},
     "output_type": "execute_result"
    }
   ],
   "source": [
    "df_test.Gender.unique()"
   ]
  },
  {
   "cell_type": "code",
   "execution_count": 119,
   "id": "875eb19d",
   "metadata": {
    "ExecuteTime": {
     "end_time": "2022-04-23T09:06:58.680859Z",
     "start_time": "2022-04-23T09:06:58.668835Z"
    }
   },
   "outputs": [
    {
     "data": {
      "text/plain": [
       "Female    18069\n",
       "Male      17503\n",
       "good         30\n",
       "Name: Gender, dtype: int64"
      ]
     },
     "execution_count": 119,
     "metadata": {},
     "output_type": "execute_result"
    }
   ],
   "source": [
    "df_test.Gender.value_counts()"
   ]
  },
  {
   "cell_type": "code",
   "execution_count": 120,
   "id": "638c4a6b",
   "metadata": {
    "ExecuteTime": {
     "end_time": "2022-04-23T09:06:58.710813Z",
     "start_time": "2022-04-23T09:06:58.684686Z"
    }
   },
   "outputs": [],
   "source": [
    "df_test['Gender'].replace(['good'], ['Female'], inplace = True)"
   ]
  },
  {
   "cell_type": "code",
   "execution_count": 121,
   "id": "ad2ed31b",
   "metadata": {
    "ExecuteTime": {
     "end_time": "2022-04-23T09:06:58.735070Z",
     "start_time": "2022-04-23T09:06:58.714689Z"
    }
   },
   "outputs": [
    {
     "data": {
      "text/plain": [
       "Loyal Customer       26349\n",
       "disloyal Customer     5870\n",
       "Female                3383\n",
       "Name: CustomerType, dtype: int64"
      ]
     },
     "execution_count": 121,
     "metadata": {},
     "output_type": "execute_result"
    }
   ],
   "source": [
    "df_test.CustomerType.value_counts()"
   ]
  },
  {
   "cell_type": "code",
   "execution_count": 122,
   "id": "b4979a40",
   "metadata": {
    "ExecuteTime": {
     "end_time": "2022-04-23T09:06:58.761070Z",
     "start_time": "2022-04-23T09:06:58.738058Z"
    }
   },
   "outputs": [],
   "source": [
    "df_test['CustomerType'].replace(['Female'], ['Loyal Customer'], inplace = True)"
   ]
  },
  {
   "cell_type": "code",
   "execution_count": 123,
   "id": "4bd6d738",
   "metadata": {
    "ExecuteTime": {
     "end_time": "2022-04-23T09:06:59.312695Z",
     "start_time": "2022-04-23T09:06:58.767085Z"
    }
   },
   "outputs": [],
   "source": [
    "df_train['Platform_location'].replace(['very convinient', 'need improvement', 'manageable',\n",
    "       'Inconvinient', 'Convinient', 'very inconvinient'], [5,2,3,1,4,0], inplace = True)\n",
    "df_train['Seat_Class'].replace(['Green Car', 'Ordinary'], [1,0], inplace = True)\n",
    "df_train['Baggage_handling'].replace(['excellent', 'good', 'acceptable', 'need improvement', 'poor', 'extremely poor' ], [5, 4, 3, 2, 1, 0], inplace = True)\n",
    "df_test['Platform_location'].replace(['very convinient', 'need improvement', 'manageable',\n",
    "       'Inconvinient', 'Convinient', 'very inconvinient'], [5,2,3,1,4,0], inplace = True)\n",
    "df_test['Seat_Class'].replace(['Green Car', 'Ordinary'], [1,0], inplace = True)\n",
    "df_test['Baggage_handling'].replace(['excellent', 'good', 'acceptable', 'need improvement', 'poor', 'extremely poor' ], [5, 4, 3, 2, 1, 0], inplace = True)\n",
    "df_train['Gender'].replace(['Female', 'Male'], [0,1], inplace = True)\n",
    "df_train['CustomerType'].replace(['Loyal Customer', 'disloyal Customer'], [1,0], inplace = True)\n",
    "df_train['TypeTravel'].replace(['Business travel', 'Personal Travel'], [0,1], inplace = True)\n",
    "df_train['Travel_Class'].replace(['Business', 'Eco'], [0,1], inplace = True)\n",
    "df_test['Gender'].replace(['Female', 'Male'], [0,1], inplace = True)\n",
    "df_test['CustomerType'].replace(['Loyal Customer', 'disloyal Customer'], [1,0], inplace = True)\n",
    "df_test['TypeTravel'].replace(['Business travel', 'Personal Travel'], [0,1], inplace = True)\n",
    "df_test['Travel_Class'].replace(['Business', 'Eco'], [0,1], inplace = True)"
   ]
  },
  {
   "cell_type": "code",
   "execution_count": 124,
   "id": "673d7d95",
   "metadata": {
    "ExecuteTime": {
     "end_time": "2022-04-23T09:06:59.381987Z",
     "start_time": "2022-04-23T09:06:59.316705Z"
    }
   },
   "outputs": [],
   "source": [
    "for feature in df_train.columns:\n",
    "    if df_train[feature].dtype == 'object':\n",
    "        df_train[feature] = pd.Categorical(df_train[feature])\n",
    "        \n",
    "df_train = pd.get_dummies(df_train, columns = ['Age'])"
   ]
  },
  {
   "cell_type": "code",
   "execution_count": 125,
   "id": "b93ec063",
   "metadata": {
    "ExecuteTime": {
     "end_time": "2022-04-23T09:06:59.421019Z",
     "start_time": "2022-04-23T09:06:59.383910Z"
    }
   },
   "outputs": [],
   "source": [
    "for feature in df_test.columns:\n",
    "    if df_test[feature].dtype == 'object':\n",
    "        df_test[feature] = pd.Categorical(df_test[feature])\n",
    "        \n",
    "df_test = pd.get_dummies(df_test, columns = ['Age'])"
   ]
  },
  {
   "cell_type": "code",
   "execution_count": 126,
   "id": "5b41d28e",
   "metadata": {
    "ExecuteTime": {
     "end_time": "2022-04-23T09:06:59.490544Z",
     "start_time": "2022-04-23T09:06:59.425907Z"
    }
   },
   "outputs": [
    {
     "name": "stdout",
     "output_type": "stream",
     "text": [
      "<class 'pandas.core.frame.DataFrame'>\n",
      "Int64Index: 94379 entries, 0 to 94378\n",
      "Data columns (total 29 columns):\n",
      " #   Column                   Non-Null Count  Dtype  \n",
      "---  ------                   --------------  -----  \n",
      " 0   ID                       94379 non-null  int64  \n",
      " 1   Overall_Experience       94379 non-null  int64  \n",
      " 2   Seat_comfort             94379 non-null  int64  \n",
      " 3   Seat_Class               94379 non-null  int64  \n",
      " 4   Arrival_time_convenient  94379 non-null  int64  \n",
      " 5   Catering                 94379 non-null  int64  \n",
      " 6   Platform_location        94379 non-null  int64  \n",
      " 7   Onboardwifi_service      94379 non-null  int64  \n",
      " 8   Onboard_entertainment    94379 non-null  int64  \n",
      " 9   Online_support           94379 non-null  int64  \n",
      " 10  Onlinebooking_Ease       94379 non-null  int64  \n",
      " 11  Onboard_service          94379 non-null  int64  \n",
      " 12  Leg_room                 94379 non-null  int64  \n",
      " 13  Baggage_handling         94379 non-null  int64  \n",
      " 14  Checkin_service          94379 non-null  int64  \n",
      " 15  Cleanliness              94379 non-null  int64  \n",
      " 16  Online_boarding          94379 non-null  int64  \n",
      " 17  Gender                   94379 non-null  int64  \n",
      " 18  CustomerType             94379 non-null  int64  \n",
      " 19  TypeTravel               94379 non-null  int64  \n",
      " 20  Travel_Class             94379 non-null  int64  \n",
      " 21  Travel_Distance          94379 non-null  int64  \n",
      " 22  DepartureDelay_in_Mins   94379 non-null  float64\n",
      " 23  ArrivalDelay_in_Mins     94379 non-null  float64\n",
      " 24  Age_25                   94379 non-null  uint8  \n",
      " 25  Age_35                   94379 non-null  uint8  \n",
      " 26  Age_45                   94379 non-null  uint8  \n",
      " 27  Age_60                   94379 non-null  uint8  \n",
      " 28  Age_80                   94379 non-null  uint8  \n",
      "dtypes: float64(2), int64(22), uint8(5)\n",
      "memory usage: 18.5 MB\n"
     ]
    },
    {
     "data": {
      "text/plain": [
       "None"
      ]
     },
     "metadata": {},
     "output_type": "display_data"
    },
    {
     "name": "stdout",
     "output_type": "stream",
     "text": [
      "<class 'pandas.core.frame.DataFrame'>\n",
      "Int64Index: 35602 entries, 0 to 35601\n",
      "Data columns (total 28 columns):\n",
      " #   Column                   Non-Null Count  Dtype  \n",
      "---  ------                   --------------  -----  \n",
      " 0   ID                       35602 non-null  int64  \n",
      " 1   Seat_comfort             35602 non-null  int64  \n",
      " 2   Seat_Class               35602 non-null  int64  \n",
      " 3   Arrival_time_convenient  35602 non-null  int64  \n",
      " 4   Catering                 35602 non-null  int64  \n",
      " 5   Platform_location        35602 non-null  int64  \n",
      " 6   Onboardwifi_service      35602 non-null  int64  \n",
      " 7   Onboard_entertainment    35602 non-null  int64  \n",
      " 8   Online_support           35602 non-null  int64  \n",
      " 9   Onlinebooking_Ease       35602 non-null  int64  \n",
      " 10  Onboard_service          35602 non-null  int64  \n",
      " 11  Leg_room                 35602 non-null  int64  \n",
      " 12  Baggage_handling         35602 non-null  int64  \n",
      " 13  Checkin_service          35602 non-null  int64  \n",
      " 14  Cleanliness              35602 non-null  int64  \n",
      " 15  Online_boarding          35602 non-null  int64  \n",
      " 16  Gender                   35602 non-null  int64  \n",
      " 17  CustomerType             35602 non-null  int64  \n",
      " 18  TypeTravel               35602 non-null  int64  \n",
      " 19  Travel_Class             35602 non-null  int64  \n",
      " 20  Travel_Distance          35602 non-null  int64  \n",
      " 21  DepartureDelay_in_Mins   35602 non-null  float64\n",
      " 22  ArrivalDelay_in_Mins     35602 non-null  float64\n",
      " 23  Age_25                   35602 non-null  uint8  \n",
      " 24  Age_35                   35602 non-null  uint8  \n",
      " 25  Age_45                   35602 non-null  uint8  \n",
      " 26  Age_60                   35602 non-null  uint8  \n",
      " 27  Age_80                   35602 non-null  uint8  \n",
      "dtypes: float64(2), int64(21), uint8(5)\n",
      "memory usage: 6.7 MB\n"
     ]
    },
    {
     "data": {
      "text/plain": [
       "None"
      ]
     },
     "metadata": {},
     "output_type": "display_data"
    }
   ],
   "source": [
    "display(df_train.info())\n",
    "display(df_test.info())"
   ]
  },
  {
   "cell_type": "code",
   "execution_count": 127,
   "id": "3ca59d3d",
   "metadata": {
    "ExecuteTime": {
     "end_time": "2022-04-23T09:06:59.620149Z",
     "start_time": "2022-04-23T09:06:59.493564Z"
    }
   },
   "outputs": [
    {
     "data": {
      "image/png": "[encoded data removed]",
      "text/plain": [
       "<Figure size 432x288 with 1 Axes>"
      ]
     },
     "metadata": {},
     "output_type": "display_data"
    }
   ],
   "source": [
    "sns.countplot('Overall_Experience',data =df_train);"
   ]
  },
  {
   "cell_type": "code",
   "execution_count": 128,
   "id": "4b40f26f",
   "metadata": {
    "ExecuteTime": {
     "end_time": "2022-04-23T09:06:59.683058Z",
     "start_time": "2022-04-23T09:06:59.624058Z"
    }
   },
   "outputs": [
    {
     "data": {
      "text/html": [
       "<div>\n",
       "<style scoped>\n",
       "    .dataframe tbody tr th:only-of-type {\n",
       "        vertical-align: middle;\n",
       "    }\n",
       "\n",
       "    .dataframe tbody tr th {\n",
       "        vertical-align: top;\n",
       "    }\n",
       "\n",
       "    .dataframe thead th {\n",
       "        text-align: right;\n",
       "    }\n",
       "</style>\n",
       "<table border=\"1\" class=\"dataframe\">\n",
       "  <thead>\n",
       "    <tr style=\"text-align: right;\">\n",
       "      <th></th>\n",
       "      <th>Seat_comfort</th>\n",
       "      <th>Seat_Class</th>\n",
       "      <th>Arrival_time_convenient</th>\n",
       "      <th>Catering</th>\n",
       "      <th>Platform_location</th>\n",
       "      <th>Onboardwifi_service</th>\n",
       "      <th>Onboard_entertainment</th>\n",
       "      <th>Online_support</th>\n",
       "      <th>Onlinebooking_Ease</th>\n",
       "      <th>Onboard_service</th>\n",
       "      <th>...</th>\n",
       "      <th>TypeTravel</th>\n",
       "      <th>Travel_Class</th>\n",
       "      <th>Travel_Distance</th>\n",
       "      <th>DepartureDelay_in_Mins</th>\n",
       "      <th>ArrivalDelay_in_Mins</th>\n",
       "      <th>Age_25</th>\n",
       "      <th>Age_35</th>\n",
       "      <th>Age_45</th>\n",
       "      <th>Age_60</th>\n",
       "      <th>Age_80</th>\n",
       "    </tr>\n",
       "  </thead>\n",
       "  <tbody>\n",
       "    <tr>\n",
       "      <th>0</th>\n",
       "      <td>2</td>\n",
       "      <td>1</td>\n",
       "      <td>5</td>\n",
       "      <td>5</td>\n",
       "      <td>5</td>\n",
       "      <td>4</td>\n",
       "      <td>2</td>\n",
       "      <td>3</td>\n",
       "      <td>2</td>\n",
       "      <td>2</td>\n",
       "      <td>...</td>\n",
       "      <td>0</td>\n",
       "      <td>0</td>\n",
       "      <td>272</td>\n",
       "      <td>0.0</td>\n",
       "      <td>5.0</td>\n",
       "      <td>0</td>\n",
       "      <td>0</td>\n",
       "      <td>1</td>\n",
       "      <td>0</td>\n",
       "      <td>0</td>\n",
       "    </tr>\n",
       "    <tr>\n",
       "      <th>1</th>\n",
       "      <td>1</td>\n",
       "      <td>0</td>\n",
       "      <td>5</td>\n",
       "      <td>1</td>\n",
       "      <td>2</td>\n",
       "      <td>4</td>\n",
       "      <td>1</td>\n",
       "      <td>4</td>\n",
       "      <td>4</td>\n",
       "      <td>5</td>\n",
       "      <td>...</td>\n",
       "      <td>1</td>\n",
       "      <td>1</td>\n",
       "      <td>2200</td>\n",
       "      <td>9.0</td>\n",
       "      <td>0.0</td>\n",
       "      <td>0</td>\n",
       "      <td>0</td>\n",
       "      <td>1</td>\n",
       "      <td>0</td>\n",
       "      <td>0</td>\n",
       "    </tr>\n",
       "    <tr>\n",
       "      <th>2</th>\n",
       "      <td>2</td>\n",
       "      <td>1</td>\n",
       "      <td>2</td>\n",
       "      <td>2</td>\n",
       "      <td>2</td>\n",
       "      <td>2</td>\n",
       "      <td>4</td>\n",
       "      <td>5</td>\n",
       "      <td>5</td>\n",
       "      <td>5</td>\n",
       "      <td>...</td>\n",
       "      <td>0</td>\n",
       "      <td>0</td>\n",
       "      <td>1061</td>\n",
       "      <td>77.0</td>\n",
       "      <td>119.0</td>\n",
       "      <td>0</td>\n",
       "      <td>0</td>\n",
       "      <td>1</td>\n",
       "      <td>0</td>\n",
       "      <td>0</td>\n",
       "    </tr>\n",
       "    <tr>\n",
       "      <th>3</th>\n",
       "      <td>3</td>\n",
       "      <td>0</td>\n",
       "      <td>2</td>\n",
       "      <td>3</td>\n",
       "      <td>2</td>\n",
       "      <td>3</td>\n",
       "      <td>2</td>\n",
       "      <td>3</td>\n",
       "      <td>3</td>\n",
       "      <td>3</td>\n",
       "      <td>...</td>\n",
       "      <td>0</td>\n",
       "      <td>0</td>\n",
       "      <td>780</td>\n",
       "      <td>13.0</td>\n",
       "      <td>18.0</td>\n",
       "      <td>0</td>\n",
       "      <td>0</td>\n",
       "      <td>1</td>\n",
       "      <td>0</td>\n",
       "      <td>0</td>\n",
       "    </tr>\n",
       "    <tr>\n",
       "      <th>4</th>\n",
       "      <td>3</td>\n",
       "      <td>0</td>\n",
       "      <td>3</td>\n",
       "      <td>3</td>\n",
       "      <td>3</td>\n",
       "      <td>2</td>\n",
       "      <td>4</td>\n",
       "      <td>5</td>\n",
       "      <td>4</td>\n",
       "      <td>4</td>\n",
       "      <td>...</td>\n",
       "      <td>0</td>\n",
       "      <td>0</td>\n",
       "      <td>1981</td>\n",
       "      <td>0.0</td>\n",
       "      <td>0.0</td>\n",
       "      <td>0</td>\n",
       "      <td>0</td>\n",
       "      <td>1</td>\n",
       "      <td>0</td>\n",
       "      <td>0</td>\n",
       "    </tr>\n",
       "  </tbody>\n",
       "</table>\n",
       "<p>5 rows × 27 columns</p>\n",
       "</div>"
      ],
      "text/plain": [
       "   Seat_comfort  Seat_Class  Arrival_time_convenient  Catering  \\\n",
       "0             2           1                        5         5   \n",
       "1             1           0                        5         1   \n",
       "2             2           1                        2         2   \n",
       "3             3           0                        2         3   \n",
       "4             3           0                        3         3   \n",
       "\n",
       "   Platform_location  Onboardwifi_service  Onboard_entertainment  \\\n",
       "0                  5                    4                      2   \n",
       "1                  2                    4                      1   \n",
       "2                  2                    2                      4   \n",
       "3                  2                    3                      2   \n",
       "4                  3                    2                      4   \n",
       "\n",
       "   Online_support  Onlinebooking_Ease  Onboard_service  ...  TypeTravel  \\\n",
       "0               3                   2                2  ...           0   \n",
       "1               4                   4                5  ...           1   \n",
       "2               5                   5                5  ...           0   \n",
       "3               3                   3                3  ...           0   \n",
       "4               5                   4                4  ...           0   \n",
       "\n",
       "   Travel_Class  Travel_Distance  DepartureDelay_in_Mins  \\\n",
       "0             0              272                     0.0   \n",
       "1             1             2200                     9.0   \n",
       "2             0             1061                    77.0   \n",
       "3             0              780                    13.0   \n",
       "4             0             1981                     0.0   \n",
       "\n",
       "   ArrivalDelay_in_Mins  Age_25  Age_35  Age_45  Age_60  Age_80  \n",
       "0                   5.0       0       0       1       0       0  \n",
       "1                   0.0       0       0       1       0       0  \n",
       "2                 119.0       0       0       1       0       0  \n",
       "3                  18.0       0       0       1       0       0  \n",
       "4                   0.0       0       0       1       0       0  \n",
       "\n",
       "[5 rows x 27 columns]"
      ]
     },
     "metadata": {},
     "output_type": "display_data"
    },
    {
     "data": {
      "text/html": [
       "<div>\n",
       "<style scoped>\n",
       "    .dataframe tbody tr th:only-of-type {\n",
       "        vertical-align: middle;\n",
       "    }\n",
       "\n",
       "    .dataframe tbody tr th {\n",
       "        vertical-align: top;\n",
       "    }\n",
       "\n",
       "    .dataframe thead th {\n",
       "        text-align: right;\n",
       "    }\n",
       "</style>\n",
       "<table border=\"1\" class=\"dataframe\">\n",
       "  <thead>\n",
       "    <tr style=\"text-align: right;\">\n",
       "      <th></th>\n",
       "      <th>Seat_comfort</th>\n",
       "      <th>Seat_Class</th>\n",
       "      <th>Arrival_time_convenient</th>\n",
       "      <th>Catering</th>\n",
       "      <th>Platform_location</th>\n",
       "      <th>Onboardwifi_service</th>\n",
       "      <th>Onboard_entertainment</th>\n",
       "      <th>Online_support</th>\n",
       "      <th>Onlinebooking_Ease</th>\n",
       "      <th>Onboard_service</th>\n",
       "      <th>...</th>\n",
       "      <th>TypeTravel</th>\n",
       "      <th>Travel_Class</th>\n",
       "      <th>Travel_Distance</th>\n",
       "      <th>DepartureDelay_in_Mins</th>\n",
       "      <th>ArrivalDelay_in_Mins</th>\n",
       "      <th>Age_25</th>\n",
       "      <th>Age_35</th>\n",
       "      <th>Age_45</th>\n",
       "      <th>Age_60</th>\n",
       "      <th>Age_80</th>\n",
       "    </tr>\n",
       "  </thead>\n",
       "  <tbody>\n",
       "    <tr>\n",
       "      <th>0</th>\n",
       "      <td>3</td>\n",
       "      <td>1</td>\n",
       "      <td>3</td>\n",
       "      <td>3</td>\n",
       "      <td>3</td>\n",
       "      <td>2</td>\n",
       "      <td>5</td>\n",
       "      <td>4</td>\n",
       "      <td>5</td>\n",
       "      <td>5</td>\n",
       "      <td>...</td>\n",
       "      <td>0</td>\n",
       "      <td>0</td>\n",
       "      <td>532</td>\n",
       "      <td>0.0</td>\n",
       "      <td>0.0</td>\n",
       "      <td>0</td>\n",
       "      <td>1</td>\n",
       "      <td>0</td>\n",
       "      <td>0</td>\n",
       "      <td>0</td>\n",
       "    </tr>\n",
       "    <tr>\n",
       "      <th>1</th>\n",
       "      <td>0</td>\n",
       "      <td>0</td>\n",
       "      <td>4</td>\n",
       "      <td>1</td>\n",
       "      <td>3</td>\n",
       "      <td>3</td>\n",
       "      <td>1</td>\n",
       "      <td>3</td>\n",
       "      <td>3</td>\n",
       "      <td>5</td>\n",
       "      <td>...</td>\n",
       "      <td>0</td>\n",
       "      <td>0</td>\n",
       "      <td>1425</td>\n",
       "      <td>9.0</td>\n",
       "      <td>28.0</td>\n",
       "      <td>1</td>\n",
       "      <td>0</td>\n",
       "      <td>0</td>\n",
       "      <td>0</td>\n",
       "      <td>0</td>\n",
       "    </tr>\n",
       "    <tr>\n",
       "      <th>2</th>\n",
       "      <td>5</td>\n",
       "      <td>0</td>\n",
       "      <td>5</td>\n",
       "      <td>5</td>\n",
       "      <td>5</td>\n",
       "      <td>5</td>\n",
       "      <td>5</td>\n",
       "      <td>5</td>\n",
       "      <td>2</td>\n",
       "      <td>2</td>\n",
       "      <td>...</td>\n",
       "      <td>0</td>\n",
       "      <td>0</td>\n",
       "      <td>2832</td>\n",
       "      <td>0.0</td>\n",
       "      <td>0.0</td>\n",
       "      <td>0</td>\n",
       "      <td>0</td>\n",
       "      <td>0</td>\n",
       "      <td>1</td>\n",
       "      <td>0</td>\n",
       "    </tr>\n",
       "    <tr>\n",
       "      <th>3</th>\n",
       "      <td>3</td>\n",
       "      <td>1</td>\n",
       "      <td>5</td>\n",
       "      <td>3</td>\n",
       "      <td>5</td>\n",
       "      <td>1</td>\n",
       "      <td>3</td>\n",
       "      <td>5</td>\n",
       "      <td>1</td>\n",
       "      <td>3</td>\n",
       "      <td>...</td>\n",
       "      <td>1</td>\n",
       "      <td>1</td>\n",
       "      <td>1352</td>\n",
       "      <td>0.0</td>\n",
       "      <td>0.0</td>\n",
       "      <td>0</td>\n",
       "      <td>1</td>\n",
       "      <td>0</td>\n",
       "      <td>0</td>\n",
       "      <td>0</td>\n",
       "    </tr>\n",
       "    <tr>\n",
       "      <th>4</th>\n",
       "      <td>5</td>\n",
       "      <td>0</td>\n",
       "      <td>0</td>\n",
       "      <td>5</td>\n",
       "      <td>2</td>\n",
       "      <td>5</td>\n",
       "      <td>5</td>\n",
       "      <td>5</td>\n",
       "      <td>5</td>\n",
       "      <td>4</td>\n",
       "      <td>...</td>\n",
       "      <td>0</td>\n",
       "      <td>0</td>\n",
       "      <td>1610</td>\n",
       "      <td>17.0</td>\n",
       "      <td>0.0</td>\n",
       "      <td>1</td>\n",
       "      <td>0</td>\n",
       "      <td>0</td>\n",
       "      <td>0</td>\n",
       "      <td>0</td>\n",
       "    </tr>\n",
       "  </tbody>\n",
       "</table>\n",
       "<p>5 rows × 27 columns</p>\n",
       "</div>"
      ],
      "text/plain": [
       "   Seat_comfort  Seat_Class  Arrival_time_convenient  Catering  \\\n",
       "0             3           1                        3         3   \n",
       "1             0           0                        4         1   \n",
       "2             5           0                        5         5   \n",
       "3             3           1                        5         3   \n",
       "4             5           0                        0         5   \n",
       "\n",
       "   Platform_location  Onboardwifi_service  Onboard_entertainment  \\\n",
       "0                  3                    2                      5   \n",
       "1                  3                    3                      1   \n",
       "2                  5                    5                      5   \n",
       "3                  5                    1                      3   \n",
       "4                  2                    5                      5   \n",
       "\n",
       "   Online_support  Onlinebooking_Ease  Onboard_service  ...  TypeTravel  \\\n",
       "0               4                   5                5  ...           0   \n",
       "1               3                   3                5  ...           0   \n",
       "2               5                   2                2  ...           0   \n",
       "3               5                   1                3  ...           1   \n",
       "4               5                   5                4  ...           0   \n",
       "\n",
       "   Travel_Class  Travel_Distance  DepartureDelay_in_Mins  \\\n",
       "0             0              532                     0.0   \n",
       "1             0             1425                     9.0   \n",
       "2             0             2832                     0.0   \n",
       "3             1             1352                     0.0   \n",
       "4             0             1610                    17.0   \n",
       "\n",
       "   ArrivalDelay_in_Mins  Age_25  Age_35  Age_45  Age_60  Age_80  \n",
       "0                   0.0       0       1       0       0       0  \n",
       "1                  28.0       1       0       0       0       0  \n",
       "2                   0.0       0       0       0       1       0  \n",
       "3                   0.0       0       1       0       0       0  \n",
       "4                   0.0       1       0       0       0       0  \n",
       "\n",
       "[5 rows x 27 columns]"
      ]
     },
     "metadata": {},
     "output_type": "display_data"
    }
   ],
   "source": [
    "#seperating the independant and dependant variables\n",
    "x =df_train.drop(['ID', 'Overall_Experience'], axis = 1)\n",
    "y =df_train['Overall_Experience']\n",
    "display(x.head())\n",
    "\n",
    "x_test =df_test.drop(['ID',], axis = 1)\n",
    "display(x_test.head())"
   ]
  },
  {
   "cell_type": "code",
   "execution_count": 129,
   "id": "1db5be77",
   "metadata": {
    "ExecuteTime": {
     "end_time": "2022-04-23T09:07:00.093568Z",
     "start_time": "2022-04-23T09:06:59.689056Z"
    }
   },
   "outputs": [
    {
     "data": {
      "text/html": [
       "<div>\n",
       "<style scoped>\n",
       "    .dataframe tbody tr th:only-of-type {\n",
       "        vertical-align: middle;\n",
       "    }\n",
       "\n",
       "    .dataframe tbody tr th {\n",
       "        vertical-align: top;\n",
       "    }\n",
       "\n",
       "    .dataframe thead th {\n",
       "        text-align: right;\n",
       "    }\n",
       "</style>\n",
       "<table border=\"1\" class=\"dataframe\">\n",
       "  <thead>\n",
       "    <tr style=\"text-align: right;\">\n",
       "      <th></th>\n",
       "      <th>Seat_comfort</th>\n",
       "      <th>Seat_Class</th>\n",
       "      <th>Arrival_time_convenient</th>\n",
       "      <th>Catering</th>\n",
       "      <th>Platform_location</th>\n",
       "      <th>Onboardwifi_service</th>\n",
       "      <th>Onboard_entertainment</th>\n",
       "      <th>Online_support</th>\n",
       "      <th>Onlinebooking_Ease</th>\n",
       "      <th>Onboard_service</th>\n",
       "      <th>...</th>\n",
       "      <th>TypeTravel</th>\n",
       "      <th>Travel_Class</th>\n",
       "      <th>Travel_Distance</th>\n",
       "      <th>DepartureDelay_in_Mins</th>\n",
       "      <th>ArrivalDelay_in_Mins</th>\n",
       "      <th>Age_25</th>\n",
       "      <th>Age_35</th>\n",
       "      <th>Age_45</th>\n",
       "      <th>Age_60</th>\n",
       "      <th>Age_80</th>\n",
       "    </tr>\n",
       "  </thead>\n",
       "  <tbody>\n",
       "    <tr>\n",
       "      <th>0</th>\n",
       "      <td>-0.602903</td>\n",
       "      <td>0.994811</td>\n",
       "      <td>1.288950</td>\n",
       "      <td>1.549973</td>\n",
       "      <td>1.536013</td>\n",
       "      <td>0.569615</td>\n",
       "      <td>-1.027150</td>\n",
       "      <td>-0.397449</td>\n",
       "      <td>-1.126732</td>\n",
       "      <td>-1.235539</td>\n",
       "      <td>...</td>\n",
       "      <td>-0.625411</td>\n",
       "      <td>-1.046703</td>\n",
       "      <td>-1.660469</td>\n",
       "      <td>-0.384165</td>\n",
       "      <td>-0.260781</td>\n",
       "      <td>-0.412272</td>\n",
       "      <td>-0.684704</td>\n",
       "      <td>1.40772</td>\n",
       "      <td>-0.478846</td>\n",
       "      <td>-0.11758</td>\n",
       "    </tr>\n",
       "    <tr>\n",
       "      <th>1</th>\n",
       "      <td>-1.321256</td>\n",
       "      <td>-1.005216</td>\n",
       "      <td>1.288950</td>\n",
       "      <td>-1.356788</td>\n",
       "      <td>-0.757533</td>\n",
       "      <td>0.569615</td>\n",
       "      <td>-1.770047</td>\n",
       "      <td>0.367298</td>\n",
       "      <td>0.405697</td>\n",
       "      <td>1.213628</td>\n",
       "      <td>...</td>\n",
       "      <td>1.598950</td>\n",
       "      <td>0.955380</td>\n",
       "      <td>0.215099</td>\n",
       "      <td>-0.148112</td>\n",
       "      <td>-0.391103</td>\n",
       "      <td>-0.412272</td>\n",
       "      <td>-0.684704</td>\n",
       "      <td>1.40772</td>\n",
       "      <td>-0.478846</td>\n",
       "      <td>-0.11758</td>\n",
       "    </tr>\n",
       "    <tr>\n",
       "      <th>2</th>\n",
       "      <td>-0.602903</td>\n",
       "      <td>0.994811</td>\n",
       "      <td>-0.735667</td>\n",
       "      <td>-0.630097</td>\n",
       "      <td>-0.757533</td>\n",
       "      <td>-0.946258</td>\n",
       "      <td>0.458644</td>\n",
       "      <td>1.132046</td>\n",
       "      <td>1.171912</td>\n",
       "      <td>1.213628</td>\n",
       "      <td>...</td>\n",
       "      <td>-0.625411</td>\n",
       "      <td>-1.046703</td>\n",
       "      <td>-0.892926</td>\n",
       "      <td>1.635398</td>\n",
       "      <td>2.710567</td>\n",
       "      <td>-0.412272</td>\n",
       "      <td>-0.684704</td>\n",
       "      <td>1.40772</td>\n",
       "      <td>-0.478846</td>\n",
       "      <td>-0.11758</td>\n",
       "    </tr>\n",
       "    <tr>\n",
       "      <th>3</th>\n",
       "      <td>0.115449</td>\n",
       "      <td>-1.005216</td>\n",
       "      <td>-0.735667</td>\n",
       "      <td>0.096593</td>\n",
       "      <td>-0.757533</td>\n",
       "      <td>-0.188322</td>\n",
       "      <td>-1.027150</td>\n",
       "      <td>-0.397449</td>\n",
       "      <td>-0.360518</td>\n",
       "      <td>-0.419150</td>\n",
       "      <td>...</td>\n",
       "      <td>-0.625411</td>\n",
       "      <td>-1.046703</td>\n",
       "      <td>-1.166284</td>\n",
       "      <td>-0.043200</td>\n",
       "      <td>0.078057</td>\n",
       "      <td>-0.412272</td>\n",
       "      <td>-0.684704</td>\n",
       "      <td>1.40772</td>\n",
       "      <td>-0.478846</td>\n",
       "      <td>-0.11758</td>\n",
       "    </tr>\n",
       "    <tr>\n",
       "      <th>4</th>\n",
       "      <td>0.115449</td>\n",
       "      <td>-1.005216</td>\n",
       "      <td>-0.060795</td>\n",
       "      <td>0.096593</td>\n",
       "      <td>0.006983</td>\n",
       "      <td>-0.946258</td>\n",
       "      <td>0.458644</td>\n",
       "      <td>1.132046</td>\n",
       "      <td>0.405697</td>\n",
       "      <td>0.397239</td>\n",
       "      <td>...</td>\n",
       "      <td>-0.625411</td>\n",
       "      <td>-1.046703</td>\n",
       "      <td>0.002054</td>\n",
       "      <td>-0.384165</td>\n",
       "      <td>-0.391103</td>\n",
       "      <td>-0.412272</td>\n",
       "      <td>-0.684704</td>\n",
       "      <td>1.40772</td>\n",
       "      <td>-0.478846</td>\n",
       "      <td>-0.11758</td>\n",
       "    </tr>\n",
       "  </tbody>\n",
       "</table>\n",
       "<p>5 rows × 27 columns</p>\n",
       "</div>"
      ],
      "text/plain": [
       "   Seat_comfort  Seat_Class  Arrival_time_convenient  Catering  \\\n",
       "0     -0.602903    0.994811                 1.288950  1.549973   \n",
       "1     -1.321256   -1.005216                 1.288950 -1.356788   \n",
       "2     -0.602903    0.994811                -0.735667 -0.630097   \n",
       "3      0.115449   -1.005216                -0.735667  0.096593   \n",
       "4      0.115449   -1.005216                -0.060795  0.096593   \n",
       "\n",
       "   Platform_location  Onboardwifi_service  Onboard_entertainment  \\\n",
       "0           1.536013             0.569615              -1.027150   \n",
       "1          -0.757533             0.569615              -1.770047   \n",
       "2          -0.757533            -0.946258               0.458644   \n",
       "3          -0.757533            -0.188322              -1.027150   \n",
       "4           0.006983            -0.946258               0.458644   \n",
       "\n",
       "   Online_support  Onlinebooking_Ease  Onboard_service  ...  TypeTravel  \\\n",
       "0       -0.397449           -1.126732        -1.235539  ...   -0.625411   \n",
       "1        0.367298            0.405697         1.213628  ...    1.598950   \n",
       "2        1.132046            1.171912         1.213628  ...   -0.625411   \n",
       "3       -0.397449           -0.360518        -0.419150  ...   -0.625411   \n",
       "4        1.132046            0.405697         0.397239  ...   -0.625411   \n",
       "\n",
       "   Travel_Class  Travel_Distance  DepartureDelay_in_Mins  \\\n",
       "0     -1.046703        -1.660469               -0.384165   \n",
       "1      0.955380         0.215099               -0.148112   \n",
       "2     -1.046703        -0.892926                1.635398   \n",
       "3     -1.046703        -1.166284               -0.043200   \n",
       "4     -1.046703         0.002054               -0.384165   \n",
       "\n",
       "   ArrivalDelay_in_Mins    Age_25    Age_35   Age_45    Age_60   Age_80  \n",
       "0             -0.260781 -0.412272 -0.684704  1.40772 -0.478846 -0.11758  \n",
       "1             -0.391103 -0.412272 -0.684704  1.40772 -0.478846 -0.11758  \n",
       "2              2.710567 -0.412272 -0.684704  1.40772 -0.478846 -0.11758  \n",
       "3              0.078057 -0.412272 -0.684704  1.40772 -0.478846 -0.11758  \n",
       "4             -0.391103 -0.412272 -0.684704  1.40772 -0.478846 -0.11758  \n",
       "\n",
       "[5 rows x 27 columns]"
      ]
     },
     "metadata": {},
     "output_type": "display_data"
    }
   ],
   "source": [
    "#scaling the data sets with zscores\n",
    "from scipy.stats import zscore\n",
    "df_scaled = x.apply(zscore)\n",
    "display(df_scaled.head())\n",
    "\n",
    "\n",
    "x_test = x_test.apply(zscore)"
   ]
  },
  {
   "cell_type": "code",
   "execution_count": 130,
   "id": "50b27358",
   "metadata": {
    "ExecuteTime": {
     "end_time": "2022-04-23T09:07:00.183871Z",
     "start_time": "2022-04-23T09:07:00.097568Z"
    }
   },
   "outputs": [
    {
     "data": {
      "text/plain": [
       "(75503, 27)"
      ]
     },
     "metadata": {},
     "output_type": "display_data"
    },
    {
     "data": {
      "text/plain": [
       "(18876, 27)"
      ]
     },
     "metadata": {},
     "output_type": "display_data"
    },
    {
     "data": {
      "text/plain": [
       "(75503,)"
      ]
     },
     "metadata": {},
     "output_type": "display_data"
    },
    {
     "data": {
      "text/plain": [
       "(18876,)"
      ]
     },
     "metadata": {},
     "output_type": "display_data"
    }
   ],
   "source": [
    "#performing train-test split of (80:20) on the training data\n",
    "X_train, X_test, Y_train, Y_test = train_test_split(df_scaled, y, test_size= 0.20, random_state=1234)\n",
    "\n",
    "display(X_train.shape)\n",
    "display(X_test.shape)\n",
    "display(Y_train.shape)\n",
    "display(Y_test.shape)"
   ]
  },
  {
   "cell_type": "markdown",
   "id": "61698cde",
   "metadata": {},
   "source": [
    "### Model Building"
   ]
  },
  {
   "cell_type": "code",
   "execution_count": 131,
   "id": "79e6efee",
   "metadata": {
    "ExecuteTime": {
     "end_time": "2022-04-23T09:07:22.329511Z",
     "start_time": "2022-04-23T09:07:00.190857Z"
    }
   },
   "outputs": [
    {
     "data": {
      "text/plain": [
       "0.9990199064937817"
      ]
     },
     "metadata": {},
     "output_type": "display_data"
    },
    {
     "data": {
      "text/plain": [
       "0.953168044077135"
      ]
     },
     "metadata": {},
     "output_type": "display_data"
    }
   ],
   "source": [
    "rfcl = RandomForestClassifier(random_state=1234,n_estimators=300,max_depth = 25,max_features = 15,n_jobs = -1 )\n",
    "rfcl = rfcl.fit(X_train, Y_train)\n",
    "Ytrain_predict_rfcl = rfcl.predict(X_train)\n",
    "display(accuracy_score(Y_train, Ytrain_predict_rfcl))\n",
    "Ytest_predict_rfcl = rfcl.predict(X_test)\n",
    "display(accuracy_score(Y_test, Ytest_predict_rfcl))"
   ]
  },
  {
   "cell_type": "code",
   "execution_count": 132,
   "id": "6d048807",
   "metadata": {
    "ExecuteTime": {
     "end_time": "2022-04-23T09:07:23.397253Z",
     "start_time": "2022-04-23T09:07:22.333441Z"
    }
   },
   "outputs": [],
   "source": [
    "df_test1 =df_test.copy()\n",
    "pred =rfcl.predict(x_test)\n",
    "df_test1['Overall_Experience'] = pred\n",
    "sample = df_test1[['ID', 'Overall_Experience']]\n",
    "\n",
    "sample.to_csv('sample_1.csv')"
   ]
  },
  {
   "cell_type": "code",
   "execution_count": 133,
   "id": "9d82399e",
   "metadata": {
    "ExecuteTime": {
     "end_time": "2022-04-23T09:07:23.445813Z",
     "start_time": "2022-04-23T09:07:23.404169Z"
    }
   },
   "outputs": [
    {
     "data": {
      "text/html": [
       "<div>\n",
       "<style scoped>\n",
       "    .dataframe tbody tr th:only-of-type {\n",
       "        vertical-align: middle;\n",
       "    }\n",
       "\n",
       "    .dataframe tbody tr th {\n",
       "        vertical-align: top;\n",
       "    }\n",
       "\n",
       "    .dataframe thead th {\n",
       "        text-align: right;\n",
       "    }\n",
       "</style>\n",
       "<table border=\"1\" class=\"dataframe\">\n",
       "  <thead>\n",
       "    <tr style=\"text-align: right;\">\n",
       "      <th></th>\n",
       "      <th>ID</th>\n",
       "      <th>Seat_comfort</th>\n",
       "      <th>Seat_Class</th>\n",
       "      <th>Arrival_time_convenient</th>\n",
       "      <th>Catering</th>\n",
       "      <th>Platform_location</th>\n",
       "      <th>Onboardwifi_service</th>\n",
       "      <th>Onboard_entertainment</th>\n",
       "      <th>Online_support</th>\n",
       "      <th>Onlinebooking_Ease</th>\n",
       "      <th>...</th>\n",
       "      <th>Travel_Class</th>\n",
       "      <th>Travel_Distance</th>\n",
       "      <th>DepartureDelay_in_Mins</th>\n",
       "      <th>ArrivalDelay_in_Mins</th>\n",
       "      <th>Age_25</th>\n",
       "      <th>Age_35</th>\n",
       "      <th>Age_45</th>\n",
       "      <th>Age_60</th>\n",
       "      <th>Age_80</th>\n",
       "      <th>Overall_Experience</th>\n",
       "    </tr>\n",
       "  </thead>\n",
       "  <tbody>\n",
       "    <tr>\n",
       "      <th>0</th>\n",
       "      <td>99900001</td>\n",
       "      <td>3</td>\n",
       "      <td>1</td>\n",
       "      <td>3</td>\n",
       "      <td>3</td>\n",
       "      <td>3</td>\n",
       "      <td>2</td>\n",
       "      <td>5</td>\n",
       "      <td>4</td>\n",
       "      <td>5</td>\n",
       "      <td>...</td>\n",
       "      <td>0</td>\n",
       "      <td>532</td>\n",
       "      <td>0.0</td>\n",
       "      <td>0.0</td>\n",
       "      <td>0</td>\n",
       "      <td>1</td>\n",
       "      <td>0</td>\n",
       "      <td>0</td>\n",
       "      <td>0</td>\n",
       "      <td>1</td>\n",
       "    </tr>\n",
       "    <tr>\n",
       "      <th>1</th>\n",
       "      <td>99900002</td>\n",
       "      <td>0</td>\n",
       "      <td>0</td>\n",
       "      <td>4</td>\n",
       "      <td>1</td>\n",
       "      <td>3</td>\n",
       "      <td>3</td>\n",
       "      <td>1</td>\n",
       "      <td>3</td>\n",
       "      <td>3</td>\n",
       "      <td>...</td>\n",
       "      <td>0</td>\n",
       "      <td>1425</td>\n",
       "      <td>9.0</td>\n",
       "      <td>28.0</td>\n",
       "      <td>1</td>\n",
       "      <td>0</td>\n",
       "      <td>0</td>\n",
       "      <td>0</td>\n",
       "      <td>0</td>\n",
       "      <td>1</td>\n",
       "    </tr>\n",
       "    <tr>\n",
       "      <th>2</th>\n",
       "      <td>99900003</td>\n",
       "      <td>5</td>\n",
       "      <td>0</td>\n",
       "      <td>5</td>\n",
       "      <td>5</td>\n",
       "      <td>5</td>\n",
       "      <td>5</td>\n",
       "      <td>5</td>\n",
       "      <td>5</td>\n",
       "      <td>2</td>\n",
       "      <td>...</td>\n",
       "      <td>0</td>\n",
       "      <td>2832</td>\n",
       "      <td>0.0</td>\n",
       "      <td>0.0</td>\n",
       "      <td>0</td>\n",
       "      <td>0</td>\n",
       "      <td>0</td>\n",
       "      <td>1</td>\n",
       "      <td>0</td>\n",
       "      <td>1</td>\n",
       "    </tr>\n",
       "    <tr>\n",
       "      <th>3</th>\n",
       "      <td>99900004</td>\n",
       "      <td>3</td>\n",
       "      <td>1</td>\n",
       "      <td>5</td>\n",
       "      <td>3</td>\n",
       "      <td>5</td>\n",
       "      <td>1</td>\n",
       "      <td>3</td>\n",
       "      <td>5</td>\n",
       "      <td>1</td>\n",
       "      <td>...</td>\n",
       "      <td>1</td>\n",
       "      <td>1352</td>\n",
       "      <td>0.0</td>\n",
       "      <td>0.0</td>\n",
       "      <td>0</td>\n",
       "      <td>1</td>\n",
       "      <td>0</td>\n",
       "      <td>0</td>\n",
       "      <td>0</td>\n",
       "      <td>0</td>\n",
       "    </tr>\n",
       "    <tr>\n",
       "      <th>4</th>\n",
       "      <td>99900005</td>\n",
       "      <td>5</td>\n",
       "      <td>0</td>\n",
       "      <td>0</td>\n",
       "      <td>5</td>\n",
       "      <td>2</td>\n",
       "      <td>5</td>\n",
       "      <td>5</td>\n",
       "      <td>5</td>\n",
       "      <td>5</td>\n",
       "      <td>...</td>\n",
       "      <td>0</td>\n",
       "      <td>1610</td>\n",
       "      <td>17.0</td>\n",
       "      <td>0.0</td>\n",
       "      <td>1</td>\n",
       "      <td>0</td>\n",
       "      <td>0</td>\n",
       "      <td>0</td>\n",
       "      <td>0</td>\n",
       "      <td>1</td>\n",
       "    </tr>\n",
       "    <tr>\n",
       "      <th>...</th>\n",
       "      <td>...</td>\n",
       "      <td>...</td>\n",
       "      <td>...</td>\n",
       "      <td>...</td>\n",
       "      <td>...</td>\n",
       "      <td>...</td>\n",
       "      <td>...</td>\n",
       "      <td>...</td>\n",
       "      <td>...</td>\n",
       "      <td>...</td>\n",
       "      <td>...</td>\n",
       "      <td>...</td>\n",
       "      <td>...</td>\n",
       "      <td>...</td>\n",
       "      <td>...</td>\n",
       "      <td>...</td>\n",
       "      <td>...</td>\n",
       "      <td>...</td>\n",
       "      <td>...</td>\n",
       "      <td>...</td>\n",
       "      <td>...</td>\n",
       "    </tr>\n",
       "    <tr>\n",
       "      <th>35597</th>\n",
       "      <td>99935598</td>\n",
       "      <td>2</td>\n",
       "      <td>1</td>\n",
       "      <td>5</td>\n",
       "      <td>2</td>\n",
       "      <td>3</td>\n",
       "      <td>3</td>\n",
       "      <td>2</td>\n",
       "      <td>3</td>\n",
       "      <td>3</td>\n",
       "      <td>...</td>\n",
       "      <td>1</td>\n",
       "      <td>1334</td>\n",
       "      <td>0.0</td>\n",
       "      <td>0.0</td>\n",
       "      <td>1</td>\n",
       "      <td>0</td>\n",
       "      <td>0</td>\n",
       "      <td>0</td>\n",
       "      <td>0</td>\n",
       "      <td>0</td>\n",
       "    </tr>\n",
       "    <tr>\n",
       "      <th>35598</th>\n",
       "      <td>99935599</td>\n",
       "      <td>2</td>\n",
       "      <td>0</td>\n",
       "      <td>2</td>\n",
       "      <td>4</td>\n",
       "      <td>2</td>\n",
       "      <td>3</td>\n",
       "      <td>5</td>\n",
       "      <td>5</td>\n",
       "      <td>4</td>\n",
       "      <td>...</td>\n",
       "      <td>0</td>\n",
       "      <td>1772</td>\n",
       "      <td>0.0</td>\n",
       "      <td>0.0</td>\n",
       "      <td>0</td>\n",
       "      <td>0</td>\n",
       "      <td>1</td>\n",
       "      <td>0</td>\n",
       "      <td>0</td>\n",
       "      <td>1</td>\n",
       "    </tr>\n",
       "    <tr>\n",
       "      <th>35599</th>\n",
       "      <td>99935600</td>\n",
       "      <td>4</td>\n",
       "      <td>1</td>\n",
       "      <td>0</td>\n",
       "      <td>4</td>\n",
       "      <td>2</td>\n",
       "      <td>2</td>\n",
       "      <td>4</td>\n",
       "      <td>1</td>\n",
       "      <td>2</td>\n",
       "      <td>...</td>\n",
       "      <td>1</td>\n",
       "      <td>1180</td>\n",
       "      <td>0.0</td>\n",
       "      <td>0.0</td>\n",
       "      <td>1</td>\n",
       "      <td>0</td>\n",
       "      <td>0</td>\n",
       "      <td>0</td>\n",
       "      <td>0</td>\n",
       "      <td>0</td>\n",
       "    </tr>\n",
       "    <tr>\n",
       "      <th>35600</th>\n",
       "      <td>99935601</td>\n",
       "      <td>5</td>\n",
       "      <td>0</td>\n",
       "      <td>5</td>\n",
       "      <td>5</td>\n",
       "      <td>1</td>\n",
       "      <td>3</td>\n",
       "      <td>5</td>\n",
       "      <td>4</td>\n",
       "      <td>5</td>\n",
       "      <td>...</td>\n",
       "      <td>1</td>\n",
       "      <td>420</td>\n",
       "      <td>23.0</td>\n",
       "      <td>16.0</td>\n",
       "      <td>0</td>\n",
       "      <td>0</td>\n",
       "      <td>0</td>\n",
       "      <td>1</td>\n",
       "      <td>0</td>\n",
       "      <td>1</td>\n",
       "    </tr>\n",
       "    <tr>\n",
       "      <th>35601</th>\n",
       "      <td>99935602</td>\n",
       "      <td>4</td>\n",
       "      <td>0</td>\n",
       "      <td>3</td>\n",
       "      <td>4</td>\n",
       "      <td>3</td>\n",
       "      <td>1</td>\n",
       "      <td>4</td>\n",
       "      <td>1</td>\n",
       "      <td>1</td>\n",
       "      <td>...</td>\n",
       "      <td>1</td>\n",
       "      <td>1680</td>\n",
       "      <td>0.0</td>\n",
       "      <td>0.0</td>\n",
       "      <td>1</td>\n",
       "      <td>0</td>\n",
       "      <td>0</td>\n",
       "      <td>0</td>\n",
       "      <td>0</td>\n",
       "      <td>0</td>\n",
       "    </tr>\n",
       "  </tbody>\n",
       "</table>\n",
       "<p>35602 rows × 29 columns</p>\n",
       "</div>"
      ],
      "text/plain": [
       "             ID  Seat_comfort  Seat_Class  Arrival_time_convenient  Catering  \\\n",
       "0      99900001             3           1                        3         3   \n",
       "1      99900002             0           0                        4         1   \n",
       "2      99900003             5           0                        5         5   \n",
       "3      99900004             3           1                        5         3   \n",
       "4      99900005             5           0                        0         5   \n",
       "...         ...           ...         ...                      ...       ...   \n",
       "35597  99935598             2           1                        5         2   \n",
       "35598  99935599             2           0                        2         4   \n",
       "35599  99935600             4           1                        0         4   \n",
       "35600  99935601             5           0                        5         5   \n",
       "35601  99935602             4           0                        3         4   \n",
       "\n",
       "       Platform_location  Onboardwifi_service  Onboard_entertainment  \\\n",
       "0                      3                    2                      5   \n",
       "1                      3                    3                      1   \n",
       "2                      5                    5                      5   \n",
       "3                      5                    1                      3   \n",
       "4                      2                    5                      5   \n",
       "...                  ...                  ...                    ...   \n",
       "35597                  3                    3                      2   \n",
       "35598                  2                    3                      5   \n",
       "35599                  2                    2                      4   \n",
       "35600                  1                    3                      5   \n",
       "35601                  3                    1                      4   \n",
       "\n",
       "       Online_support  Onlinebooking_Ease  ...  Travel_Class  Travel_Distance  \\\n",
       "0                   4                   5  ...             0              532   \n",
       "1                   3                   3  ...             0             1425   \n",
       "2                   5                   2  ...             0             2832   \n",
       "3                   5                   1  ...             1             1352   \n",
       "4                   5                   5  ...             0             1610   \n",
       "...               ...                 ...  ...           ...              ...   \n",
       "35597               3                   3  ...             1             1334   \n",
       "35598               5                   4  ...             0             1772   \n",
       "35599               1                   2  ...             1             1180   \n",
       "35600               4                   5  ...             1              420   \n",
       "35601               1                   1  ...             1             1680   \n",
       "\n",
       "       DepartureDelay_in_Mins  ArrivalDelay_in_Mins  Age_25  Age_35  Age_45  \\\n",
       "0                         0.0                   0.0       0       1       0   \n",
       "1                         9.0                  28.0       1       0       0   \n",
       "2                         0.0                   0.0       0       0       0   \n",
       "3                         0.0                   0.0       0       1       0   \n",
       "4                        17.0                   0.0       1       0       0   \n",
       "...                       ...                   ...     ...     ...     ...   \n",
       "35597                     0.0                   0.0       1       0       0   \n",
       "35598                     0.0                   0.0       0       0       1   \n",
       "35599                     0.0                   0.0       1       0       0   \n",
       "35600                    23.0                  16.0       0       0       0   \n",
       "35601                     0.0                   0.0       1       0       0   \n",
       "\n",
       "       Age_60  Age_80  Overall_Experience  \n",
       "0           0       0                   1  \n",
       "1           0       0                   1  \n",
       "2           1       0                   1  \n",
       "3           0       0                   0  \n",
       "4           0       0                   1  \n",
       "...       ...     ...                 ...  \n",
       "35597       0       0                   0  \n",
       "35598       0       0                   1  \n",
       "35599       0       0                   0  \n",
       "35600       1       0                   1  \n",
       "35601       0       0                   0  \n",
       "\n",
       "[35602 rows x 29 columns]"
      ]
     },
     "execution_count": 133,
     "metadata": {},
     "output_type": "execute_result"
    }
   ],
   "source": [
    "df_test1"
   ]
  },
  {
   "cell_type": "code",
   "execution_count": 134,
   "id": "1774b532",
   "metadata": {
    "ExecuteTime": {
     "end_time": "2022-04-23T09:08:47.246673Z",
     "start_time": "2022-04-23T09:07:23.449729Z"
    }
   },
   "outputs": [
    {
     "data": {
      "text/plain": [
       "0.9988874614253739"
      ]
     },
     "metadata": {},
     "output_type": "display_data"
    },
    {
     "data": {
      "text/plain": [
       "0.9539097266369994"
      ]
     },
     "metadata": {},
     "output_type": "display_data"
    }
   ],
   "source": [
    "rf1 = RandomForestClassifier(n_estimators=901, max_depth= 25, \n",
    "                             max_features= 16, random_state = 1234,\n",
    "                             n_jobs = -1)\n",
    "\n",
    "\n",
    "rf1.fit(X_train, Y_train)\n",
    "ytrain_predict_rf1 = rf1.predict(X_train)\n",
    "display(accuracy_score(Y_train, ytrain_predict_rf1))\n",
    "ytest_predict_rf1 = rf1.predict(X_test)\n",
    "display(accuracy_score(Y_test, ytest_predict_rf1))"
   ]
  },
  {
   "cell_type": "code",
   "execution_count": 135,
   "id": "da5382f6",
   "metadata": {
    "ExecuteTime": {
     "end_time": "2022-04-23T09:08:47.261758Z",
     "start_time": "2022-04-23T09:08:47.250704Z"
    }
   },
   "outputs": [
    {
     "data": {
      "text/plain": [
       "'C:\\\\Users\\\\Dell\\\\PROJECT'"
      ]
     },
     "execution_count": 135,
     "metadata": {},
     "output_type": "execute_result"
    }
   ],
   "source": [
    "import os\n",
    "os.getcwd()"
   ]
  },
  {
   "cell_type": "code",
   "execution_count": 136,
   "id": "60424521",
   "metadata": {
    "ExecuteTime": {
     "end_time": "2022-04-23T09:11:01.122859Z",
     "start_time": "2022-04-23T09:10:57.127581Z"
    }
   },
   "outputs": [],
   "source": [
    "df_test2 =df_test.copy()\n",
    "pred =rf1.predict(x_test)\n",
    "df_test2['Overall_Experience'] = pred\n",
    "sample = df_test2[['ID', 'Overall_Experience']]\n",
    "\n",
    "sample.to_csv('sample_2.csv')"
   ]
  },
  {
   "cell_type": "code",
   "execution_count": 137,
   "id": "ac02aba6",
   "metadata": {
    "ExecuteTime": {
     "end_time": "2022-04-23T09:14:40.608690Z",
     "start_time": "2022-04-23T09:12:01.784739Z"
    }
   },
   "outputs": [
    {
     "data": {
      "text/plain": [
       "0.9988874614253739"
      ]
     },
     "metadata": {},
     "output_type": "display_data"
    },
    {
     "data": {
      "text/plain": [
       "0.9539097266369994"
      ]
     },
     "metadata": {},
     "output_type": "display_data"
    }
   ],
   "source": [
    "from sklearn.ensemble import RandomForestRegressor\n",
    "rfr = RandomForestRegressor(n_estimators = 2000, \n",
    "                            min_samples_split = 2, \n",
    "                            min_samples_leaf = 10, \n",
    "                            random_state=1234,n_jobs=-1)\n",
    "rfr_model = rfr.fit(X_train, Y_train)\n",
    "ytrain_predict_rf1 = rf1.predict(X_train)\n",
    "display(accuracy_score(Y_train, ytrain_predict_rf1))\n",
    "ytest_predict_rf1 = rf1.predict(X_test)\n",
    "display(accuracy_score(Y_test, ytest_predict_rf1))"
   ]
  },
  {
   "cell_type": "code",
   "execution_count": 138,
   "id": "40be448c",
   "metadata": {
    "ExecuteTime": {
     "end_time": "2022-04-23T09:14:56.270793Z",
     "start_time": "2022-04-23T09:14:52.320468Z"
    }
   },
   "outputs": [],
   "source": [
    "df_test3 =df_test.copy()\n",
    "pred =rfr.predict(x_test)\n",
    "df_test3['Overall_Experience'] = pred\n",
    "sample = df_test3[['ID', 'Overall_Experience']]\n",
    "\n",
    "sample.to_csv('sample_3.csv')"
   ]
  },
  {
   "cell_type": "code",
   "execution_count": 139,
   "id": "8bde0db9",
   "metadata": {
    "ExecuteTime": {
     "end_time": "2022-04-23T09:45:35.246786Z",
     "start_time": "2022-04-23T09:15:00.581733Z"
    }
   },
   "outputs": [
    {
     "data": {
      "text/plain": [
       "0.9995496867674132"
      ]
     },
     "metadata": {},
     "output_type": "display_data"
    },
    {
     "data": {
      "text/plain": [
       "0.95449247721975"
      ]
     },
     "metadata": {},
     "output_type": "display_data"
    }
   ],
   "source": [
    "ada1 = AdaBoostClassifier(base_estimator=rf1, n_estimators=22, learning_rate=0.1,\n",
    "                          random_state= 1234)\n",
    "\n",
    "ada1.fit(X_train, Y_train)\n",
    "ytrain_predict_ada1 = ada1.predict(X_train)\n",
    "display(accuracy_score(Y_train, ytrain_predict_ada1))\n",
    "ytest_predict_ada1 = ada1.predict(X_test)\n",
    "display(accuracy_score(Y_test, ytest_predict_ada1))"
   ]
  },
  {
   "cell_type": "code",
   "execution_count": 141,
   "id": "4d924b56",
   "metadata": {
    "ExecuteTime": {
     "end_time": "2022-04-23T10:01:21.018423Z",
     "start_time": "2022-04-23T09:56:13.122273Z"
    }
   },
   "outputs": [],
   "source": [
    "df_test4 =df_test.copy()\n",
    "pred =ada1.predict(x_test)\n",
    "df_test4['Overall_Experience'] = pred\n",
    "sample = df_test4[['ID', 'Overall_Experience']]\n",
    "\n",
    "sample.to_csv('sample_4.csv')"
   ]
  },
  {
   "cell_type": "code",
   "execution_count": 153,
   "id": "ca08dfcb",
   "metadata": {
    "ExecuteTime": {
     "end_time": "2022-04-23T12:05:22.298426Z",
     "start_time": "2022-04-23T11:31:00.491013Z"
    }
   },
   "outputs": [
    {
     "data": {
      "text/plain": [
       "1.0"
      ]
     },
     "metadata": {},
     "output_type": "display_data"
    },
    {
     "data": {
      "text/plain": [
       "0.9530620894257258"
      ]
     },
     "metadata": {},
     "output_type": "display_data"
    }
   ],
   "source": [
    "ada4 = AdaBoostClassifier(base_estimator=rf1, n_estimators=51, learning_rate=1.7,\n",
    "                          random_state=1234)\n",
    "\n",
    "ada4.fit(X_train, Y_train)\n",
    "ytrain_predict_ada4 = ada4.predict(X_train)\n",
    "display(accuracy_score(Y_train, ytrain_predict_ada4))\n",
    "ytest_predict_ada4 = ada4.predict(X_test)\n",
    "display(accuracy_score(Y_test, ytest_predict_ada4))"
   ]
  },
  {
   "cell_type": "code",
   "execution_count": 154,
   "id": "fb307261",
   "metadata": {
    "ExecuteTime": {
     "end_time": "2022-04-23T12:08:13.199137Z",
     "start_time": "2022-04-23T12:05:22.401929Z"
    }
   },
   "outputs": [],
   "source": [
    "df_test5 =df_test.copy()\n",
    "pred =ada4.predict(x_test)\n",
    "df_test5['Overall_Experience'] = pred\n",
    "sample = df_test5[['ID', 'Overall_Experience']]\n",
    "\n",
    "sample.to_csv('sample_5.csv')"
   ]
  },
  {
   "cell_type": "code",
   "execution_count": null,
   "id": "b25c7be2",
   "metadata": {
    "ExecuteTime": {
     "start_time": "2022-04-23T15:49:49.250Z"
    }
   },
   "outputs": [],
   "source": [
    "ada2 = AdaBoostClassifier(base_estimator=rf1, n_estimators=22, learning_rate=0.01, random_state= 1234)\n",
    "\n",
    "ada2.fit(X_train, Y_train)\n",
    "ytrain_predict_ada2 = ada2.predict(X_train)\n",
    "display(accuracy_score(Y_train, ytrain_predict_ada2))\n",
    "ytest_predict_ada2 = ada2.predict(X_test)\n",
    "display(accuracy_score(Y_test, ytest_predict_ada2))"
   ]
  },
  {
   "cell_type": "code",
   "execution_count": null,
   "id": "00ada9a0",
   "metadata": {
    "ExecuteTime": {
     "start_time": "2022-04-23T15:49:53.273Z"
    }
   },
   "outputs": [],
   "source": [
    "df_test6 =df_test.copy()\n",
    "pred =ada2.predict(x_test)\n",
    "df_test6['Overall_Experience'] = pred\n",
    "sample = df_test6[['ID', 'Overall_Experience']]\n",
    "\n",
    "sample.to_csv('sample_6.csv')"
   ]
  },
  {
   "cell_type": "code",
   "execution_count": 156,
   "id": "54d97fed",
   "metadata": {
    "ExecuteTime": {
     "end_time": "2022-04-23T18:13:13.096413Z",
     "start_time": "2022-04-23T14:35:25.388571Z"
    }
   },
   "outputs": [
    {
     "data": {
      "text/plain": [
       "0.9995496867674132"
      ]
     },
     "metadata": {},
     "output_type": "display_data"
    },
    {
     "data": {
      "text/plain": [
       "0.9543335452426361"
      ]
     },
     "metadata": {},
     "output_type": "display_data"
    }
   ],
   "source": [
    "ada3 = AdaBoostClassifier(base_estimator=rf1, n_estimators=32, learning_rate=0.1, random_state=1234)\n",
    "\n",
    "ada3.fit(X_train, Y_train)\n",
    "ytrain_predict_ada3 = ada3.predict(X_train)\n",
    "display(accuracy_score(Y_train, ytrain_predict_ada3))\n",
    "ytest_predict_ada3 = ada3.predict(X_test)\n",
    "display(accuracy_score(Y_test, ytest_predict_ada3))"
   ]
  },
  {
   "cell_type": "code",
   "execution_count": 157,
   "id": "eacf5f28",
   "metadata": {
    "ExecuteTime": {
     "end_time": "2022-04-23T18:36:55.405293Z",
     "start_time": "2022-04-23T18:13:13.336828Z"
    }
   },
   "outputs": [],
   "source": [
    "df_test7 =df_test.copy()\n",
    "pred =ada3.predict(x_test)\n",
    "df_test7['Overall_Experience'] = pred\n",
    "sample = df_test7[['ID', 'Overall_Experience']]\n",
    "\n",
    "sample.to_csv('sample_7.csv')"
   ]
  },
  {
   "cell_type": "code",
   "execution_count": 158,
   "id": "b64d5f8b",
   "metadata": {
    "ExecuteTime": {
     "end_time": "2022-04-23T19:21:05.339697Z",
     "start_time": "2022-04-23T18:36:55.521091Z"
    }
   },
   "outputs": [
    {
     "data": {
      "text/plain": [
       "0.9996556428221395"
      ]
     },
     "metadata": {},
     "output_type": "display_data"
    },
    {
     "data": {
      "text/plain": [
       "0.9539097266369994"
      ]
     },
     "metadata": {},
     "output_type": "display_data"
    }
   ],
   "source": [
    "ada4 = AdaBoostClassifier(base_estimator=rf1, n_estimators=32, learning_rate=1.0, random_state=1234)\n",
    "\n",
    "ada4.fit(X_train, Y_train)\n",
    "ytrain_predict_ada4 = ada4.predict(X_train)\n",
    "display(accuracy_score(Y_train, ytrain_predict_ada4))\n",
    "ytest_predict_ada4 = ada4.predict(X_test)\n",
    "display(accuracy_score(Y_test, ytest_predict_ada4))"
   ]
  },
  {
   "cell_type": "code",
   "execution_count": 159,
   "id": "88819130",
   "metadata": {
    "ExecuteTime": {
     "end_time": "2022-04-23T19:25:19.276889Z",
     "start_time": "2022-04-23T19:21:05.480556Z"
    }
   },
   "outputs": [],
   "source": [
    "df_test8 =df_test.copy()\n",
    "pred =ada4.predict(x_test)\n",
    "df_test8['Overall_Experience'] = pred\n",
    "sample = df_test8[['ID', 'Overall_Experience']]\n",
    "\n",
    "sample.to_csv('sample_8.csv')"
   ]
  },
  {
   "cell_type": "code",
   "execution_count": 160,
   "id": "1b4525ea",
   "metadata": {
    "ExecuteTime": {
     "end_time": "2022-04-23T20:07:51.266042Z",
     "start_time": "2022-04-23T19:25:19.376947Z"
    }
   },
   "outputs": [
    {
     "data": {
      "text/plain": [
       "0.9997086208495026"
      ]
     },
     "metadata": {},
     "output_type": "display_data"
    },
    {
     "data": {
      "text/plain": [
       "0.9546514091968638"
      ]
     },
     "metadata": {},
     "output_type": "display_data"
    }
   ],
   "source": [
    "ada4 = AdaBoostClassifier(base_estimator=rf1, n_estimators=31, learning_rate=1.0, random_state=1234)\n",
    "\n",
    "ada4.fit(X_train, Y_train)\n",
    "ytrain_predict_ada4 = ada4.predict(X_train)\n",
    "display(accuracy_score(Y_train, ytrain_predict_ada4))\n",
    "ytest_predict_ada4 = ada4.predict(X_test)\n",
    "display(accuracy_score(Y_test, ytest_predict_ada4))"
   ]
  },
  {
   "cell_type": "code",
   "execution_count": 161,
   "id": "466ceb7e",
   "metadata": {
    "ExecuteTime": {
     "end_time": "2022-04-23T20:12:08.151862Z",
     "start_time": "2022-04-23T20:07:51.392611Z"
    }
   },
   "outputs": [],
   "source": [
    "df_test9 =df_test.copy()\n",
    "pred =ada4.predict(x_test)\n",
    "df_test9['Overall_Experience'] = pred\n",
    "sample = df_test9[['ID', 'Overall_Experience']]\n",
    "\n",
    "sample.to_csv('sample_9.csv')"
   ]
  },
  {
   "cell_type": "code",
   "execution_count": null,
   "id": "ab1c2c54",
   "metadata": {
    "ExecuteTime": {
     "start_time": "2022-04-23T15:49:12.682Z"
    }
   },
   "outputs": [],
   "source": [
    "ada4 = AdaBoostClassifier(base_estimator=rf1, n_estimators=33, learning_rate=1.0, random_state=1234)\n",
    "\n",
    "ada4.fit(X_train, Y_train)\n",
    "ytrain_predict_ada4 = ada4.predict(X_train)\n",
    "display(accuracy_score(Y_train, ytrain_predict_ada4))\n",
    "ytest_predict_ada4 = ada4.predict(X_test)\n",
    "display(accuracy_score(Y_test, ytest_predict_ada4))"
   ]
  },
  {
   "cell_type": "code",
   "execution_count": null,
   "id": "5b5bc1b3",
   "metadata": {
    "ExecuteTime": {
     "start_time": "2022-04-23T15:49:13.058Z"
    }
   },
   "outputs": [],
   "source": [
    "df_test10 =df_test.copy()\n",
    "pred =ada4.predict(x_test)\n",
    "df_test10['Overall_Experience'] = pred\n",
    "sample = df_test10[['ID', 'Overall_Experience']]\n",
    "\n",
    "sample.to_csv('sample_10.csv')"
   ]
  },
  {
   "cell_type": "code",
   "execution_count": null,
   "id": "029a167a",
   "metadata": {
    "ExecuteTime": {
     "start_time": "2022-04-23T15:49:13.310Z"
    }
   },
   "outputs": [],
   "source": [
    "ada4 = AdaBoostClassifier(base_estimator=rf1, n_estimators=31, learning_rate=1.1, random_state=1234)\n",
    "\n",
    "ada4.fit(X_train, Y_train)\n",
    "ytrain_predict_ada4 = ada4.predict(X_train)\n",
    "display(accuracy_score(Y_train, ytrain_predict_ada4))\n",
    "ytest_predict_ada4 = ada4.predict(X_test)\n",
    "display(accuracy_score(Y_test, ytest_predict_ada4))"
   ]
  },
  {
   "cell_type": "code",
   "execution_count": null,
   "id": "fb934d4e",
   "metadata": {
    "ExecuteTime": {
     "start_time": "2022-04-23T15:49:13.564Z"
    }
   },
   "outputs": [],
   "source": [
    "df_test11 =df_test.copy()\n",
    "pred =ada4.predict(x_test)\n",
    "df_test11['Overall_Experience'] = pred\n",
    "sample = df_test11[['ID', 'Overall_Experience']]\n",
    "\n",
    "sample.to_csv('sample_11.csv')"
   ]
  },
  {
   "cell_type": "code",
   "execution_count": null,
   "id": "4c1c2cc0",
   "metadata": {
    "ExecuteTime": {
     "start_time": "2022-04-23T15:49:13.776Z"
    }
   },
   "outputs": [],
   "source": [
    "ada4 = AdaBoostClassifier(base_estimator=rf1, n_estimators=31, learning_rate=1.2, random_state=1234)\n",
    "\n",
    "ada4.fit(X_train, Y_train)\n",
    "ytrain_predict_ada4 = ada4.predict(X_train)\n",
    "display(accuracy_score(Y_train, ytrain_predict_ada4))\n",
    "ytest_predict_ada4 = ada4.predict(X_test)\n",
    "display(accuracy_score(Y_test, ytest_predict_ada4))"
   ]
  },
  {
   "cell_type": "code",
   "execution_count": null,
   "id": "a50c153a",
   "metadata": {
    "ExecuteTime": {
     "start_time": "2022-04-23T15:49:13.987Z"
    }
   },
   "outputs": [],
   "source": [
    "df_test12 =df_test.copy()\n",
    "pred =ada4.predict(x_test)\n",
    "df_test12['Overall_Experience'] = pred\n",
    "sample = df_test12[['ID', 'Overall_Experience']]\n",
    "\n",
    "sample.to_csv('sample_12.csv')"
   ]
  },
  {
   "cell_type": "code",
   "execution_count": null,
   "id": "b758252d",
   "metadata": {
    "ExecuteTime": {
     "start_time": "2022-04-23T15:49:14.205Z"
    }
   },
   "outputs": [],
   "source": [
    "ada4 = AdaBoostClassifier(base_estimator=rf1, n_estimators=34, learning_rate=1.0, random_state=1234)\n",
    "\n",
    "ada4.fit(X_train, Y_train)\n",
    "ytrain_predict_ada4 = ada4.predict(X_train)\n",
    "display(accuracy_score(Y_train, ytrain_predict_ada4))\n",
    "ytest_predict_ada4 = ada4.predict(X_test)\n",
    "display(accuracy_score(Y_test, ytest_predict_ada4))"
   ]
  },
  {
   "cell_type": "code",
   "execution_count": null,
   "id": "fe13da72",
   "metadata": {
    "ExecuteTime": {
     "start_time": "2022-04-23T15:49:14.397Z"
    }
   },
   "outputs": [],
   "source": [
    "df_test13 =df_test.copy()\n",
    "pred =ada4.predict(x_test)\n",
    "df_test13['Overall_Experience'] = pred\n",
    "sample = df_test13[['ID', 'Overall_Experience']]\n",
    "\n",
    "sample.to_csv('sample_13.csv')"
   ]
  },
  {
   "cell_type": "code",
   "execution_count": null,
   "id": "1ef85eb0",
   "metadata": {
    "ExecuteTime": {
     "start_time": "2022-04-23T15:49:14.600Z"
    }
   },
   "outputs": [],
   "source": [
    "ada4 = AdaBoostClassifier(base_estimator=rf1, n_estimators=35, learning_rate=1.0, random_state= 0)\n",
    "\n",
    "ada4.fit(X_train, Y_train)\n",
    "ytrain_predict_ada4 = ada4.predict(X_train)\n",
    "display(accuracy_score(Y_train, ytrain_predict_ada4))\n",
    "ytest_predict_ada4 = ada4.predict(X_test)\n",
    "display(accuracy_score(Y_test, ytest_predict_ada4))"
   ]
  },
  {
   "cell_type": "code",
   "execution_count": null,
   "id": "2010c9fe",
   "metadata": {
    "ExecuteTime": {
     "start_time": "2022-04-23T15:49:14.798Z"
    }
   },
   "outputs": [],
   "source": [
    "df_test14 =df_test.copy()\n",
    "pred =ada4.predict(x_test)\n",
    "df_test14['Overall_Experience'] = pred\n",
    "sample = df_test14[['ID', 'Overall_Experience']]\n",
    "\n",
    "sample.to_csv('sample_14.csv')"
   ]
  },
  {
   "cell_type": "code",
   "execution_count": null,
   "id": "2e728847",
   "metadata": {
    "ExecuteTime": {
     "start_time": "2022-04-23T15:49:15.866Z"
    }
   },
   "outputs": [],
   "source": [
    "ada4 = AdaBoostClassifier(base_estimator=rf1, n_estimators=31, learning_rate=1.3, random_state= 0)\n",
    "\n",
    "ada4.fit(X_train, Y_train)\n",
    "ytrain_predict_ada4 = ada4.predict(X_train)\n",
    "display(accuracy_score(Y_train, ytrain_predict_ada4))\n",
    "ytest_predict_ada4 = ada4.predict(X_test)\n",
    "display(accuracy_score(Y_test, ytest_predict_ada4))"
   ]
  },
  {
   "cell_type": "code",
   "execution_count": null,
   "id": "4ad78da4",
   "metadata": {
    "ExecuteTime": {
     "start_time": "2022-04-23T15:49:16.997Z"
    }
   },
   "outputs": [],
   "source": [
    "df_test15 =df_test.copy()\n",
    "pred =ada4.predict(x_test)\n",
    "df_test15['Overall_Experience'] = pred\n",
    "sample = df_test15[['ID', 'Overall_Experience']]\n",
    "\n",
    "sample.to_csv('sample_15.csv')"
   ]
  },
  {
   "cell_type": "code",
   "execution_count": null,
   "id": "af28160f",
   "metadata": {
    "ExecuteTime": {
     "start_time": "2022-04-23T15:49:17.208Z"
    }
   },
   "outputs": [],
   "source": [
    "ada4 = AdaBoostClassifier(base_estimator=rf1, n_estimators=31, learning_rate=1.4, random_state= 0)\n",
    "\n",
    "ada4.fit(X_train, Y_train)\n",
    "ytrain_predict_ada4 = ada4.predict(X_train)\n",
    "display(accuracy_score(Y_train, ytrain_predict_ada4))\n",
    "ytest_predict_ada4 = ada4.predict(X_test)\n",
    "display(accuracy_score(Y_test, ytest_predict_ada4))"
   ]
  },
  {
   "cell_type": "code",
   "execution_count": null,
   "id": "edeb6712",
   "metadata": {
    "ExecuteTime": {
     "start_time": "2022-04-23T15:49:17.374Z"
    }
   },
   "outputs": [],
   "source": [
    "df_test16 =df_test.copy()\n",
    "pred =ada4.predict(x_test)\n",
    "df_test16['Overall_Experience'] = pred\n",
    "sample = df_test16[['ID', 'Overall_Experience']]\n",
    "\n",
    "sample.to_csv('sample_16.csv')"
   ]
  },
  {
   "cell_type": "code",
   "execution_count": null,
   "id": "f8749247",
   "metadata": {
    "ExecuteTime": {
     "start_time": "2022-04-23T15:49:17.497Z"
    }
   },
   "outputs": [],
   "source": [
    "ada4 = AdaBoostClassifier(base_estimator=rf1, n_estimators=31, learning_rate=1.02, random_state= 0)\n",
    "\n",
    "ada4.fit(X_train, Y_train)\n",
    "ytrain_predict_ada4 = ada4.predict(X_train)\n",
    "display(accuracy_score(Y_train, ytrain_predict_ada4))\n",
    "ytest_predict_ada4 = ada4.predict(X_test)\n",
    "display(accuracy_score(Y_test, ytest_predict_ada4))"
   ]
  },
  {
   "cell_type": "code",
   "execution_count": null,
   "id": "6b69fc92",
   "metadata": {
    "ExecuteTime": {
     "start_time": "2022-04-23T15:49:18.493Z"
    }
   },
   "outputs": [],
   "source": [
    "df_test17 =df_test.copy()\n",
    "pred =ada4.predict(x_test)\n",
    "df_test17['Overall_Experience'] = pred\n",
    "sample = df_test17[['ID', 'Overall_Experience']]\n",
    "\n",
    "sample.to_csv('sample_17.csv')"
   ]
  },
  {
   "cell_type": "code",
   "execution_count": null,
   "id": "57f3b7ef",
   "metadata": {
    "ExecuteTime": {
     "start_time": "2022-04-23T15:49:18.707Z"
    }
   },
   "outputs": [],
   "source": [
    "ada4 = AdaBoostClassifier(base_estimator=rf1, n_estimators=31, learning_rate=1.12, random_state= 0)\n",
    "\n",
    "ada4.fit(X_train, Y_train)\n",
    "ytrain_predict_ada4 = ada4.predict(X_train)\n",
    "display(accuracy_score(Y_train, ytrain_predict_ada4))\n",
    "ytest_predict_ada4 = ada4.predict(X_test)\n",
    "display(accuracy_score(Y_test, ytest_predict_ada4))"
   ]
  },
  {
   "cell_type": "code",
   "execution_count": null,
   "id": "6a6dba54",
   "metadata": {
    "ExecuteTime": {
     "start_time": "2022-04-23T15:49:19.683Z"
    }
   },
   "outputs": [],
   "source": [
    "df_test18 =df_test.copy()\n",
    "pred =ada4.predict(x_test)\n",
    "df_test18['Overall_Experience'] = pred\n",
    "sample = df_test18[['ID', 'Overall_Experience']]\n",
    "\n",
    "sample.to_csv('sample_18.csv')"
   ]
  },
  {
   "cell_type": "code",
   "execution_count": null,
   "id": "47f2717d",
   "metadata": {
    "ExecuteTime": {
     "start_time": "2022-04-23T15:49:20.811Z"
    }
   },
   "outputs": [],
   "source": [
    "ada4 = AdaBoostClassifier(base_estimator=rf1, n_estimators=31, learning_rate=1.5, random_state= 0)\n",
    "\n",
    "ada4.fit(X_train, Y_train)\n",
    "ytrain_predict_ada4 = ada4.predict(X_train)\n",
    "display(accuracy_score(Y_train, ytrain_predict_ada4))\n",
    "ytest_predict_ada4 = ada4.predict(X_test)\n",
    "display(accuracy_score(Y_test, ytest_predict_ada4))"
   ]
  },
  {
   "cell_type": "code",
   "execution_count": null,
   "id": "635252d6",
   "metadata": {
    "ExecuteTime": {
     "start_time": "2022-04-23T15:49:21.636Z"
    }
   },
   "outputs": [],
   "source": [
    "df_test19 =df_test.copy()\n",
    "pred =ada4.predict(x_test)\n",
    "df_test19['Overall_Experience'] = pred\n",
    "sample = df_test19[['ID', 'Overall_Experience']]\n",
    "\n",
    "sample.to_csv('sample_19.csv')"
   ]
  },
  {
   "cell_type": "code",
   "execution_count": null,
   "id": "16c400e9",
   "metadata": {
    "ExecuteTime": {
     "start_time": "2022-04-23T15:49:25.135Z"
    }
   },
   "outputs": [],
   "source": [
    "ada4 = AdaBoostClassifier(base_estimator=rf1, n_estimators=31, learning_rate=1.6, random_state= 0)\n",
    "\n",
    "ada4.fit(X_train, Y_train)\n",
    "ytrain_predict_ada4 = ada4.predict(X_train)\n",
    "display(accuracy_score(Y_train, ytrain_predict_ada4))\n",
    "ytest_predict_ada4 = ada4.predict(X_test)\n",
    "display(accuracy_score(Y_test, ytest_predict_ada4))"
   ]
  },
  {
   "cell_type": "code",
   "execution_count": null,
   "id": "0745cc8f",
   "metadata": {
    "ExecuteTime": {
     "start_time": "2022-04-23T15:49:27.271Z"
    }
   },
   "outputs": [],
   "source": [
    "df_test20 =df_test.copy()\n",
    "pred =ada4.predict(x_test)\n",
    "df_test20['Overall_Experience'] = pred\n",
    "sample = df_test20[['ID', 'Overall_Experience']]\n",
    "\n",
    "sample.to_csv('sample_20.csv')"
   ]
  },
  {
   "cell_type": "code",
   "execution_count": 143,
   "id": "0fb0252f",
   "metadata": {
    "ExecuteTime": {
     "end_time": "2022-04-23T10:16:36.350534Z",
     "start_time": "2022-04-23T10:06:01.863798Z"
    }
   },
   "outputs": [
    {
     "data": {
      "text/plain": [
       "0.9997218653563434"
      ]
     },
     "metadata": {},
     "output_type": "display_data"
    },
    {
     "data": {
      "text/plain": [
       "0.9545454545454546"
      ]
     },
     "metadata": {},
     "output_type": "display_data"
    }
   ],
   "source": [
    "ada7 = AdaBoostClassifier(base_estimator=rf1, n_estimators=35, learning_rate=1.0, random_state= 0)\n",
    "\n",
    "ada7.fit(X_train, Y_train)\n",
    "ytrain_predict_ada7 = ada7.predict(X_train)\n",
    "display(accuracy_score(Y_train, ytrain_predict_ada7))\n",
    "ytest_predict_ada7 = ada7.predict(X_test)\n",
    "display(accuracy_score(Y_test, ytest_predict_ada7))"
   ]
  },
  {
   "cell_type": "code",
   "execution_count": 144,
   "id": "b9707a42",
   "metadata": {
    "ExecuteTime": {
     "end_time": "2022-04-23T10:17:23.141658Z",
     "start_time": "2022-04-23T10:16:36.375401Z"
    }
   },
   "outputs": [],
   "source": [
    "df_test21 =df_test.copy()\n",
    "pred =ada7.predict(x_test)\n",
    "df_test21['Overall_Experience'] = pred\n",
    "sample = df_test21[['ID', 'Overall_Experience']]\n",
    "\n",
    "sample.to_csv('sample_21.csv')"
   ]
  },
  {
   "cell_type": "code",
   "execution_count": 145,
   "id": "0687c28a",
   "metadata": {
    "ExecuteTime": {
     "end_time": "2022-04-23T10:33:53.873499Z",
     "start_time": "2022-04-23T10:17:23.375610Z"
    }
   },
   "outputs": [
    {
     "data": {
      "text/plain": [
       "0.9999867554931592"
      ]
     },
     "metadata": {},
     "output_type": "display_data"
    },
    {
     "data": {
      "text/plain": [
       "0.9527442254714982"
      ]
     },
     "metadata": {},
     "output_type": "display_data"
    }
   ],
   "source": [
    "ada4 = AdaBoostClassifier(base_estimator=rf1, n_estimators=30, learning_rate=1.8, random_state= 0)\n",
    "\n",
    "ada4.fit(X_train, Y_train)\n",
    "ytrain_predict_ada4 = ada4.predict(X_train)\n",
    "display(accuracy_score(Y_train, ytrain_predict_ada4))\n",
    "ytest_predict_ada4 = ada4.predict(X_test)\n",
    "display(accuracy_score(Y_test, ytest_predict_ada4))"
   ]
  },
  {
   "cell_type": "code",
   "execution_count": 146,
   "id": "a9264f00",
   "metadata": {
    "ExecuteTime": {
     "end_time": "2022-04-23T10:35:44.917459Z",
     "start_time": "2022-04-23T10:33:53.899599Z"
    }
   },
   "outputs": [],
   "source": [
    "df_test22 =df_test.copy()\n",
    "pred =ada4.predict(x_test)\n",
    "df_test22['Overall_Experience'] = pred\n",
    "sample = df_test22[['ID', 'Overall_Experience']]\n",
    "\n",
    "sample.to_csv('sample_22.csv')"
   ]
  },
  {
   "cell_type": "code",
   "execution_count": 147,
   "id": "54371c0e",
   "metadata": {
    "ExecuteTime": {
     "end_time": "2022-04-23T10:54:52.447761Z",
     "start_time": "2022-04-23T10:35:44.943453Z"
    }
   },
   "outputs": [
    {
     "data": {
      "text/plain": [
       "0.9999867554931592"
      ]
     },
     "metadata": {},
     "output_type": "display_data"
    },
    {
     "data": {
      "text/plain": [
       "0.9525323161686798"
      ]
     },
     "metadata": {},
     "output_type": "display_data"
    }
   ],
   "source": [
    "ada4 = AdaBoostClassifier(base_estimator=rf1, n_estimators=51, learning_rate=1.7, random_state= 0)\n",
    "\n",
    "ada4.fit(X_train, Y_train)\n",
    "ytrain_predict_ada4 = ada4.predict(X_train)\n",
    "display(accuracy_score(Y_train, ytrain_predict_ada4))\n",
    "ytest_predict_ada4 = ada4.predict(X_test)\n",
    "display(accuracy_score(Y_test, ytest_predict_ada4))"
   ]
  },
  {
   "cell_type": "code",
   "execution_count": 148,
   "id": "885d7311",
   "metadata": {
    "ExecuteTime": {
     "end_time": "2022-04-23T10:56:47.626848Z",
     "start_time": "2022-04-23T10:54:52.482370Z"
    }
   },
   "outputs": [],
   "source": [
    "df_test23 =df_test.copy()\n",
    "pred =ada4.predict(x_test)\n",
    "df_test23['Overall_Experience'] = pred\n",
    "sample = df_test23[['ID', 'Overall_Experience']]\n",
    "\n",
    "sample.to_csv('sample_23.csv')"
   ]
  },
  {
   "cell_type": "code",
   "execution_count": 149,
   "id": "fd134d80",
   "metadata": {
    "ExecuteTime": {
     "end_time": "2022-04-23T11:09:27.266675Z",
     "start_time": "2022-04-23T10:56:48.522244Z"
    }
   },
   "outputs": [
    {
     "data": {
      "text/plain": [
       "0.9997615988768658"
      ]
     },
     "metadata": {},
     "output_type": "display_data"
    },
    {
     "data": {
      "text/plain": [
       "0.9548633184996821"
      ]
     },
     "metadata": {},
     "output_type": "display_data"
    }
   ],
   "source": [
    "ada4 = AdaBoostClassifier(base_estimator=rf1, n_estimators=32, learning_rate=1.0, random_state= 0)\n",
    "\n",
    "ada4.fit(X_train, Y_train)\n",
    "ytrain_predict_ada4 = ada4.predict(X_train)\n",
    "display(accuracy_score(Y_train, ytrain_predict_ada4))\n",
    "ytest_predict_ada4 = ada4.predict(X_test)\n",
    "display(accuracy_score(Y_test, ytest_predict_ada4))"
   ]
  },
  {
   "cell_type": "code",
   "execution_count": 150,
   "id": "a91f46ec",
   "metadata": {
    "ExecuteTime": {
     "end_time": "2022-04-23T11:10:46.032619Z",
     "start_time": "2022-04-23T11:09:27.300581Z"
    }
   },
   "outputs": [],
   "source": [
    "df_test24 =df_test.copy()\n",
    "pred =ada4.predict(x_test)\n",
    "df_test24['Overall_Experience'] = pred\n",
    "sample = df_test24[['ID', 'Overall_Experience']]\n",
    "\n",
    "sample.to_csv('sample_24.csv')"
   ]
  },
  {
   "cell_type": "code",
   "execution_count": 151,
   "id": "793cf27d",
   "metadata": {
    "ExecuteTime": {
     "end_time": "2022-04-23T11:27:31.063357Z",
     "start_time": "2022-04-23T11:10:46.049971Z"
    }
   },
   "outputs": [
    {
     "data": {
      "text/plain": [
       "0.9997483543700251"
      ]
     },
     "metadata": {},
     "output_type": "display_data"
    },
    {
     "data": {
      "text/plain": [
       "0.9543865225683408"
      ]
     },
     "metadata": {},
     "output_type": "display_data"
    }
   ],
   "source": [
    "ada5 = AdaBoostClassifier(base_estimator=rf1, n_estimators=22, learning_rate=1.0, random_state= 0)\n",
    "\n",
    "ada5.fit(X_train, Y_train)\n",
    "ytrain_predict_ada5 = ada5.predict(X_train)\n",
    "display(accuracy_score(Y_train, ytrain_predict_ada5))\n",
    "ytest_predict_ada5 = ada5.predict(X_test)\n",
    "display(accuracy_score(Y_test, ytest_predict_ada5))"
   ]
  },
  {
   "cell_type": "code",
   "execution_count": 152,
   "id": "4d56d1bf",
   "metadata": {
    "ExecuteTime": {
     "end_time": "2022-04-23T11:29:50.843756Z",
     "start_time": "2022-04-23T11:27:31.125917Z"
    }
   },
   "outputs": [],
   "source": [
    "df_test25 =df_test.copy()\n",
    "pred =ada5.predict(x_test)\n",
    "df_test25['Overall_Experience'] = pred\n",
    "sample = df_test25[['ID', 'Overall_Experience']]\n",
    "\n",
    "sample.to_csv('sample_25.csv')"
   ]
  },
  {
   "cell_type": "code",
   "execution_count": null,
   "id": "a5cad903",
   "metadata": {},
   "outputs": [],
   "source": []
  }
 ],
 "metadata": {
  "kernelspec": {
   "display_name": "Python 3 (ipykernel)",
   "language": "python",
   "name": "python3"
  },
  "language_info": {
   "codemirror_mode": {
    "name": "ipython",
    "version": 3
   },
   "file_extension": ".py",
   "mimetype": "text/x-python",
   "name": "python",
   "nbconvert_exporter": "python",
   "pygments_lexer": "ipython3",
   "version": "3.9.7"
  }
 },
 "nbformat": 4,
 "nbformat_minor": 5
}
